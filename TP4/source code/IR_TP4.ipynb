{
  "nbformat": 4,
  "nbformat_minor": 0,
  "metadata": {
    "colab": {
      "provenance": [],
      "toc_visible": true,
      "authorship_tag": "ABX9TyPJQ0VeilOadYZvzwEy6q/y",
      "include_colab_link": true
    },
    "kernelspec": {
      "name": "python3",
      "display_name": "Python 3"
    },
    "language_info": {
      "name": "python"
    },
    "gpuClass": "standard"
  },
  "cells": [
    {
      "cell_type": "markdown",
      "metadata": {
        "id": "view-in-github",
        "colab_type": "text"
      },
      "source": [
        "<a href=\"https://colab.research.google.com/github/faisaladisoe/ir-tp/blob/master/TP4/source%20code/IR_TP4.ipynb\" target=\"_parent\"><img src=\"https://colab.research.google.com/assets/colab-badge.svg\" alt=\"Open In Colab\"/></a>"
      ]
    },
    {
      "cell_type": "markdown",
      "source": [
        "# Learning-To-Rank (LETOR) menggunakan LightGBM dan XGBoost"
      ],
      "metadata": {
        "id": "nn9HyBpiBE9g"
      }
    },
    {
      "cell_type": "markdown",
      "source": [
        "# Install Libraries"
      ],
      "metadata": {
        "id": "RqQw4egzjxfG"
      }
    },
    {
      "cell_type": "code",
      "source": [
        "!pip install gensim\n",
        "!pip install lightgbm"
      ],
      "metadata": {
        "colab": {
          "base_uri": "https://localhost:8080/"
        },
        "id": "fwr3G74pRODu",
        "outputId": "53fbb526-c581-4073-9a03-e71e51afec21"
      },
      "execution_count": 1,
      "outputs": [
        {
          "output_type": "stream",
          "name": "stdout",
          "text": [
            "Looking in indexes: https://pypi.org/simple, https://us-python.pkg.dev/colab-wheels/public/simple/\n",
            "Requirement already satisfied: gensim in /usr/local/lib/python3.8/dist-packages (3.6.0)\n",
            "Requirement already satisfied: numpy>=1.11.3 in /usr/local/lib/python3.8/dist-packages (from gensim) (1.21.6)\n",
            "Requirement already satisfied: smart-open>=1.2.1 in /usr/local/lib/python3.8/dist-packages (from gensim) (5.2.1)\n",
            "Requirement already satisfied: scipy>=0.18.1 in /usr/local/lib/python3.8/dist-packages (from gensim) (1.7.3)\n",
            "Requirement already satisfied: six>=1.5.0 in /usr/local/lib/python3.8/dist-packages (from gensim) (1.15.0)\n",
            "Looking in indexes: https://pypi.org/simple, https://us-python.pkg.dev/colab-wheels/public/simple/\n",
            "Requirement already satisfied: lightgbm in /usr/local/lib/python3.8/dist-packages (2.2.3)\n",
            "Requirement already satisfied: numpy in /usr/local/lib/python3.8/dist-packages (from lightgbm) (1.21.6)\n",
            "Requirement already satisfied: scipy in /usr/local/lib/python3.8/dist-packages (from lightgbm) (1.7.3)\n",
            "Requirement already satisfied: scikit-learn in /usr/local/lib/python3.8/dist-packages (from lightgbm) (1.0.2)\n",
            "Requirement already satisfied: joblib>=0.11 in /usr/local/lib/python3.8/dist-packages (from scikit-learn->lightgbm) (1.2.0)\n",
            "Requirement already satisfied: threadpoolctl>=2.0.0 in /usr/local/lib/python3.8/dist-packages (from scikit-learn->lightgbm) (3.1.0)\n"
          ]
        }
      ]
    },
    {
      "cell_type": "code",
      "source": [
        "import os\n",
        "import random\n",
        "import numpy as np\n",
        "import pandas as pd\n",
        "import xgboost as xgb\n",
        "import lightgbm as lgb\n",
        "\n",
        "from gensim.models import FastText\n",
        "from gensim.models import LsiModel\n",
        "from gensim.corpora import Dictionary\n",
        "from scipy.spatial.distance import cosine"
      ],
      "metadata": {
        "id": "tQuv2GVWjzhN"
      },
      "execution_count": 42,
      "outputs": []
    },
    {
      "cell_type": "markdown",
      "source": [
        "# Data Preparation"
      ],
      "metadata": {
        "id": "J7imSHiXFNS4"
      }
    },
    {
      "cell_type": "markdown",
      "source": [
        "## Scraping\n",
        "\n",
        "source: https://www.cl.uni-heidelberg.de/statnlpgroup/nfcorpus/ \\\\\n",
        "download: https://www.cl.uni-heidelberg.de/statnlpgroup/nfcorpus/nfcorpus.tar.gz"
      ],
      "metadata": {
        "id": "tdEPzyi4CdLZ"
      }
    },
    {
      "cell_type": "code",
      "execution_count": 3,
      "metadata": {
        "colab": {
          "base_uri": "https://localhost:8080/"
        },
        "id": "E1HeCv2C_0Ie",
        "outputId": "19297da7-6572-4541-fd1e-955ce4d79615"
      },
      "outputs": [
        {
          "output_type": "stream",
          "name": "stdout",
          "text": [
            "--2022-12-04 06:00:25--  https://www.cl.uni-heidelberg.de/statnlpgroup/nfcorpus/nfcorpus.tar.gz\n",
            "Resolving www.cl.uni-heidelberg.de (www.cl.uni-heidelberg.de)... 147.142.207.78\n",
            "Connecting to www.cl.uni-heidelberg.de (www.cl.uni-heidelberg.de)|147.142.207.78|:443... connected.\n",
            "HTTP request sent, awaiting response... 200 OK\n",
            "Length: 31039523 (30M) [application/x-gzip]\n",
            "Saving to: ‘data/nfcorpus.tar.gz’\n",
            "\n",
            "nfcorpus.tar.gz     100%[===================>]  29.60M  14.8MB/s    in 2.0s    \n",
            "\n",
            "2022-12-04 06:00:29 (14.8 MB/s) - ‘data/nfcorpus.tar.gz’ saved [31039523/31039523]\n",
            "\n",
            "nfcorpus/\n",
            "nfcorpus/train.docs\n",
            "nfcorpus/test.docs\n",
            "nfcorpus/dev.docs\n",
            "nfcorpus/dev.3-2-1.qrel\n",
            "nfcorpus/test.3-2-1.qrel\n",
            "nfcorpus/train.3-2-1.qrel\n",
            "nfcorpus/raw/\n",
            "nfcorpus/raw/doc_dump.txt\n",
            "nfcorpus/raw/dev.docs.ids\n",
            "nfcorpus/raw/dev.queries.ids\n",
            "nfcorpus/raw/test.docs.ids\n",
            "nfcorpus/raw/test.queries.ids\n",
            "nfcorpus/raw/train.docs.ids\n",
            "nfcorpus/raw/train.queries.ids\n",
            "nfcorpus/raw/stopwords.large\n",
            "nfcorpus/raw/nfdump.txt\n",
            "nfcorpus/raw/all_videos.ids\n",
            "nfcorpus/raw/nontopics.ids\n",
            "nfcorpus/test.2-1-0.qrel\n",
            "nfcorpus/dev.2-1-0.qrel\n",
            "nfcorpus/train.2-1-0.qrel\n",
            "nfcorpus/ecir2016.bib\n",
            "nfcorpus/test.vid-desc.queries\n",
            "nfcorpus/dev.vid-desc.queries\n",
            "nfcorpus/train.vid-desc.queries\n",
            "nfcorpus/dev.all.queries\n",
            "nfcorpus/test.all.queries\n",
            "nfcorpus/train.all.queries\n",
            "nfcorpus/dev.vid-titles.queries\n",
            "nfcorpus/test.vid-titles.queries\n",
            "nfcorpus/train.vid-titles.queries\n",
            "nfcorpus/dev.titles.queries\n",
            "nfcorpus/test.titles.queries\n",
            "nfcorpus/train.titles.queries\n",
            "nfcorpus/dev.nontopic-titles.queries\n",
            "nfcorpus/test.nontopic-titles.queries\n",
            "nfcorpus/train.nontopic-titles.queries\n",
            "nfcorpus/README.txt\n"
          ]
        }
      ],
      "source": [
        "!wget -c https://www.cl.uni-heidelberg.de/statnlpgroup/nfcorpus/nfcorpus.tar.gz -P data\n",
        "!tar -xvf data/nfcorpus.tar.gz"
      ]
    },
    {
      "cell_type": "markdown",
      "source": [
        "**Combination for training purposes:**\n",
        "\n",
        "\n",
        "1.   nfcorpus/train.docs\n",
        "2.   nfcorpus/train.3-2-1.qrel\n",
        "3.   nfcorpus/train.vid-desc.queries\n",
        "\n",
        "**Combination for optimizing purposes:**\n",
        "\n",
        "1.   nfcorpus/dev.docs\n",
        "2.   nfcorpus/dev.3-2-1.qrel\n",
        "3.   nfcorpus/dev.vid-desc.queries\n",
        "\n",
        "**Combination for testing purposes:**\n",
        "\n",
        "1.   nfcorpus/test.docs\n",
        "2.   nfcorpus/test.3-2-1.qrel\n",
        "3.   nfcorpus/test.vid-desc.queries"
      ],
      "metadata": {
        "id": "jbgnjr-qECK7"
      }
    },
    {
      "cell_type": "markdown",
      "source": [
        "## Preprocessing"
      ],
      "metadata": {
        "id": "L5-j8ChAFZsD"
      }
    },
    {
      "cell_type": "code",
      "source": [
        "!head -10 nfcorpus/train.docs"
      ],
      "metadata": {
        "colab": {
          "base_uri": "https://localhost:8080/"
        },
        "id": "beKpWGeWIl0f",
        "outputId": "7a998462-347d-4b4e-e0fb-4c23518288a5"
      },
      "execution_count": 4,
      "outputs": [
        {
          "output_type": "stream",
          "name": "stdout",
          "text": [
            "MED-10\tstatin breast cancer survival nationwide cohort study finland abstract recent studies suggested statins established drug group prevention cardiovascular mortality delay prevent breast cancer recurrence effect disease-specific mortality remains unclear evaluated risk breast cancer death statin users population-based cohort breast cancer patients study cohort included newly diagnosed breast cancer patients finland num num num cases identified finnish cancer registry information statin diagnosis obtained national prescription database cox proportional hazards regression method estimate mortality statin users statin time-dependent variable total num participants statins median follow-up num years diagnosis range num num years num participants died num num due breast cancer adjustment age tumor characteristics treatment selection post-diagnostic pre-diagnostic statin lowered risk breast cancer death hr num num ci num num hr num num ci num num risk decrease post-diagnostic statin affected healthy adherer bias greater likelihood dying cancer patients discontinue statin association dose-dependent observed low-dose/short-term dose time-dependence survival benefit pre-diagnostic statin users suggests causal effect evaluated clinical trial testing statins effect survival breast cancer patients \n",
            "MED-14\tstatin diagnosis breast cancer survival population-based cohort study pubmed ncbi abstract background preclinical studies shown statins simvastatin prevent growth breast cancer cell lines animal models investigated statins breast cancer diagnosis reduced risk breast cancer-specific all-cause mortality large cohort breast cancer patients methods cohort num breast cancer patients newly diagnosed num num identified english cancer registries national cancer data repository cohort linked uk clinical practice research datalink providing prescription records office national statistics mortality data num identifying num deaths including num deaths attributable breast cancer unadjusted adjusted hazard ratios hrs breast cancer-specific all-cause mortality statin users breast cancer diagnosis calculated time-dependent cox regression models sensitivity analyses conducted multiple imputation methods propensity score methods case-control approach results evidence statin diagnosis breast cancer reduced mortality due breast cancer fully adjusted hr num num confidence interval num num num num num associations marked simvastatin num num num num num num conclusions large population-based breast cancer cohort evidence reduced mortality statin users breast cancer diagnosis associations weak magnitude attenuated sensitivity analyses \n",
            "MED-118\talkylphenols human milk relations dietary habits central taiwan pubmed ncbi abstract aims study determine concentrations num nonylphenol np num octylphenol op num human milk samples examine related factors including mothers demographics dietary habits women consumed median amount cooking oil significantly higher op concentrations num ng/g consumed num ng/g num op concentration significantly consumption cooking oil beta num num fish oil capsules beta num num adjustment age body mass index bmi np concentration significantly consumption fish oil capsules beta num num processed fish products beta num num food pattern cooking oil processed meat products factor analysis strongly op concentration human milk num determinations aid suggesting foods consumption nursing mothers order protect infants np/op exposure num elsevier rights reserved \n",
            "MED-301\tmethylmercury potential environmental risk factor contributing epileptogenesis abstract epilepsy seizure disorder common neurological diseases humans genetic mutations ion channels receptors risk factors brain injury linked epileptogenesis underlying majority epilepsy cases remains unknown gene-environment interactions thought play critical role etiology epilepsy exposure environmental chemicals important risk factor methylmercury mehg prominent environmental neurotoxicant targets primarily central nervous system cns patients animals acute chronic mehg poisoning display epileptic seizures show increased susceptibility seizures suggesting mehg exposure epileptogenesis mini-review highlights effects mehg exposure developmental exposure susceptibility humans animals seizures discusses potential role low level mehg exposure epileptogenesis review proposes preferential effect mehg inhibitory gabaergic system leading disinhibition excitatory glutamatergic function potential mechanisms underlying mehg-induced seizure susceptibility \n",
            "MED-306\tsensitivity continuous performance test cpt age num years developmental methylmercury exposure abstract hit reaction time latencies hrt continuous performance test cpt measure speed visual information processing latencies involve neuropsychological functions depending time test initiation i e orientation learning habituation cognitive processing focused attention finally sustained attention dominant demand prenatal methylmercury exposure increased reaction time rt latencies examined association methylmercury exposure average hrt age num years time intervals test initiation total num adolescents num birth cohort members completed cpt rt latencies recorded num minutes visual targets presented num ms intervals confounder adjustment regression coefficients showed cpt-rt outcomes differed associations exposure biomarkers prenatal methylmercury exposure minutes average hrt weakly methylmercury beta se ten-fold increase exposure num num strongly num num minute interval num num strongest num num minutes test initiation num num pattern unchanged simple reaction time finger tapping speed included models covariates postnatal methylmercury exposures affect outcomes findings suggest sustained attention neuropsychological domain vulnerable developmental methylmercury exposure indicating probable underlying dysfunction frontal lobes cpt data measure neurotoxicity test results analyzed regard time test initiation average reaction times \n",
            "MED-329\tphosphate vascular toxin pubmed ncbi abstract elevated phosphate levels advanced renal failure dysregulated calcium parathyroid hormone vitamin levels contribute complex chronic kidney disease-mineral bone disease ckd-mbd converging evidence vitro clinical epidemiological studies suggest increased vascular calcification mortality vessels exposed high conditions vitro develop apoptosis convert bone-like cells develop extensive calcification clinical studies children dialysis show high increased vessel wall thickness arterial stiffness coronary calcification epidemiological studies adult dialysis patients demonstrate significant independent association raised mortality importantly raised cardiovascular pre-dialysis ckd subjects normal renal function high binders effectively reduce serum decrease linked improved survival raised serum triggers release fibroblast growth factor num fgf num beneficial effect increasing excretion early ckd increased num fold dialysis independent cardiovascular risk factor fgf num co-receptor klotho direct effects vasculature leading calcification fascinatingly disturbances fgf num klotho raised premature aging data suggest high levels adverse vascular effects maintaining serum levels normal range reduces cardiovascular risk mortality \n",
            "MED-330\tdietary phosphorus acutely impairs endothelial function abstract excessive dietary phosphorus increase cardiovascular risk healthy individuals patients chronic kidney disease mechanisms underlying risk completely understood determine postprandial hyperphosphatemia promote endothelial dysfunction investigated acute effect phosphorus loading endothelial function vitro vivo exposing bovine aortic endothelial cells phosphorus load increased production reactive oxygen species depended phosphorus influx sodium-dependent phosphate transporters decreased nitric oxide production inhibitory phosphorylation endothelial nitric oxide synthase phosphorus loading inhibited endothelium-dependent vasodilation rat aortic rings num healthy men alternately served meals num mg num mg phosphorus double-blind crossover study measured flow-mediated dilation brachial artery num meals high dietary phosphorus load increased serum phosphorus num significantly decreased flow-mediated dilation flow-mediated dilation correlated inversely serum phosphorus findings suggest endothelial dysfunction mediated acute postprandial hyperphosphatemia contribute relationship serum phosphorus level risk cardiovascular morbidity mortality \n",
            "MED-332\tpublic health impact dietary phosphorus excess bone cardiovascular health general population pubmed ncbi abstract review explores potential adverse impact increasing phosphorus content american diet renal cardiovascular bone health general population increasingly studies show phosphorus intakes excess nutrient healthy population significantly disrupt hormonal regulation phosphate calcium vitamin contributes disordered mineral metabolism vascular calcification impaired kidney function bone loss large epidemiologic studies suggest mild elevations serum phosphate normal range cardiovascular disease cvd risk healthy populations evidence kidney disease studies linked high dietary phosphorus intake mild serum phosphate nature study design inaccuracies nutrient composition databases phosphorus essential nutrient excess linked tissue damage variety mechanisms involved endocrine regulation extracellular phosphate specifically secretion action fibroblast growth factor num parathyroid hormone disordered regulation hormones high dietary phosphorus key factors contributing renal failure cvd osteoporosis systematically underestimated national surveys phosphorus intake seemingly continues increase result growing consumption highly processed foods restaurant meals fast foods convenience foods increased cumulative ingredients phosphorus food processing merits study shown potential toxicity phosphorus intake exceeds nutrient \n",
            "MED-334\tdifferences total vitro digestible phosphorus content plant foods beverages pubmed ncbi abstract objective plant foods grain products legumes seeds important sources phosphorus current data content absorbability foods lacking measurement vitro digestible dp content foods reflect absorbability objective study measure total phosphorus tp dp contents selected foods compare amounts tp dp proportion dp tp foods methods tp dp content num foods drinks plant origin measured inductively coupled plasma optical emission spectrometry dp analysis samples digested enzymatically principle alimentary canal analyses popular national brands chosen analysis results highest amount tp num mg num found sesame seeds hull lowest percentage dp num tp cola drinks beer percentage dp tp num num num mg num cereal products highest tp content num mg num dp proportion num present industrial muffins sodium phosphate leavening agent legumes contained average dp content num mg num num tp conclusion absorbability differ substantially plant foods high tp content legumes poor source foods phosphate additives proportion dp high supports previous conclusions effective absorbability additives copyright num national kidney foundation published elsevier rights reserved \n",
            "MED-335\tdifferences total vitro digestible phosphorus content meat milk products pubmed ncbi abstract objective meat milk products important sources dietary phosphorus protein additives common processed cheese meat products measurement vitro digestible phosphorus dp content foods reflect absorbability objective study measure total phosphorus tp dp contents selected meat milk products compare amounts tp dp proportion dp tp foods methods tp dp contents num meat milk products measured inductively coupled plasma optical emission spectrometry icp-oes dp analysis samples digested enzymatically principle alimentary canal analyses popular national brands meat milk products chosen analysis results highest tp dp contents found processed hard cheeses lowest milk cottage cheese tp dp contents sausages cold cuts lower cheeses chicken pork beef rainbow trout contained similar amounts tp slightly variation found dp contents conclusions foods additives high content dp study confirms cottage cheese unenhanced meats choices processed hard cheeses sausages cold cuts chronic kidney disease patients based lower p-to-protein ratios sodium contents results support previous findings absorbability foods animal origin legumes copyright num national kidney foundation published elsevier rights reserved \n"
          ]
        }
      ]
    },
    {
      "cell_type": "code",
      "source": [
        "!head -10 nfcorpus/train.vid-desc.queries"
      ],
      "metadata": {
        "colab": {
          "base_uri": "https://localhost:8080/"
        },
        "id": "1HOhVGAsGE8w",
        "outputId": "5fb1ebbf-f88d-413c-a3b3-614280de40e3"
      },
      "execution_count": 5,
      "outputs": [
        {
          "output_type": "stream",
          "name": "stdout",
          "text": [
            "PLAIN-2427\tdiet and exercise synergize to improve endothelial function , the ability of our arteries to relax normally .\n",
            "PLAIN-2428\tthe parable of the tiny parachute explains the study that found no relationship between dietary fiber intake and diverticulosis .\n",
            "PLAIN-2431\tpbde fire retardant chemicals in the food supply may contribute to attention and cognitive deficits in children .\n",
            "PLAIN-2432\tpeppermint essential oil should be considered the first-line treatment for ibs .\n",
            "PLAIN-2433\tthe reversal of blindness due to hypertension and diabetes with dr. kempner ’ s rice and fruit diet demonstrates the power of diet to exceed the benefits of the best modern medicine and surgery has to offer .\n",
            "PLAIN-2434\tsquatting and leaning can help straighten the anorectal angle , but a healthy enough diet should make bowel movements effortless regardless of positioning .\n",
            "PLAIN-2435\tmost people have between 3 bowel movements a day and 3 a week , but normal doesn ’ t necessarily mean optimal .\n",
            "PLAIN-2436\tlifestyle changes are often more effective in reducing the rates of heart disease , hypertension , heart failure , stroke , cancer , diabetes , and premature death than almost any other medical intervention .\n",
            "PLAIN-2437\twhat happened when the world health organization had the gall to recommend a diet low in saturated fat , sugar , and salt and high in fruit and vegetables ?\n",
            "PLAIN-2438\tsaturated fat can be toxic to the insulin-producing beta cells in the pancreas , explaining why animal fat consumption can impair insulin secretion , not just insulin sensitivity .\n"
          ]
        }
      ]
    },
    {
      "cell_type": "code",
      "source": [
        "!head -10 nfcorpus/train.3-2-1.qrel"
      ],
      "metadata": {
        "colab": {
          "base_uri": "https://localhost:8080/"
        },
        "id": "WjPtVKEEi6Va",
        "outputId": "dd8d19b8-1fb9-4142-a00a-49a14d3861b3"
      },
      "execution_count": 6,
      "outputs": [
        {
          "output_type": "stream",
          "name": "stdout",
          "text": [
            "PLAIN-3\t0\tMED-2436\t3\n",
            "PLAIN-3\t0\tMED-2437\t3\n",
            "PLAIN-3\t0\tMED-2438\t3\n",
            "PLAIN-3\t0\tMED-2439\t3\n",
            "PLAIN-3\t0\tMED-2440\t3\n",
            "PLAIN-3\t0\tMED-2427\t2\n",
            "PLAIN-3\t0\tMED-2428\t2\n",
            "PLAIN-3\t0\tMED-2429\t2\n",
            "PLAIN-3\t0\tMED-2430\t2\n",
            "PLAIN-3\t0\tMED-2431\t2\n"
          ]
        }
      ]
    },
    {
      "cell_type": "markdown",
      "source": [
        "### Mapping"
      ],
      "metadata": {
        "id": "wrVkdVnuFbiv"
      }
    },
    {
      "cell_type": "markdown",
      "source": [
        "#### Variable Initialization"
      ],
      "metadata": {
        "id": "LPElbrxa-8nM"
      }
    },
    {
      "cell_type": "code",
      "source": [
        "docs = {}\n",
        "queries = {}\n",
        "qrels = {}\n",
        "dataset = {}\n",
        "query_num_of_docs_each_type = {}"
      ],
      "metadata": {
        "id": "3i0LZ-pWFuvx"
      },
      "execution_count": 7,
      "outputs": []
    },
    {
      "cell_type": "markdown",
      "source": [
        "#### Document dataset"
      ],
      "metadata": {
        "id": "jolqqJNvGtJH"
      }
    },
    {
      "cell_type": "code",
      "source": [
        "def map_docs(type_of_docs):\n",
        "  temporary_map = {}\n",
        "  with open(f'nfcorpus/{type_of_docs}.docs', 'r') as file:\n",
        "    for line in file:\n",
        "      doc_id, content = line.split('\\t')\n",
        "      temporary_map[doc_id] = [item for item in content.split() if item.isalnum()]\n",
        "  docs[type_of_docs] = temporary_map"
      ],
      "metadata": {
        "id": "0FnaGYbDEzIX"
      },
      "execution_count": 8,
      "outputs": []
    },
    {
      "cell_type": "markdown",
      "source": [
        "#### Query dataset"
      ],
      "metadata": {
        "id": "b7r009hPHu71"
      }
    },
    {
      "cell_type": "code",
      "source": [
        "def map_queries(type_of_docs):\n",
        "  temporary_map = {}\n",
        "  with open(f'nfcorpus/{type_of_docs}.vid-desc.queries', 'r') as file:\n",
        "    for line in file:\n",
        "      query_id, content = line.split('\\t')\n",
        "      temporary_map[query_id] = [item for item in content.split() if item.isalnum()]\n",
        "  queries[type_of_docs] = temporary_map"
      ],
      "metadata": {
        "id": "A-BDV4RDHw0c"
      },
      "execution_count": 9,
      "outputs": []
    },
    {
      "cell_type": "markdown",
      "source": [
        "#### Query Relevance dataset"
      ],
      "metadata": {
        "id": "V7LPihkO2f8o"
      }
    },
    {
      "cell_type": "code",
      "source": [
        "def map_qrels(type_of_docs):\n",
        "  temporary_map = {}\n",
        "  with open(f'nfcorpus/{type_of_docs}.3-2-1.qrel', 'r') as file:\n",
        "    for line in file:\n",
        "      query_id, _, doc_id, qrel = line.split('\\t')\n",
        "      if (query_id in queries[type_of_docs]) and (doc_id in docs[type_of_docs]):\n",
        "        try:\n",
        "          temporary_map[query_id].append((doc_id, int(qrel)))\n",
        "        except:\n",
        "          temporary_map[query_id] = []\n",
        "          temporary_map[query_id].append((doc_id, int(qrel)))\n",
        "  qrels[type_of_docs] = temporary_map"
      ],
      "metadata": {
        "id": "C5iu665i2lrE"
      },
      "execution_count": 10,
      "outputs": []
    },
    {
      "cell_type": "markdown",
      "source": [
        "#### Count number of docs in each query"
      ],
      "metadata": {
        "id": "rNfVsBBn5wnQ"
      }
    },
    {
      "cell_type": "code",
      "source": [
        "def map_qid_num_of_docs(type_of_docs):\n",
        "  query_num_of_docs = []\n",
        "  combination_qid_did_qrel = []\n",
        "  for query_id in qrels[type_of_docs]:\n",
        "    content = qrels[type_of_docs][query_id]\n",
        "    # Normalization step if length of docs is zero\n",
        "    query_num_of_docs.append(len(content) + 1)\n",
        "    for doc_id, qrel in content:\n",
        "      combination_qid_did_qrel.append((queries[type_of_docs][query_id], docs[type_of_docs][doc_id], qrel))\n",
        "    # Handle if length of docs is zero\n",
        "    combination_qid_did_qrel.append((queries[type_of_docs][query_id], random.choice(list(docs[type_of_docs].values())), 0))\n",
        "  dataset[type_of_docs] = combination_qid_did_qrel\n",
        "  query_num_of_docs_each_type[type_of_docs] = query_num_of_docs"
      ],
      "metadata": {
        "id": "oZ0B5O6M7e9q"
      },
      "execution_count": 11,
      "outputs": []
    },
    {
      "cell_type": "markdown",
      "source": [
        "#### Execution"
      ],
      "metadata": {
        "id": "qxyElZ93G1_8"
      }
    },
    {
      "cell_type": "code",
      "source": [
        "whole_set = ['train', 'dev', 'test']\n",
        "for item in whole_set:\n",
        "  map_docs(item)\n",
        "  map_queries(item)\n",
        "  map_qrels(item)\n",
        "  map_qid_num_of_docs(item)"
      ],
      "metadata": {
        "id": "Wq3a_gaJG1qF"
      },
      "execution_count": 12,
      "outputs": []
    },
    {
      "cell_type": "markdown",
      "source": [
        "# Building Word Vectors"
      ],
      "metadata": {
        "id": "bUiuZWHj1Uuy"
      }
    },
    {
      "cell_type": "markdown",
      "source": [
        "## Initialize Variable"
      ],
      "metadata": {
        "id": "kjxcUEfKRnTx"
      }
    },
    {
      "cell_type": "code",
      "source": [
        "os.makedirs('./models', exist_ok = True)\n",
        "os.makedirs('./models/lsia', exist_ok = True)\n",
        "os.makedirs('./models/fasttext', exist_ok = True)"
      ],
      "metadata": {
        "id": "KYnRiR8xVbek"
      },
      "execution_count": 13,
      "outputs": []
    },
    {
      "cell_type": "code",
      "source": [
        "dictionaries = {}\n",
        "LSIA_models = {}\n",
        "FT_models = {}"
      ],
      "metadata": {
        "id": "uz3K5lRhg41P"
      },
      "execution_count": 14,
      "outputs": []
    },
    {
      "cell_type": "markdown",
      "source": [
        "## Term-Document Matrix (LSI/LSA)"
      ],
      "metadata": {
        "id": "UHt2Vgrz1YJd"
      }
    },
    {
      "cell_type": "code",
      "source": [
        "def td_matrix_lsia(type_of_docs):\n",
        "  NUM_LATENT_TOPIC = 250\n",
        "  lsia_dictionary = Dictionary()\n",
        "  lsia_bow_corpus = [lsia_dictionary.doc2bow(doc, allow_update = True) for doc in docs[type_of_docs].values()]\n",
        "  lsia_model = LsiModel(lsia_bow_corpus, num_topics = NUM_LATENT_TOPIC)\n",
        "  dictionaries[type_of_docs] = lsia_dictionary\n",
        "  lsia_model.save(f'./models/lsia/{type_of_docs}-{NUM_LATENT_TOPIC}.model')"
      ],
      "metadata": {
        "id": "0CqtG6949FKs"
      },
      "execution_count": 15,
      "outputs": []
    },
    {
      "cell_type": "markdown",
      "source": [
        "## Term-Context Matrix (FastText)"
      ],
      "metadata": {
        "id": "1qSjozix1bDA"
      }
    },
    {
      "cell_type": "code",
      "source": [
        "def tc_matrix_fasttext(type_of_docs):\n",
        "  VEC_SIZE = 125\n",
        "  fasttext_corpus = [doc for doc in docs[type_of_docs].values()]\n",
        "  fasttext_model = FastText(sg = 1)\n",
        "  fasttext_model.build_vocab(fasttext_corpus)\n",
        "  fasttext_model.train(fasttext_corpus, model = 'skipgram', vector_size=VEC_SIZE, total_examples = fasttext_model.corpus_count, epochs = 25)\n",
        "  fasttext_model.save(f'./models/fasttext/{type_of_docs}-{VEC_SIZE}.model')"
      ],
      "metadata": {
        "id": "ZlMhx9y8AVJ_"
      },
      "execution_count": 16,
      "outputs": []
    },
    {
      "cell_type": "markdown",
      "source": [
        "## Execution"
      ],
      "metadata": {
        "id": "xy88LjIN_SbE"
      }
    },
    {
      "cell_type": "code",
      "source": [
        "whole_set = ['train', 'dev', 'test']\n",
        "for item in whole_set:\n",
        "  td_matrix_lsia(item)\n",
        "  LSIA_models[item] = LsiModel.load(f'./models/lsia/{item}-250.model')\n",
        "  tc_matrix_fasttext(item)\n",
        "  FT_models[item] = FastText.load(f'./models/fasttext/{item}-125.model')"
      ],
      "metadata": {
        "colab": {
          "base_uri": "https://localhost:8080/"
        },
        "id": "NfOy0Hhy_TpB",
        "outputId": "c23d5806-5cc0-484e-bb5c-0d040aacdef9"
      },
      "execution_count": 17,
      "outputs": [
        {
          "output_type": "stream",
          "name": "stderr",
          "text": [
            "WARNING:gensim.models.lsimodel:no word id mapping provided; initializing from corpus, assuming identity\n",
            "WARNING:gensim.models.lsimodel:no word id mapping provided; initializing from corpus, assuming identity\n",
            "WARNING:gensim.models.lsimodel:no word id mapping provided; initializing from corpus, assuming identity\n"
          ]
        }
      ]
    },
    {
      "cell_type": "markdown",
      "source": [
        "## Term-Document Vector Representation"
      ],
      "metadata": {
        "id": "V-HB1jXUcFpn"
      }
    },
    {
      "cell_type": "code",
      "source": [
        "def td_vector_rep(array, type_of_docs):\n",
        "  dictionary = dictionaries[type_of_docs]\n",
        "  lsia_model = LSIA_models[type_of_docs]\n",
        "  representation = [topic_value for (_, topic_value) in lsia_model[dictionary.doc2bow(array)]]\n",
        "  return representation if len(representation) == 250 else [0.] * 250"
      ],
      "metadata": {
        "id": "8zRZtkcRcJxE"
      },
      "execution_count": 18,
      "outputs": []
    },
    {
      "cell_type": "code",
      "source": [
        "print(td_vector_rep(docs['train'][\"MED-329\"], 'train'))\n",
        "print(td_vector_rep(queries['train'][\"PLAIN-2435\"], 'train'))"
      ],
      "metadata": {
        "colab": {
          "base_uri": "https://localhost:8080/"
        },
        "id": "f9xJnoU5crzz",
        "outputId": "5e6d5359-8709-4b13-80c3-e43e2beba6fe"
      },
      "execution_count": 19,
      "outputs": [
        {
          "output_type": "stream",
          "name": "stdout",
          "text": [
            "[5.921538401607114, 3.1465016463689164, -2.6088592386504272, 0.676589508285761, -1.776701542572881, -2.420750848036928, -1.4295160417868886, -0.4883067734947725, -0.3430109190629869, -1.3695277974780877, 0.7181170013456368, -0.5637004642763289, -1.6761414408487836, -0.24145301297474464, 1.7369916747306118, -0.6902350463817528, 0.776844060134116, 1.0486426336920072, 0.9781161431716745, -1.0451598539528528, 0.1037759438771572, 1.8148887288638629, -1.570852064788117, -1.5845461691360871, 0.5343039258567022, 0.21710539166408538, 1.7199676520445641, -0.05649545301721492, -0.1594462828550908, 0.5019793173113957, -0.11615211741949501, 0.9048618358789069, 1.2680409622968374, 1.6020538970908178, 1.2823754793859035, 0.39781147174841275, 0.7399698904024125, -1.936413096866833, 1.3107080871190497, -0.05766444218632007, 1.476558890981695, -0.21183060834089434, -0.04266984019489774, 0.34742454818034757, -0.463328571172394, 1.3670690410818653, 0.8777224765929399, 0.812867693249457, 0.8301760520281187, 0.4970733395600902, -1.3149173678883255, 0.8693674176915558, -0.2171828238780601, -0.9031983014876566, -1.1966584767109882, -0.2620001654458877, 0.6108286114364532, 0.566849457239269, -0.11955781285127563, -0.8528926504841652, 0.3774672232218905, 0.16747227697972453, 0.6376574555507336, -1.0355672396682878, -0.41966668243563343, -1.3567085252787747, -0.6534180363671167, -0.20643535371841204, -0.9828380217742614, -0.2501434831568833, 1.0116264124742596, -0.556737690067896, -0.7967908247502734, 0.805427173083536, 0.2129532780419756, -0.002197458728387613, 0.16523523740721618, -0.656683684534068, -0.08836441429904937, 1.3869818721855345, 0.07547546218528443, 0.010388591426227327, -0.07669000924666662, 0.5423919367434707, 0.9052153779175512, 0.71204721299484, -0.830281522435698, 0.03615018415299205, -0.6137069648742587, -0.34603844586122934, -0.4080325433673565, 0.7533154170862547, 0.34596468771445676, 0.6032425890712947, 0.41130318114320313, 0.5526458222518338, -0.5474702198440726, 0.20593446782556962, 0.5655852324239334, -0.3334857132522467, -0.5639243348477448, 0.25515899473732556, 0.8754900316847942, -0.08187338413858682, 0.3028387025826591, -0.15412161483405448, 0.09967756766662533, -0.27868178410141653, 0.3771895395989827, -0.10622455165542595, -0.34323714038123965, 0.5567931312493346, -0.45671283766848164, 0.34801389926387166, -0.4872957153600223, -0.3871516663821012, 0.8500963793148031, 1.0242203604355022, 0.25883252150599373, -0.32750028296943434, 0.6946361951828158, 0.036753820530247845, 0.07383048550825917, -0.1437924754931839, -0.6024739967833702, -0.2140935923237512, 0.30379283065734225, -0.2315704503639348, 0.2363629617664616, -0.23115410046634194, 0.01850076388464807, -0.3061560601863844, 0.4867904688610927, -0.31639766572577044, -0.32147283023160006, -0.06764475847811273, -0.4184688401015199, 0.474486409339555, 0.22886135320945328, -0.679596562406303, 0.21577505570776248, -0.084030608083909, 0.6388209441266839, 0.1768601717824952, 0.25908069503387726, 0.6766137585092016, -0.217388896194668, 0.2528769052356941, 0.11338526663328331, -0.27500288477957174, 0.4982478346579018, 0.22439018273443623, -0.2285702667109465, -0.23917184326725122, -0.022509873917923147, -0.37411192946877286, 0.4862427543871826, -0.31553675926848807, 0.23668258149437793, 0.011321410784199522, -0.26654909778577884, 0.009559155296534318, -0.0034904479374669984, -0.6715698003783382, -0.11857831684806956, -0.29198684355604104, -0.021737004310285763, 1.0385083655027347, 0.02923335677673027, -0.15016406992540385, 0.4294422561207792, 0.18172258697005939, -0.2882522869937807, -0.44381606779489613, -0.16644966389082103, -0.1318978308070947, 0.3420560443173609, -0.04013713827603372, -0.05385982917677514, -0.33537274818550783, 0.06580547691106625, -0.45956109244382015, -0.030408959806894394, 0.4201697917732483, 0.4842455129550894, -0.425051276259059, -0.28124841158908837, -0.0455961698140238, 0.12402007687138596, -0.5491060256107281, 0.20967639287646864, 0.009186570813772303, 0.40788204305757425, 0.607912110876516, -0.049494539236360095, 0.579671375943779, 0.35079901493401056, -0.32644662428953486, 0.07712538300405068, 0.39802276014529425, 0.04650046336124964, 0.07739337292295642, -0.5692647520416046, -0.0621742860503675, -0.07532127025751358, 0.2246046719738456, -0.5529211774367816, -0.9236525579263704, 0.0618190653691013, -0.06073089356318067, -0.1557802953002055, 0.5483539695411129, -0.26534998561885254, 0.3800934861745829, 0.5688425928907713, -0.3847742487396591, -0.013164825299714848, -0.28169302230623483, 0.012046711472376875, 0.055589304355984255, -0.44659822136556554, 0.47918602766343305, 0.1052463321767228, 0.8331722363737464, 0.6121505991481975, -0.5774920015013008, 0.29584990296038105, 0.8681306807834848, -0.06558800811247462, -0.43739550513782255, -0.04059817452150488, 0.43472723826163856, 0.137907444369203, -0.3241985184956621, -0.17008498296334393, 0.23898661692490375, 0.6976737352543512, -0.02815320398343337, 0.07817002497448164, 0.23111266124399898, 0.03920834663725391, 0.4351837790734041, 0.07028887722508284, -0.6959587285898713, -0.030894241580259878, 0.12105349014536851, -0.19560348765558397, 0.05303134008856407, 0.3128946291836521, -0.7860320442378904]\n",
            "[0.025451689949344287, 0.04309771041041802, -0.12537989804407534, 0.04315863262498633, -0.039164566223094444, 0.03163713663850778, 0.03464590103919616, -0.05300424274569044, 0.01475776128999544, -0.018862230206370303, 0.0516712209735417, -0.013477454870978019, 0.06128919600003425, 0.027309801321100086, -0.006644810139752758, -0.03905249223302294, -0.013793142110491393, -0.0063155503471735075, 0.11170659360126836, -0.07063209433207589, 0.018022923409009815, -0.10924593103416878, 0.0911532307592524, 0.025554337771625524, -0.009800536884417474, -0.13087868077736217, 0.03592925740669334, -0.08050874745692035, 0.029505323716514716, -0.08522358925631256, 0.05734790364619076, 0.03549658255957951, -0.05660175873112343, 0.009032536707629879, 0.07402012589871436, 0.21355848980127703, -0.02682771266507823, 0.03957979234428826, 0.13337138873963827, 0.03639924502915309, 0.022157130396209253, 0.07156988835633031, -0.0615807027523867, -0.0671563216101075, -0.00936258235325954, -0.014584709445619303, -0.060420475451691255, 0.10977076024889722, 0.04607714369950237, -0.05657132962905158, -0.04177775233617554, -0.0937930512448801, 0.03814739952934797, 0.050373337506512385, 0.17674999279819684, -0.051083629842573114, 0.034760384076001176, -0.09001961077542399, -0.0021557372134341926, -0.05015601496413767, -0.041390916864912065, 0.016661390009291215, 0.021832515767693742, -0.08889437420862989, -0.2316629952219035, -0.04588198701129221, 0.08164410546539934, -0.014083972297426197, -0.02467939375196916, 0.08775968413478219, -0.0629690418468707, 0.16886183664943025, 0.10089164407423928, 0.00245733967901218, -0.09129747711858013, -0.1199266335418266, 0.0635433701513171, -0.03633884119009093, -0.06192766155397616, 0.05131746669040521, -0.02502218369748827, 0.06998020904045739, 0.12872997614522522, 0.15610510493521917, 0.09453610851196047, -0.04148457794743664, -0.007396859294822511, -0.005323977176974208, -0.049083329961990836, -0.037937530723342855, -0.0005517678361770669, -0.026761704167094204, -0.02733419632515114, -0.2806281772085055, 0.05128123490286131, -0.08054499063567383, 0.14666327007235125, -0.03560871702323129, 0.012837036969540644, 0.03853191905348431, 0.05329770595915134, -0.08476785237371785, 0.01238418549879637, -0.04958268006464843, 0.22020751100783972, -0.22261005245347273, -0.020752108387076047, -0.04166023309873876, 0.1045137343254696, 0.19361486750529328, 0.17751515334594078, 0.11929218547616038, 0.004979029957304349, 0.08145174284771076, -0.10703611512289876, 0.06440933603675672, 0.10471927181835379, -0.045720124328059414, -0.051513916522485534, -0.05809124859718989, -0.01553210126260617, -0.0636822067611372, 0.048971127199268195, 0.010345887992931886, -0.2327645371422485, 0.19424674338446327, -0.09901023508775206, -0.026338843302457567, 0.1868336875142867, -0.0349939683530824, 0.03125725366377179, -0.18965315292735196, -0.002173051716059392, 0.11973185102602303, -0.12866093476546908, -0.003732664088126769, -0.1152276164594555, 0.24854584944895938, 0.034955513446231254, 0.002863105423825442, -0.07925415945577706, 0.052732294146263, 0.05775275553423254, 0.0005724711228391013, -0.09769536660141936, 0.21331955736584912, -0.09723471391382006, -0.051056097122134894, 0.054559161026184466, 0.11205549897323802, -0.05156593081595284, -0.02382170254297967, 0.1664113029437375, -0.03875873977857961, 0.11297400982974265, -0.1542496485230471, -0.11211652031557709, 0.1120712185497685, 0.1323987149876694, -0.04664886743663909, 0.05922863326035104, 0.04747460236228128, 0.017993754491515565, -0.02821421231186431, 0.041763756092416386, 0.13623466931533676, -0.09661708149838895, -0.0946826822624646, 0.08789120415689634, 0.018114449431292937, -0.15637628320012542, 0.12332227789675056, -0.00798805994173067, 0.01909124311436623, 0.13541895459622455, 0.015302521545059091, -0.09639069814804799, 0.013275052133948261, 0.050049482490255384, 0.051249978533719605, 0.015507119731471357, -0.0025052986974530207, -0.16662849142997785, 0.06365356887109783, 0.0013475336447904649, -0.14014911498311539, 0.0785886846751021, 0.0015897720858105984, 0.08035018836007761, -0.12361111951500958, 0.09237983604762466, -0.12802737571573022, -0.2984938931078972, 0.005426401865561447, -0.11162613513960486, -0.03982507573196196, -0.08452570470483188, -0.09003566340937706, -0.02617111209294265, 0.0017573978916816432, 0.05813395590187489, -0.16327978260522683, -0.012773609863741077, 0.036322674288213334, -0.17654841807583446, 0.07879724874412256, -0.12296017435955928, 0.1030544963748919, 0.17435768666719614, -0.1432182018909364, -0.039675990715218865, -0.07808762694259555, -0.053229809354499814, -0.03899207777876135, -0.029035597499910713, 0.08713310372354371, -0.06327994915216008, 0.21208015470418626, -0.023905448787113627, -0.07972112729405534, 0.040266954712812913, -0.07155099477595436, 0.1165237842669103, -0.040637474580809504, 0.09887475453339514, -0.12875711028465678, -0.10437589820133704, 0.07908926889964824, -0.0505275131863353, -0.06855780030525203, -0.01024735130315791, 0.05565392282808577, -0.02804341954529321, -0.010052402547237525, -0.03426904868472384, -0.012178381387246882, -0.032954855043893505, -0.07045316264014745, 0.09240022049702933, -0.15557860199574122, -0.08357179501663167, 0.12346787695749528, 0.12877104737603, -0.1491010829029284, -0.08529455818746526, -0.09680261021411175, 0.053957419715723556, -0.15425060311538713, 0.0676658340741033, -0.05450512192996215]\n"
          ]
        }
      ]
    },
    {
      "cell_type": "markdown",
      "source": [
        "## Term-Context Vector Representation"
      ],
      "metadata": {
        "id": "7gw2JzN1jeMK"
      }
    },
    {
      "cell_type": "code",
      "source": [
        "fasttext_model = FastText.load('./models/fasttext/train-125.model')\n",
        "word_vector = fasttext_model.wv\n",
        "word_vector.most_similar('developmental')"
      ],
      "metadata": {
        "colab": {
          "base_uri": "https://localhost:8080/"
        },
        "id": "YKfnl4v7mtMy",
        "outputId": "3cc9f7aa-6922-473b-e53d-1c748582bda4"
      },
      "execution_count": 20,
      "outputs": [
        {
          "output_type": "execute_result",
          "data": {
            "text/plain": [
              "[('developments', 0.8717353343963623),\n",
              " ('neurodevelopmental', 0.8558087944984436),\n",
              " ('development', 0.8479216694831848),\n",
              " ('neurodevelopment', 0.7892796993255615),\n",
              " ('mental', 0.6347976326942444),\n",
              " ('parental', 0.5977450609207153),\n",
              " ('develops', 0.5954824686050415),\n",
              " ('fetal', 0.5826789140701294),\n",
              " ('prenatal', 0.5766539573669434),\n",
              " ('postnatal', 0.5570307970046997)]"
            ]
          },
          "metadata": {},
          "execution_count": 20
        }
      ]
    },
    {
      "cell_type": "code",
      "source": [
        "def tc_vector_rep(word, type_of_docs):\n",
        "  fasttext_model = FT_models[type_of_docs]\n",
        "  word_vector = fasttext_model.wv\n",
        "  return word_vector[word]"
      ],
      "metadata": {
        "id": "HrrFmn7mjhFK"
      },
      "execution_count": 21,
      "outputs": []
    },
    {
      "cell_type": "code",
      "source": [
        "print(tc_vector_rep('statin vitro developmental', 'train'))\n",
        "print(tc_vector_rep('vitro', 'train'))"
      ],
      "metadata": {
        "colab": {
          "base_uri": "https://localhost:8080/"
        },
        "id": "TiHo_g_Ekywa",
        "outputId": "a632c5a3-6e0f-44df-e263-5833d301fb60"
      },
      "execution_count": 22,
      "outputs": [
        {
          "output_type": "stream",
          "name": "stdout",
          "text": [
            "[-0.1182723   0.7445859  -0.5131531   0.05441907 -0.16392565 -0.18878083\n",
            " -0.03743232  0.05043976  0.45734417 -0.08432929  0.28292453 -0.30305445\n",
            "  0.29970664 -0.39034355 -0.23612088  0.23779048 -0.2623025   0.23497991\n",
            " -0.3095541  -0.55062973  0.14316349 -0.3457676  -0.01858135 -0.13721447\n",
            "  0.37058088 -0.09426513 -0.3595557  -0.09751277  0.37665203  0.5840994\n",
            " -0.2922705   0.2954333  -0.20438589 -0.42096508  0.4439871  -0.1126425\n",
            "  0.11100439  0.14537287  0.07442331 -0.30362004  0.15235384 -0.17078754\n",
            "  0.05322624  0.07649558 -0.27624887  0.06070527 -0.42381328 -0.30532867\n",
            "  0.07786699 -0.2848723   0.04564207 -0.2393235   0.08138093 -0.19258784\n",
            " -0.00211608 -0.17436697  0.11246253 -0.098701   -0.12790644 -0.10877469\n",
            " -0.2073003   0.2013119  -0.08885467  0.26361963  0.21289109  0.006822\n",
            " -0.34599847  0.12472442  0.06393512 -0.1252947  -0.41279057  0.64223653\n",
            "  0.00712478 -0.30643508 -0.06793853 -0.5140494  -0.5596733  -0.30177295\n",
            "  0.10198282 -0.2161595   0.46718076  0.23323485 -0.10977817 -0.56660515\n",
            "  0.13044366 -0.35436305  0.26685116  0.11322836  0.21857281 -0.4807089\n",
            " -0.35432228 -0.14749645  0.33821067 -0.46159416  0.3737481   0.08264009\n",
            "  0.01727002  0.3348865  -0.29173574  0.583389  ]\n",
            "[-0.3252578  -0.19791181 -0.6575219  -0.32570946 -0.5377522   0.00949755\n",
            " -0.03901422  0.35541278  0.3285922  -0.3423072   0.37568712  0.28529826\n",
            "  0.765215   -0.37991297  0.33686894  0.3913145  -0.1431734   0.27176413\n",
            "  0.11592256 -0.12416264  0.22378044 -0.91468453 -0.26162308 -0.7394371\n",
            " -0.00763687  0.05524505  0.12022546 -0.17286076  0.78763235  0.09820817\n",
            "  0.26031333  0.2068831  -0.64943665 -0.20367071 -0.23744349  0.19053936\n",
            "  0.10671589  0.11092316  0.05513015  0.31155315 -0.42101204  0.49746862\n",
            " -0.36222774  0.12252684 -0.16728455  0.15217209  0.24258097 -0.08178101\n",
            "  0.03169763  0.5856427  -0.00965197 -0.59236866  0.73735034  0.4089384\n",
            " -0.22502492 -0.25669682 -0.56331915  0.4485566   0.5131405   0.21134633\n",
            " -0.5424525  -0.32899588  0.04124705 -0.00149153  0.33681196  0.30417863\n",
            " -0.35246676  0.3830646   0.32659832 -0.33400124 -0.6143151   0.33427256\n",
            " -0.31545976 -0.0064487  -0.04563872 -0.6898755  -0.45059693 -0.00777458\n",
            "  0.29345998 -0.02663227 -0.04162246 -0.19577776 -0.5179931  -0.4712166\n",
            "  0.88595575 -0.7805154   0.01766185  0.63398623 -0.14395984 -0.16415557\n",
            " -0.21747382 -0.46612537  0.21948619 -0.41179746 -0.08819997  0.9470033\n",
            "  0.02446054  0.25977987 -0.27523136  0.37489426]\n"
          ]
        }
      ]
    },
    {
      "cell_type": "markdown",
      "source": [
        "# Compute Similarity between Query and Docs"
      ],
      "metadata": {
        "id": "HQfOgyhvnPFD"
      }
    },
    {
      "cell_type": "markdown",
      "source": [
        "## Variable Initialization"
      ],
      "metadata": {
        "id": "S1SqUXqnYyAE"
      }
    },
    {
      "cell_type": "code",
      "source": [
        "lsia_pair_of_X_Y = {}\n",
        "fasttext_pair_of_X_Y = {}"
      ],
      "metadata": {
        "id": "Sr4m4BV0rIqx"
      },
      "execution_count": 23,
      "outputs": []
    },
    {
      "cell_type": "markdown",
      "source": [
        "## Vector Representation for pair of query and docs"
      ],
      "metadata": {
        "id": "K4vasIPwp0tt"
      }
    },
    {
      "cell_type": "code",
      "source": [
        "def pair_query_docs(query, doc, vsm_type, type_of_docs):\n",
        "  if vsm_type == 'lsia':\n",
        "    vector_of_query = td_vector_rep(query, type_of_docs)\n",
        "    vector_of_doc = td_vector_rep(doc, type_of_docs)\n",
        "  elif vsm_type == 'fasttext':\n",
        "    vector_of_query = tc_vector_rep(' '.join(query), type_of_docs)\n",
        "    vector_of_doc = tc_vector_rep(' '.join(doc), type_of_docs)\n",
        "  q = set(query)\n",
        "  d = set(doc)\n",
        "  cosine_dist = cosine(vector_of_query, vector_of_doc)\n",
        "  jaccard_sim = len(q & d) / len(q | d)\n",
        "  return vector_of_query + vector_of_doc + [jaccard_sim] + [cosine_dist]"
      ],
      "metadata": {
        "id": "uoCDYWTWnUsS"
      },
      "execution_count": 24,
      "outputs": []
    },
    {
      "cell_type": "markdown",
      "source": [
        "## Generalize Mapping"
      ],
      "metadata": {
        "id": "CjnFJeVP2-zu"
      }
    },
    {
      "cell_type": "code",
      "source": [
        "def generalize_mapping_query_doc_qrel(vsm_type):\n",
        "  whole_set = ['train', 'dev', 'test']\n",
        "  for item in whole_set:\n",
        "    X = [] # Query and Docs\n",
        "    Y = [] # Qrel\n",
        "    for query, doc, qrel in dataset[item]:\n",
        "      X.append(pair_query_docs(query, doc, vsm_type, item))\n",
        "      Y.append(qrel)\n",
        "    X = np.array(X)\n",
        "    Y = np.array(Y)\n",
        "    if vsm_type == 'lsia':\n",
        "      lsia_pair_of_X_Y[item] = (X, Y)\n",
        "    elif vsm_type == 'fasttext':\n",
        "      fasttext_pair_of_X_Y[item] = (X, Y)"
      ],
      "metadata": {
        "id": "aJa2IpNh2Lbj"
      },
      "execution_count": 25,
      "outputs": []
    },
    {
      "cell_type": "markdown",
      "source": [
        "## Mapping for LSI/LSA Model"
      ],
      "metadata": {
        "id": "4SPSeWLsrE2r"
      }
    },
    {
      "cell_type": "code",
      "source": [
        "generalize_mapping_query_doc_qrel('lsia')"
      ],
      "metadata": {
        "colab": {
          "base_uri": "https://localhost:8080/"
        },
        "id": "MJ3zTdN83bTv",
        "outputId": "243f45ae-27d6-4aa7-820b-1f4aebfdeccf"
      },
      "execution_count": 26,
      "outputs": [
        {
          "output_type": "stream",
          "name": "stderr",
          "text": [
            "/usr/local/lib/python3.8/dist-packages/scipy/spatial/distance.py:699: RuntimeWarning: invalid value encountered in double_scalars\n",
            "  dist = 1.0 - uv / np.sqrt(uu * vv)\n"
          ]
        }
      ]
    },
    {
      "cell_type": "code",
      "source": [
        "print(lsia_pair_of_X_Y['train'][0].shape)\n",
        "print(lsia_pair_of_X_Y['train'][1].shape)\n",
        "print(lsia_pair_of_X_Y['dev'][0].shape)\n",
        "print(lsia_pair_of_X_Y['dev'][1].shape)\n",
        "print(lsia_pair_of_X_Y['test'][0].shape)\n",
        "print(lsia_pair_of_X_Y['test'][1].shape)"
      ],
      "metadata": {
        "colab": {
          "base_uri": "https://localhost:8080/"
        },
        "id": "-K0_AOJ0T7SY",
        "outputId": "b6a5a762-d5f9-4e75-bae9-28094e0e9249"
      },
      "execution_count": 27,
      "outputs": [
        {
          "output_type": "stream",
          "name": "stdout",
          "text": [
            "(28277, 502)\n",
            "(28277,)\n",
            "(3170, 502)\n",
            "(3170,)\n",
            "(3210, 502)\n",
            "(3210,)\n"
          ]
        }
      ]
    },
    {
      "cell_type": "markdown",
      "source": [
        "## Mapping for FastText Model"
      ],
      "metadata": {
        "id": "DgAIy5Ef3ffi"
      }
    },
    {
      "cell_type": "code",
      "source": [
        "generalize_mapping_query_doc_qrel('fasttext')"
      ],
      "metadata": {
        "id": "YKngRtSh3haK"
      },
      "execution_count": 28,
      "outputs": []
    },
    {
      "cell_type": "code",
      "source": [
        "print(fasttext_pair_of_X_Y['train'][0].shape)\n",
        "print(fasttext_pair_of_X_Y['train'][1].shape)\n",
        "print(fasttext_pair_of_X_Y['dev'][0].shape)\n",
        "print(fasttext_pair_of_X_Y['dev'][1].shape)\n",
        "print(fasttext_pair_of_X_Y['test'][0].shape)\n",
        "print(fasttext_pair_of_X_Y['test'][1].shape)"
      ],
      "metadata": {
        "colab": {
          "base_uri": "https://localhost:8080/"
        },
        "id": "lilRJ7jkT545",
        "outputId": "824e4851-2448-433b-f15e-845d015b3b2a"
      },
      "execution_count": 29,
      "outputs": [
        {
          "output_type": "stream",
          "name": "stdout",
          "text": [
            "(28277, 100)\n",
            "(28277,)\n",
            "(3170, 100)\n",
            "(3170,)\n",
            "(3210, 100)\n",
            "(3210,)\n"
          ]
        }
      ]
    },
    {
      "cell_type": "markdown",
      "source": [
        "# Build the Ranker Model (LightGBM)"
      ],
      "metadata": {
        "id": "K0FoSkeFUohT"
      }
    },
    {
      "cell_type": "markdown",
      "source": [
        "## LSI/LSA"
      ],
      "metadata": {
        "id": "4kr7E55Uj14E"
      }
    },
    {
      "cell_type": "code",
      "source": [
        "ranker_model = lgb.LGBMRanker(\n",
        "    learning_rate=.002,\n",
        "    objective='lambdarank',\n",
        "    num_leaves=40,\n",
        "    importance_type='gain'\n",
        ")"
      ],
      "metadata": {
        "id": "kK95wwF2UrSS"
      },
      "execution_count": 244,
      "outputs": []
    },
    {
      "cell_type": "markdown",
      "source": [
        "### Train"
      ],
      "metadata": {
        "id": "9M3Ctxv4mHTC"
      }
    },
    {
      "cell_type": "code",
      "source": [
        "lsia_ranker_model = ranker_model.fit(\n",
        "    lsia_pair_of_X_Y['train'][0],\n",
        "    lsia_pair_of_X_Y['train'][1],\n",
        "    eval_metric='auc',\n",
        "    eval_set=[(lsia_pair_of_X_Y['dev'][0], lsia_pair_of_X_Y['dev'][1])],\n",
        "    eval_group=[[lsia_pair_of_X_Y['dev'][0].shape[0]]],\n",
        "    group=query_num_of_docs_each_type['train'],\n",
        "    eval_at=[5, 7, 10, 20],\n",
        "    verbose=10\n",
        ")"
      ],
      "metadata": {
        "colab": {
          "base_uri": "https://localhost:8080/"
        },
        "id": "j_S5vnlej5ZU",
        "outputId": "149bcc4a-ac86-4c65-d2a3-542702d2c1c0"
      },
      "execution_count": 245,
      "outputs": [
        {
          "output_type": "stream",
          "name": "stdout",
          "text": [
            "[10]\tvalid_0's ndcg@5: 0.709291\tvalid_0's ndcg@7: 0.656084\tvalid_0's ndcg@10: 0.648599\tvalid_0's ndcg@20: 0.751899\tvalid_0's auc: 0.672475\n",
            "[20]\tvalid_0's ndcg@5: 0.683916\tvalid_0's ndcg@7: 0.659901\tvalid_0's ndcg@10: 0.727685\tvalid_0's ndcg@20: 0.695336\tvalid_0's auc: 0.669821\n",
            "[30]\tvalid_0's ndcg@5: 0.683916\tvalid_0's ndcg@7: 0.659901\tvalid_0's ndcg@10: 0.727685\tvalid_0's ndcg@20: 0.695336\tvalid_0's auc: 0.671874\n",
            "[40]\tvalid_0's ndcg@5: 0.693733\tvalid_0's ndcg@7: 0.751782\tvalid_0's ndcg@10: 0.801253\tvalid_0's ndcg@20: 0.769115\tvalid_0's auc: 0.672166\n",
            "[50]\tvalid_0's ndcg@5: 0.841558\tvalid_0's ndcg@7: 0.871589\tvalid_0's ndcg@10: 0.857507\tvalid_0's ndcg@20: 0.837552\tvalid_0's auc: 0.673627\n",
            "[60]\tvalid_0's ndcg@5: 0.841558\tvalid_0's ndcg@7: 0.871589\tvalid_0's ndcg@10: 0.857507\tvalid_0's ndcg@20: 0.837552\tvalid_0's auc: 0.679124\n",
            "[70]\tvalid_0's ndcg@5: 0.841558\tvalid_0's ndcg@7: 0.871589\tvalid_0's ndcg@10: 0.819647\tvalid_0's ndcg@20: 0.832849\tvalid_0's auc: 0.677148\n",
            "[80]\tvalid_0's ndcg@5: 0.874799\tvalid_0's ndcg@7: 0.898529\tvalid_0's ndcg@10: 0.882398\tvalid_0's ndcg@20: 0.84228\tvalid_0's auc: 0.675889\n",
            "[90]\tvalid_0's ndcg@5: 0.874799\tvalid_0's ndcg@7: 0.898529\tvalid_0's ndcg@10: 0.882398\tvalid_0's ndcg@20: 0.812078\tvalid_0's auc: 0.67255\n",
            "[100]\tvalid_0's ndcg@5: 0.874799\tvalid_0's ndcg@7: 0.898529\tvalid_0's ndcg@10: 0.882398\tvalid_0's ndcg@20: 0.812078\tvalid_0's auc: 0.669162\n"
          ]
        }
      ]
    },
    {
      "cell_type": "markdown",
      "source": [
        "### Evaluation"
      ],
      "metadata": {
        "id": "9jgiI478mInJ"
      }
    },
    {
      "cell_type": "code",
      "source": [
        "lsia_eval = lsia_ranker_model.predict(lsia_pair_of_X_Y['dev'][0])"
      ],
      "metadata": {
        "id": "clGolW6EmBY8"
      },
      "execution_count": 246,
      "outputs": []
    },
    {
      "cell_type": "code",
      "source": [
        "result_eval = pd.DataFrame(data={'predicted_ranking': tuple(lsia_eval)})\n",
        "result_eval.sort_values('predicted_ranking', ascending=False)"
      ],
      "metadata": {
        "colab": {
          "base_uri": "https://localhost:8080/",
          "height": 424
        },
        "id": "Qi44eUC5nHBu",
        "outputId": "3a07be2c-13d9-4652-93d6-e61ee645588d"
      },
      "execution_count": 247,
      "outputs": [
        {
          "output_type": "execute_result",
          "data": {
            "text/plain": [
              "      predicted_ranking\n",
              "2114           0.072052\n",
              "2091           0.072052\n",
              "2128           0.072052\n",
              "2997           0.072052\n",
              "2126           0.072052\n",
              "...                 ...\n",
              "3144          -0.073947\n",
              "805           -0.073947\n",
              "794           -0.073947\n",
              "2805          -0.073947\n",
              "531           -0.073947\n",
              "\n",
              "[3170 rows x 1 columns]"
            ],
            "text/html": [
              "\n",
              "  <div id=\"df-99db5ae1-1bbf-4c25-9364-d3af8995efc2\">\n",
              "    <div class=\"colab-df-container\">\n",
              "      <div>\n",
              "<style scoped>\n",
              "    .dataframe tbody tr th:only-of-type {\n",
              "        vertical-align: middle;\n",
              "    }\n",
              "\n",
              "    .dataframe tbody tr th {\n",
              "        vertical-align: top;\n",
              "    }\n",
              "\n",
              "    .dataframe thead th {\n",
              "        text-align: right;\n",
              "    }\n",
              "</style>\n",
              "<table border=\"1\" class=\"dataframe\">\n",
              "  <thead>\n",
              "    <tr style=\"text-align: right;\">\n",
              "      <th></th>\n",
              "      <th>predicted_ranking</th>\n",
              "    </tr>\n",
              "  </thead>\n",
              "  <tbody>\n",
              "    <tr>\n",
              "      <th>2114</th>\n",
              "      <td>0.072052</td>\n",
              "    </tr>\n",
              "    <tr>\n",
              "      <th>2091</th>\n",
              "      <td>0.072052</td>\n",
              "    </tr>\n",
              "    <tr>\n",
              "      <th>2128</th>\n",
              "      <td>0.072052</td>\n",
              "    </tr>\n",
              "    <tr>\n",
              "      <th>2997</th>\n",
              "      <td>0.072052</td>\n",
              "    </tr>\n",
              "    <tr>\n",
              "      <th>2126</th>\n",
              "      <td>0.072052</td>\n",
              "    </tr>\n",
              "    <tr>\n",
              "      <th>...</th>\n",
              "      <td>...</td>\n",
              "    </tr>\n",
              "    <tr>\n",
              "      <th>3144</th>\n",
              "      <td>-0.073947</td>\n",
              "    </tr>\n",
              "    <tr>\n",
              "      <th>805</th>\n",
              "      <td>-0.073947</td>\n",
              "    </tr>\n",
              "    <tr>\n",
              "      <th>794</th>\n",
              "      <td>-0.073947</td>\n",
              "    </tr>\n",
              "    <tr>\n",
              "      <th>2805</th>\n",
              "      <td>-0.073947</td>\n",
              "    </tr>\n",
              "    <tr>\n",
              "      <th>531</th>\n",
              "      <td>-0.073947</td>\n",
              "    </tr>\n",
              "  </tbody>\n",
              "</table>\n",
              "<p>3170 rows × 1 columns</p>\n",
              "</div>\n",
              "      <button class=\"colab-df-convert\" onclick=\"convertToInteractive('df-99db5ae1-1bbf-4c25-9364-d3af8995efc2')\"\n",
              "              title=\"Convert this dataframe to an interactive table.\"\n",
              "              style=\"display:none;\">\n",
              "        \n",
              "  <svg xmlns=\"http://www.w3.org/2000/svg\" height=\"24px\"viewBox=\"0 0 24 24\"\n",
              "       width=\"24px\">\n",
              "    <path d=\"M0 0h24v24H0V0z\" fill=\"none\"/>\n",
              "    <path d=\"M18.56 5.44l.94 2.06.94-2.06 2.06-.94-2.06-.94-.94-2.06-.94 2.06-2.06.94zm-11 1L8.5 8.5l.94-2.06 2.06-.94-2.06-.94L8.5 2.5l-.94 2.06-2.06.94zm10 10l.94 2.06.94-2.06 2.06-.94-2.06-.94-.94-2.06-.94 2.06-2.06.94z\"/><path d=\"M17.41 7.96l-1.37-1.37c-.4-.4-.92-.59-1.43-.59-.52 0-1.04.2-1.43.59L10.3 9.45l-7.72 7.72c-.78.78-.78 2.05 0 2.83L4 21.41c.39.39.9.59 1.41.59.51 0 1.02-.2 1.41-.59l7.78-7.78 2.81-2.81c.8-.78.8-2.07 0-2.86zM5.41 20L4 18.59l7.72-7.72 1.47 1.35L5.41 20z\"/>\n",
              "  </svg>\n",
              "      </button>\n",
              "      \n",
              "  <style>\n",
              "    .colab-df-container {\n",
              "      display:flex;\n",
              "      flex-wrap:wrap;\n",
              "      gap: 12px;\n",
              "    }\n",
              "\n",
              "    .colab-df-convert {\n",
              "      background-color: #E8F0FE;\n",
              "      border: none;\n",
              "      border-radius: 50%;\n",
              "      cursor: pointer;\n",
              "      display: none;\n",
              "      fill: #1967D2;\n",
              "      height: 32px;\n",
              "      padding: 0 0 0 0;\n",
              "      width: 32px;\n",
              "    }\n",
              "\n",
              "    .colab-df-convert:hover {\n",
              "      background-color: #E2EBFA;\n",
              "      box-shadow: 0px 1px 2px rgba(60, 64, 67, 0.3), 0px 1px 3px 1px rgba(60, 64, 67, 0.15);\n",
              "      fill: #174EA6;\n",
              "    }\n",
              "\n",
              "    [theme=dark] .colab-df-convert {\n",
              "      background-color: #3B4455;\n",
              "      fill: #D2E3FC;\n",
              "    }\n",
              "\n",
              "    [theme=dark] .colab-df-convert:hover {\n",
              "      background-color: #434B5C;\n",
              "      box-shadow: 0px 1px 3px 1px rgba(0, 0, 0, 0.15);\n",
              "      filter: drop-shadow(0px 1px 2px rgba(0, 0, 0, 0.3));\n",
              "      fill: #FFFFFF;\n",
              "    }\n",
              "  </style>\n",
              "\n",
              "      <script>\n",
              "        const buttonEl =\n",
              "          document.querySelector('#df-99db5ae1-1bbf-4c25-9364-d3af8995efc2 button.colab-df-convert');\n",
              "        buttonEl.style.display =\n",
              "          google.colab.kernel.accessAllowed ? 'block' : 'none';\n",
              "\n",
              "        async function convertToInteractive(key) {\n",
              "          const element = document.querySelector('#df-99db5ae1-1bbf-4c25-9364-d3af8995efc2');\n",
              "          const dataTable =\n",
              "            await google.colab.kernel.invokeFunction('convertToInteractive',\n",
              "                                                     [key], {});\n",
              "          if (!dataTable) return;\n",
              "\n",
              "          const docLinkHtml = 'Like what you see? Visit the ' +\n",
              "            '<a target=\"_blank\" href=https://colab.research.google.com/notebooks/data_table.ipynb>data table notebook</a>'\n",
              "            + ' to learn more about interactive tables.';\n",
              "          element.innerHTML = '';\n",
              "          dataTable['output_type'] = 'display_data';\n",
              "          await google.colab.output.renderOutput(dataTable, element);\n",
              "          const docLink = document.createElement('div');\n",
              "          docLink.innerHTML = docLinkHtml;\n",
              "          element.appendChild(docLink);\n",
              "        }\n",
              "      </script>\n",
              "    </div>\n",
              "  </div>\n",
              "  "
            ]
          },
          "metadata": {},
          "execution_count": 247
        }
      ]
    },
    {
      "cell_type": "markdown",
      "source": [
        "### Test"
      ],
      "metadata": {
        "id": "NTI8j1TPqM45"
      }
    },
    {
      "cell_type": "code",
      "source": [
        "lsia_test = lsia_ranker_model.predict(lsia_pair_of_X_Y['test'][0])"
      ],
      "metadata": {
        "id": "bNwY7hRoqN6R"
      },
      "execution_count": 248,
      "outputs": []
    },
    {
      "cell_type": "code",
      "source": [
        "result_test = pd.DataFrame(data={'predicted_ranking': tuple(lsia_test)})\n",
        "result_test.sort_values('predicted_ranking', ascending=False)"
      ],
      "metadata": {
        "colab": {
          "base_uri": "https://localhost:8080/",
          "height": 424
        },
        "id": "l7T3_sLIuixt",
        "outputId": "ddd687fd-fc14-4644-f251-3866c225dad2"
      },
      "execution_count": 249,
      "outputs": [
        {
          "output_type": "execute_result",
          "data": {
            "text/plain": [
              "      predicted_ranking\n",
              "580            0.072052\n",
              "1498           0.072052\n",
              "3138           0.072052\n",
              "1957           0.072052\n",
              "3136           0.072052\n",
              "...                 ...\n",
              "2016          -0.073974\n",
              "2184          -0.073974\n",
              "1873          -0.073974\n",
              "799           -0.074095\n",
              "920           -0.074398\n",
              "\n",
              "[3210 rows x 1 columns]"
            ],
            "text/html": [
              "\n",
              "  <div id=\"df-6315c4a0-9239-4e37-a912-a197b1b6ee46\">\n",
              "    <div class=\"colab-df-container\">\n",
              "      <div>\n",
              "<style scoped>\n",
              "    .dataframe tbody tr th:only-of-type {\n",
              "        vertical-align: middle;\n",
              "    }\n",
              "\n",
              "    .dataframe tbody tr th {\n",
              "        vertical-align: top;\n",
              "    }\n",
              "\n",
              "    .dataframe thead th {\n",
              "        text-align: right;\n",
              "    }\n",
              "</style>\n",
              "<table border=\"1\" class=\"dataframe\">\n",
              "  <thead>\n",
              "    <tr style=\"text-align: right;\">\n",
              "      <th></th>\n",
              "      <th>predicted_ranking</th>\n",
              "    </tr>\n",
              "  </thead>\n",
              "  <tbody>\n",
              "    <tr>\n",
              "      <th>580</th>\n",
              "      <td>0.072052</td>\n",
              "    </tr>\n",
              "    <tr>\n",
              "      <th>1498</th>\n",
              "      <td>0.072052</td>\n",
              "    </tr>\n",
              "    <tr>\n",
              "      <th>3138</th>\n",
              "      <td>0.072052</td>\n",
              "    </tr>\n",
              "    <tr>\n",
              "      <th>1957</th>\n",
              "      <td>0.072052</td>\n",
              "    </tr>\n",
              "    <tr>\n",
              "      <th>3136</th>\n",
              "      <td>0.072052</td>\n",
              "    </tr>\n",
              "    <tr>\n",
              "      <th>...</th>\n",
              "      <td>...</td>\n",
              "    </tr>\n",
              "    <tr>\n",
              "      <th>2016</th>\n",
              "      <td>-0.073974</td>\n",
              "    </tr>\n",
              "    <tr>\n",
              "      <th>2184</th>\n",
              "      <td>-0.073974</td>\n",
              "    </tr>\n",
              "    <tr>\n",
              "      <th>1873</th>\n",
              "      <td>-0.073974</td>\n",
              "    </tr>\n",
              "    <tr>\n",
              "      <th>799</th>\n",
              "      <td>-0.074095</td>\n",
              "    </tr>\n",
              "    <tr>\n",
              "      <th>920</th>\n",
              "      <td>-0.074398</td>\n",
              "    </tr>\n",
              "  </tbody>\n",
              "</table>\n",
              "<p>3210 rows × 1 columns</p>\n",
              "</div>\n",
              "      <button class=\"colab-df-convert\" onclick=\"convertToInteractive('df-6315c4a0-9239-4e37-a912-a197b1b6ee46')\"\n",
              "              title=\"Convert this dataframe to an interactive table.\"\n",
              "              style=\"display:none;\">\n",
              "        \n",
              "  <svg xmlns=\"http://www.w3.org/2000/svg\" height=\"24px\"viewBox=\"0 0 24 24\"\n",
              "       width=\"24px\">\n",
              "    <path d=\"M0 0h24v24H0V0z\" fill=\"none\"/>\n",
              "    <path d=\"M18.56 5.44l.94 2.06.94-2.06 2.06-.94-2.06-.94-.94-2.06-.94 2.06-2.06.94zm-11 1L8.5 8.5l.94-2.06 2.06-.94-2.06-.94L8.5 2.5l-.94 2.06-2.06.94zm10 10l.94 2.06.94-2.06 2.06-.94-2.06-.94-.94-2.06-.94 2.06-2.06.94z\"/><path d=\"M17.41 7.96l-1.37-1.37c-.4-.4-.92-.59-1.43-.59-.52 0-1.04.2-1.43.59L10.3 9.45l-7.72 7.72c-.78.78-.78 2.05 0 2.83L4 21.41c.39.39.9.59 1.41.59.51 0 1.02-.2 1.41-.59l7.78-7.78 2.81-2.81c.8-.78.8-2.07 0-2.86zM5.41 20L4 18.59l7.72-7.72 1.47 1.35L5.41 20z\"/>\n",
              "  </svg>\n",
              "      </button>\n",
              "      \n",
              "  <style>\n",
              "    .colab-df-container {\n",
              "      display:flex;\n",
              "      flex-wrap:wrap;\n",
              "      gap: 12px;\n",
              "    }\n",
              "\n",
              "    .colab-df-convert {\n",
              "      background-color: #E8F0FE;\n",
              "      border: none;\n",
              "      border-radius: 50%;\n",
              "      cursor: pointer;\n",
              "      display: none;\n",
              "      fill: #1967D2;\n",
              "      height: 32px;\n",
              "      padding: 0 0 0 0;\n",
              "      width: 32px;\n",
              "    }\n",
              "\n",
              "    .colab-df-convert:hover {\n",
              "      background-color: #E2EBFA;\n",
              "      box-shadow: 0px 1px 2px rgba(60, 64, 67, 0.3), 0px 1px 3px 1px rgba(60, 64, 67, 0.15);\n",
              "      fill: #174EA6;\n",
              "    }\n",
              "\n",
              "    [theme=dark] .colab-df-convert {\n",
              "      background-color: #3B4455;\n",
              "      fill: #D2E3FC;\n",
              "    }\n",
              "\n",
              "    [theme=dark] .colab-df-convert:hover {\n",
              "      background-color: #434B5C;\n",
              "      box-shadow: 0px 1px 3px 1px rgba(0, 0, 0, 0.15);\n",
              "      filter: drop-shadow(0px 1px 2px rgba(0, 0, 0, 0.3));\n",
              "      fill: #FFFFFF;\n",
              "    }\n",
              "  </style>\n",
              "\n",
              "      <script>\n",
              "        const buttonEl =\n",
              "          document.querySelector('#df-6315c4a0-9239-4e37-a912-a197b1b6ee46 button.colab-df-convert');\n",
              "        buttonEl.style.display =\n",
              "          google.colab.kernel.accessAllowed ? 'block' : 'none';\n",
              "\n",
              "        async function convertToInteractive(key) {\n",
              "          const element = document.querySelector('#df-6315c4a0-9239-4e37-a912-a197b1b6ee46');\n",
              "          const dataTable =\n",
              "            await google.colab.kernel.invokeFunction('convertToInteractive',\n",
              "                                                     [key], {});\n",
              "          if (!dataTable) return;\n",
              "\n",
              "          const docLinkHtml = 'Like what you see? Visit the ' +\n",
              "            '<a target=\"_blank\" href=https://colab.research.google.com/notebooks/data_table.ipynb>data table notebook</a>'\n",
              "            + ' to learn more about interactive tables.';\n",
              "          element.innerHTML = '';\n",
              "          dataTable['output_type'] = 'display_data';\n",
              "          await google.colab.output.renderOutput(dataTable, element);\n",
              "          const docLink = document.createElement('div');\n",
              "          docLink.innerHTML = docLinkHtml;\n",
              "          element.appendChild(docLink);\n",
              "        }\n",
              "      </script>\n",
              "    </div>\n",
              "  </div>\n",
              "  "
            ]
          },
          "metadata": {},
          "execution_count": 249
        }
      ]
    },
    {
      "cell_type": "markdown",
      "source": [
        "## FastText"
      ],
      "metadata": {
        "id": "zRGAi2Gxj302"
      }
    },
    {
      "cell_type": "code",
      "source": [
        "ft_ranker_model = lgb.LGBMRanker(\n",
        "    n_estimators=150,\n",
        "    learning_rate=.5,\n",
        "    objective='lambdarank',\n",
        "    num_leaves=125, #60\n",
        "    importance_type='gain'\n",
        ")"
      ],
      "metadata": {
        "id": "i7FWKVKV2NjH"
      },
      "execution_count": 485,
      "outputs": []
    },
    {
      "cell_type": "markdown",
      "source": [
        "### Train"
      ],
      "metadata": {
        "id": "unykpCz21NoP"
      }
    },
    {
      "cell_type": "code",
      "source": [
        "fasttext_ranker_model = ft_ranker_model.fit(\n",
        "    fasttext_pair_of_X_Y['train'][0],\n",
        "    fasttext_pair_of_X_Y['train'][1],\n",
        "    eval_metric='auc',\n",
        "    eval_set=[(fasttext_pair_of_X_Y['dev'][0], fasttext_pair_of_X_Y['dev'][1])],\n",
        "    eval_group=[[fasttext_pair_of_X_Y['dev'][0].shape[0]]],\n",
        "    group=query_num_of_docs_each_type['train'],\n",
        "    eval_at=[5, 7, 10, 20],\n",
        "    verbose=50\n",
        ")"
      ],
      "metadata": {
        "colab": {
          "base_uri": "https://localhost:8080/"
        },
        "id": "-nrM3Av11Re_",
        "outputId": "bec8b2bb-97fc-4181-d0ff-854b016c8bf3"
      },
      "execution_count": 486,
      "outputs": [
        {
          "output_type": "stream",
          "name": "stdout",
          "text": [
            "[50]\tvalid_0's ndcg@5: 0.428571\tvalid_0's ndcg@7: 0.484522\tvalid_0's ndcg@10: 0.58726\tvalid_0's ndcg@20: 0.598795\tvalid_0's auc: 0.534478\n",
            "[100]\tvalid_0's ndcg@5: 0.73122\tvalid_0's ndcg@7: 0.729807\tvalid_0's ndcg@10: 0.707628\tvalid_0's ndcg@20: 0.635982\tvalid_0's auc: 0.573362\n",
            "[150]\tvalid_0's ndcg@5: 0.903097\tvalid_0's ndcg@7: 0.921464\tvalid_0's ndcg@10: 0.861087\tvalid_0's ndcg@20: 0.747585\tvalid_0's auc: 0.586828\n"
          ]
        }
      ]
    },
    {
      "cell_type": "markdown",
      "source": [
        "### Evaluation"
      ],
      "metadata": {
        "id": "69gC0AHl1OnW"
      }
    },
    {
      "cell_type": "code",
      "source": [
        "fasttext_eval = fasttext_ranker_model.predict(fasttext_pair_of_X_Y['dev'][0])"
      ],
      "metadata": {
        "id": "7xM1d9aL1R68"
      },
      "execution_count": 487,
      "outputs": []
    },
    {
      "cell_type": "code",
      "source": [
        "ft_result_eval = pd.DataFrame(data={'predicted_ranking': tuple(fasttext_eval)})\n",
        "ft_result_eval.sort_values('predicted_ranking', ascending=False)"
      ],
      "metadata": {
        "colab": {
          "base_uri": "https://localhost:8080/",
          "height": 424
        },
        "id": "D8uaU6DK14VR",
        "outputId": "3b013713-9953-47a2-9805-e5a7964c9fa5"
      },
      "execution_count": 488,
      "outputs": [
        {
          "output_type": "execute_result",
          "data": {
            "text/plain": [
              "      predicted_ranking\n",
              "1269           4.845788\n",
              "2900           4.827874\n",
              "1341           4.750932\n",
              "448            4.742551\n",
              "2141           4.698156\n",
              "...                 ...\n",
              "3050          -1.932526\n",
              "408           -1.963946\n",
              "316           -1.998856\n",
              "2456          -2.681535\n",
              "2472          -2.777047\n",
              "\n",
              "[3170 rows x 1 columns]"
            ],
            "text/html": [
              "\n",
              "  <div id=\"df-adddef4a-7f60-4511-89cf-097ed599e8c4\">\n",
              "    <div class=\"colab-df-container\">\n",
              "      <div>\n",
              "<style scoped>\n",
              "    .dataframe tbody tr th:only-of-type {\n",
              "        vertical-align: middle;\n",
              "    }\n",
              "\n",
              "    .dataframe tbody tr th {\n",
              "        vertical-align: top;\n",
              "    }\n",
              "\n",
              "    .dataframe thead th {\n",
              "        text-align: right;\n",
              "    }\n",
              "</style>\n",
              "<table border=\"1\" class=\"dataframe\">\n",
              "  <thead>\n",
              "    <tr style=\"text-align: right;\">\n",
              "      <th></th>\n",
              "      <th>predicted_ranking</th>\n",
              "    </tr>\n",
              "  </thead>\n",
              "  <tbody>\n",
              "    <tr>\n",
              "      <th>1269</th>\n",
              "      <td>4.845788</td>\n",
              "    </tr>\n",
              "    <tr>\n",
              "      <th>2900</th>\n",
              "      <td>4.827874</td>\n",
              "    </tr>\n",
              "    <tr>\n",
              "      <th>1341</th>\n",
              "      <td>4.750932</td>\n",
              "    </tr>\n",
              "    <tr>\n",
              "      <th>448</th>\n",
              "      <td>4.742551</td>\n",
              "    </tr>\n",
              "    <tr>\n",
              "      <th>2141</th>\n",
              "      <td>4.698156</td>\n",
              "    </tr>\n",
              "    <tr>\n",
              "      <th>...</th>\n",
              "      <td>...</td>\n",
              "    </tr>\n",
              "    <tr>\n",
              "      <th>3050</th>\n",
              "      <td>-1.932526</td>\n",
              "    </tr>\n",
              "    <tr>\n",
              "      <th>408</th>\n",
              "      <td>-1.963946</td>\n",
              "    </tr>\n",
              "    <tr>\n",
              "      <th>316</th>\n",
              "      <td>-1.998856</td>\n",
              "    </tr>\n",
              "    <tr>\n",
              "      <th>2456</th>\n",
              "      <td>-2.681535</td>\n",
              "    </tr>\n",
              "    <tr>\n",
              "      <th>2472</th>\n",
              "      <td>-2.777047</td>\n",
              "    </tr>\n",
              "  </tbody>\n",
              "</table>\n",
              "<p>3170 rows × 1 columns</p>\n",
              "</div>\n",
              "      <button class=\"colab-df-convert\" onclick=\"convertToInteractive('df-adddef4a-7f60-4511-89cf-097ed599e8c4')\"\n",
              "              title=\"Convert this dataframe to an interactive table.\"\n",
              "              style=\"display:none;\">\n",
              "        \n",
              "  <svg xmlns=\"http://www.w3.org/2000/svg\" height=\"24px\"viewBox=\"0 0 24 24\"\n",
              "       width=\"24px\">\n",
              "    <path d=\"M0 0h24v24H0V0z\" fill=\"none\"/>\n",
              "    <path d=\"M18.56 5.44l.94 2.06.94-2.06 2.06-.94-2.06-.94-.94-2.06-.94 2.06-2.06.94zm-11 1L8.5 8.5l.94-2.06 2.06-.94-2.06-.94L8.5 2.5l-.94 2.06-2.06.94zm10 10l.94 2.06.94-2.06 2.06-.94-2.06-.94-.94-2.06-.94 2.06-2.06.94z\"/><path d=\"M17.41 7.96l-1.37-1.37c-.4-.4-.92-.59-1.43-.59-.52 0-1.04.2-1.43.59L10.3 9.45l-7.72 7.72c-.78.78-.78 2.05 0 2.83L4 21.41c.39.39.9.59 1.41.59.51 0 1.02-.2 1.41-.59l7.78-7.78 2.81-2.81c.8-.78.8-2.07 0-2.86zM5.41 20L4 18.59l7.72-7.72 1.47 1.35L5.41 20z\"/>\n",
              "  </svg>\n",
              "      </button>\n",
              "      \n",
              "  <style>\n",
              "    .colab-df-container {\n",
              "      display:flex;\n",
              "      flex-wrap:wrap;\n",
              "      gap: 12px;\n",
              "    }\n",
              "\n",
              "    .colab-df-convert {\n",
              "      background-color: #E8F0FE;\n",
              "      border: none;\n",
              "      border-radius: 50%;\n",
              "      cursor: pointer;\n",
              "      display: none;\n",
              "      fill: #1967D2;\n",
              "      height: 32px;\n",
              "      padding: 0 0 0 0;\n",
              "      width: 32px;\n",
              "    }\n",
              "\n",
              "    .colab-df-convert:hover {\n",
              "      background-color: #E2EBFA;\n",
              "      box-shadow: 0px 1px 2px rgba(60, 64, 67, 0.3), 0px 1px 3px 1px rgba(60, 64, 67, 0.15);\n",
              "      fill: #174EA6;\n",
              "    }\n",
              "\n",
              "    [theme=dark] .colab-df-convert {\n",
              "      background-color: #3B4455;\n",
              "      fill: #D2E3FC;\n",
              "    }\n",
              "\n",
              "    [theme=dark] .colab-df-convert:hover {\n",
              "      background-color: #434B5C;\n",
              "      box-shadow: 0px 1px 3px 1px rgba(0, 0, 0, 0.15);\n",
              "      filter: drop-shadow(0px 1px 2px rgba(0, 0, 0, 0.3));\n",
              "      fill: #FFFFFF;\n",
              "    }\n",
              "  </style>\n",
              "\n",
              "      <script>\n",
              "        const buttonEl =\n",
              "          document.querySelector('#df-adddef4a-7f60-4511-89cf-097ed599e8c4 button.colab-df-convert');\n",
              "        buttonEl.style.display =\n",
              "          google.colab.kernel.accessAllowed ? 'block' : 'none';\n",
              "\n",
              "        async function convertToInteractive(key) {\n",
              "          const element = document.querySelector('#df-adddef4a-7f60-4511-89cf-097ed599e8c4');\n",
              "          const dataTable =\n",
              "            await google.colab.kernel.invokeFunction('convertToInteractive',\n",
              "                                                     [key], {});\n",
              "          if (!dataTable) return;\n",
              "\n",
              "          const docLinkHtml = 'Like what you see? Visit the ' +\n",
              "            '<a target=\"_blank\" href=https://colab.research.google.com/notebooks/data_table.ipynb>data table notebook</a>'\n",
              "            + ' to learn more about interactive tables.';\n",
              "          element.innerHTML = '';\n",
              "          dataTable['output_type'] = 'display_data';\n",
              "          await google.colab.output.renderOutput(dataTable, element);\n",
              "          const docLink = document.createElement('div');\n",
              "          docLink.innerHTML = docLinkHtml;\n",
              "          element.appendChild(docLink);\n",
              "        }\n",
              "      </script>\n",
              "    </div>\n",
              "  </div>\n",
              "  "
            ]
          },
          "metadata": {},
          "execution_count": 488
        }
      ]
    },
    {
      "cell_type": "markdown",
      "source": [
        "### Test"
      ],
      "metadata": {
        "id": "KbHWw8Uo1P_W"
      }
    },
    {
      "cell_type": "code",
      "source": [
        "fasttext_test = fasttext_ranker_model.predict(fasttext_pair_of_X_Y['test'][0])"
      ],
      "metadata": {
        "id": "I1H0RDtVj5Lu"
      },
      "execution_count": 489,
      "outputs": []
    },
    {
      "cell_type": "code",
      "source": [
        "ft_result_test = pd.DataFrame(data={'predicted_ranking': tuple(fasttext_test)})\n",
        "ft_result_test.sort_values('predicted_ranking', ascending=False)"
      ],
      "metadata": {
        "colab": {
          "base_uri": "https://localhost:8080/",
          "height": 424
        },
        "id": "uFhs9zqa1_F2",
        "outputId": "9b07ebf7-27e8-40f7-d944-1df6fcf07197"
      },
      "execution_count": 490,
      "outputs": [
        {
          "output_type": "execute_result",
          "data": {
            "text/plain": [
              "      predicted_ranking\n",
              "1215           4.514802\n",
              "2479           4.372701\n",
              "1908           4.298482\n",
              "2973           4.211498\n",
              "2482           4.188819\n",
              "...                 ...\n",
              "1802          -0.417085\n",
              "2436          -0.508816\n",
              "2407          -0.513897\n",
              "2419          -0.550725\n",
              "2291          -0.948511\n",
              "\n",
              "[3210 rows x 1 columns]"
            ],
            "text/html": [
              "\n",
              "  <div id=\"df-0d075fbd-c2e7-4793-acbf-ed89265e7b4c\">\n",
              "    <div class=\"colab-df-container\">\n",
              "      <div>\n",
              "<style scoped>\n",
              "    .dataframe tbody tr th:only-of-type {\n",
              "        vertical-align: middle;\n",
              "    }\n",
              "\n",
              "    .dataframe tbody tr th {\n",
              "        vertical-align: top;\n",
              "    }\n",
              "\n",
              "    .dataframe thead th {\n",
              "        text-align: right;\n",
              "    }\n",
              "</style>\n",
              "<table border=\"1\" class=\"dataframe\">\n",
              "  <thead>\n",
              "    <tr style=\"text-align: right;\">\n",
              "      <th></th>\n",
              "      <th>predicted_ranking</th>\n",
              "    </tr>\n",
              "  </thead>\n",
              "  <tbody>\n",
              "    <tr>\n",
              "      <th>1215</th>\n",
              "      <td>4.514802</td>\n",
              "    </tr>\n",
              "    <tr>\n",
              "      <th>2479</th>\n",
              "      <td>4.372701</td>\n",
              "    </tr>\n",
              "    <tr>\n",
              "      <th>1908</th>\n",
              "      <td>4.298482</td>\n",
              "    </tr>\n",
              "    <tr>\n",
              "      <th>2973</th>\n",
              "      <td>4.211498</td>\n",
              "    </tr>\n",
              "    <tr>\n",
              "      <th>2482</th>\n",
              "      <td>4.188819</td>\n",
              "    </tr>\n",
              "    <tr>\n",
              "      <th>...</th>\n",
              "      <td>...</td>\n",
              "    </tr>\n",
              "    <tr>\n",
              "      <th>1802</th>\n",
              "      <td>-0.417085</td>\n",
              "    </tr>\n",
              "    <tr>\n",
              "      <th>2436</th>\n",
              "      <td>-0.508816</td>\n",
              "    </tr>\n",
              "    <tr>\n",
              "      <th>2407</th>\n",
              "      <td>-0.513897</td>\n",
              "    </tr>\n",
              "    <tr>\n",
              "      <th>2419</th>\n",
              "      <td>-0.550725</td>\n",
              "    </tr>\n",
              "    <tr>\n",
              "      <th>2291</th>\n",
              "      <td>-0.948511</td>\n",
              "    </tr>\n",
              "  </tbody>\n",
              "</table>\n",
              "<p>3210 rows × 1 columns</p>\n",
              "</div>\n",
              "      <button class=\"colab-df-convert\" onclick=\"convertToInteractive('df-0d075fbd-c2e7-4793-acbf-ed89265e7b4c')\"\n",
              "              title=\"Convert this dataframe to an interactive table.\"\n",
              "              style=\"display:none;\">\n",
              "        \n",
              "  <svg xmlns=\"http://www.w3.org/2000/svg\" height=\"24px\"viewBox=\"0 0 24 24\"\n",
              "       width=\"24px\">\n",
              "    <path d=\"M0 0h24v24H0V0z\" fill=\"none\"/>\n",
              "    <path d=\"M18.56 5.44l.94 2.06.94-2.06 2.06-.94-2.06-.94-.94-2.06-.94 2.06-2.06.94zm-11 1L8.5 8.5l.94-2.06 2.06-.94-2.06-.94L8.5 2.5l-.94 2.06-2.06.94zm10 10l.94 2.06.94-2.06 2.06-.94-2.06-.94-.94-2.06-.94 2.06-2.06.94z\"/><path d=\"M17.41 7.96l-1.37-1.37c-.4-.4-.92-.59-1.43-.59-.52 0-1.04.2-1.43.59L10.3 9.45l-7.72 7.72c-.78.78-.78 2.05 0 2.83L4 21.41c.39.39.9.59 1.41.59.51 0 1.02-.2 1.41-.59l7.78-7.78 2.81-2.81c.8-.78.8-2.07 0-2.86zM5.41 20L4 18.59l7.72-7.72 1.47 1.35L5.41 20z\"/>\n",
              "  </svg>\n",
              "      </button>\n",
              "      \n",
              "  <style>\n",
              "    .colab-df-container {\n",
              "      display:flex;\n",
              "      flex-wrap:wrap;\n",
              "      gap: 12px;\n",
              "    }\n",
              "\n",
              "    .colab-df-convert {\n",
              "      background-color: #E8F0FE;\n",
              "      border: none;\n",
              "      border-radius: 50%;\n",
              "      cursor: pointer;\n",
              "      display: none;\n",
              "      fill: #1967D2;\n",
              "      height: 32px;\n",
              "      padding: 0 0 0 0;\n",
              "      width: 32px;\n",
              "    }\n",
              "\n",
              "    .colab-df-convert:hover {\n",
              "      background-color: #E2EBFA;\n",
              "      box-shadow: 0px 1px 2px rgba(60, 64, 67, 0.3), 0px 1px 3px 1px rgba(60, 64, 67, 0.15);\n",
              "      fill: #174EA6;\n",
              "    }\n",
              "\n",
              "    [theme=dark] .colab-df-convert {\n",
              "      background-color: #3B4455;\n",
              "      fill: #D2E3FC;\n",
              "    }\n",
              "\n",
              "    [theme=dark] .colab-df-convert:hover {\n",
              "      background-color: #434B5C;\n",
              "      box-shadow: 0px 1px 3px 1px rgba(0, 0, 0, 0.15);\n",
              "      filter: drop-shadow(0px 1px 2px rgba(0, 0, 0, 0.3));\n",
              "      fill: #FFFFFF;\n",
              "    }\n",
              "  </style>\n",
              "\n",
              "      <script>\n",
              "        const buttonEl =\n",
              "          document.querySelector('#df-0d075fbd-c2e7-4793-acbf-ed89265e7b4c button.colab-df-convert');\n",
              "        buttonEl.style.display =\n",
              "          google.colab.kernel.accessAllowed ? 'block' : 'none';\n",
              "\n",
              "        async function convertToInteractive(key) {\n",
              "          const element = document.querySelector('#df-0d075fbd-c2e7-4793-acbf-ed89265e7b4c');\n",
              "          const dataTable =\n",
              "            await google.colab.kernel.invokeFunction('convertToInteractive',\n",
              "                                                     [key], {});\n",
              "          if (!dataTable) return;\n",
              "\n",
              "          const docLinkHtml = 'Like what you see? Visit the ' +\n",
              "            '<a target=\"_blank\" href=https://colab.research.google.com/notebooks/data_table.ipynb>data table notebook</a>'\n",
              "            + ' to learn more about interactive tables.';\n",
              "          element.innerHTML = '';\n",
              "          dataTable['output_type'] = 'display_data';\n",
              "          await google.colab.output.renderOutput(dataTable, element);\n",
              "          const docLink = document.createElement('div');\n",
              "          docLink.innerHTML = docLinkHtml;\n",
              "          element.appendChild(docLink);\n",
              "        }\n",
              "      </script>\n",
              "    </div>\n",
              "  </div>\n",
              "  "
            ]
          },
          "metadata": {},
          "execution_count": 490
        }
      ]
    },
    {
      "cell_type": "markdown",
      "source": [
        "# Build the Ranker Model (XGBoost)"
      ],
      "metadata": {
        "id": "j9gGWG_NuTU9"
      }
    },
    {
      "cell_type": "markdown",
      "source": [
        "## LSI/LSA"
      ],
      "metadata": {
        "id": "GliF1iRGuXVz"
      }
    },
    {
      "cell_type": "code",
      "source": [
        "lsia_xgb_ranker_model = xgb.XGBRanker(\n",
        "    n_estimators=200,\n",
        "    max_depth=100,\n",
        "    max_leaves=40,\n",
        "    learning_rate=.01,\n",
        "    verbosity=1,\n",
        "    objective='rank:pairwise',\n",
        "    booster='gbtree',\n",
        "    tree_method='hist',\n",
        "    eval_metric=['ndcg@5', 'ndcg@7', 'ndcg@10', 'ndcg@20']\n",
        ")"
      ],
      "metadata": {
        "id": "tLWl3j52v4Vr"
      },
      "execution_count": 393,
      "outputs": []
    },
    {
      "cell_type": "markdown",
      "source": [
        "### Train"
      ],
      "metadata": {
        "id": "4zFhUwYDvFmr"
      }
    },
    {
      "cell_type": "code",
      "source": [
        "lsia_xgb_train_model = lsia_xgb_ranker_model.fit(\n",
        "    lsia_pair_of_X_Y['train'][0],\n",
        "    lsia_pair_of_X_Y['train'][1],\n",
        "    eval_set=[(lsia_pair_of_X_Y['dev'][0], lsia_pair_of_X_Y['dev'][1])],\n",
        "    eval_group=[[lsia_pair_of_X_Y['dev'][0].shape[0]]],\n",
        "    group=query_num_of_docs_each_type['train'],\n",
        "    verbose=50\n",
        ")"
      ],
      "metadata": {
        "colab": {
          "base_uri": "https://localhost:8080/"
        },
        "id": "LuO6agFrzkSx",
        "outputId": "fb2cce81-4c7c-4b1e-fc37-7a4b3642865a"
      },
      "execution_count": 394,
      "outputs": [
        {
          "output_type": "stream",
          "name": "stdout",
          "text": [
            "[0]\teval_0-ndcg@5:0.600449\teval_0-ndcg@7:0.597643\teval_0-ndcg@10:0.563946\teval_0-ndcg@20:0.656623\n",
            "[50]\teval_0-ndcg@5:0.428571\teval_0-ndcg@7:0.536879\teval_0-ndcg@10:0.629182\teval_0-ndcg@20:0.659043\n",
            "[100]\teval_0-ndcg@5:0.625824\teval_0-ndcg@7:0.640794\teval_0-ndcg@10:0.674527\teval_0-ndcg@20:0.699544\n",
            "[150]\teval_0-ndcg@5:0.877722\teval_0-ndcg@7:0.792591\teval_0-ndcg@10:0.759714\teval_0-ndcg@20:0.775821\n",
            "[199]\teval_0-ndcg@5:0.916532\teval_0-ndcg@7:0.879995\teval_0-ndcg@10:0.809706\teval_0-ndcg@20:0.777479\n"
          ]
        }
      ]
    },
    {
      "cell_type": "markdown",
      "source": [
        "### Evaluation"
      ],
      "metadata": {
        "id": "l-F0SgHZvJjF"
      }
    },
    {
      "cell_type": "code",
      "source": [
        "lsia_xgb_eval = lsia_xgb_train_model.predict(lsia_pair_of_X_Y['dev'][0])"
      ],
      "metadata": {
        "id": "WYDIH1rY2LBW"
      },
      "execution_count": 405,
      "outputs": []
    },
    {
      "cell_type": "code",
      "source": [
        "result_xgb_eval = pd.DataFrame(data={'predicted_ranking': tuple(lsia_xgb_eval)})\n",
        "result_xgb_eval.sort_values('predicted_ranking', ascending=False)"
      ],
      "metadata": {
        "colab": {
          "base_uri": "https://localhost:8080/",
          "height": 424
        },
        "id": "KBP7_sDC2Lbo",
        "outputId": "79a65141-7c16-48dc-ad86-3028696f124d"
      },
      "execution_count": 406,
      "outputs": [
        {
          "output_type": "execute_result",
          "data": {
            "text/plain": [
              "      predicted_ranking\n",
              "2128           1.633784\n",
              "1074           1.628641\n",
              "2117           1.623148\n",
              "3093           1.621692\n",
              "1187           1.614894\n",
              "...                 ...\n",
              "1365          -0.164220\n",
              "124           -0.165590\n",
              "1188          -0.169109\n",
              "2157          -0.174519\n",
              "1510          -0.193640\n",
              "\n",
              "[3170 rows x 1 columns]"
            ],
            "text/html": [
              "\n",
              "  <div id=\"df-5068d09d-a7f4-4f6a-ac7f-6a61fda85512\">\n",
              "    <div class=\"colab-df-container\">\n",
              "      <div>\n",
              "<style scoped>\n",
              "    .dataframe tbody tr th:only-of-type {\n",
              "        vertical-align: middle;\n",
              "    }\n",
              "\n",
              "    .dataframe tbody tr th {\n",
              "        vertical-align: top;\n",
              "    }\n",
              "\n",
              "    .dataframe thead th {\n",
              "        text-align: right;\n",
              "    }\n",
              "</style>\n",
              "<table border=\"1\" class=\"dataframe\">\n",
              "  <thead>\n",
              "    <tr style=\"text-align: right;\">\n",
              "      <th></th>\n",
              "      <th>predicted_ranking</th>\n",
              "    </tr>\n",
              "  </thead>\n",
              "  <tbody>\n",
              "    <tr>\n",
              "      <th>2128</th>\n",
              "      <td>1.633784</td>\n",
              "    </tr>\n",
              "    <tr>\n",
              "      <th>1074</th>\n",
              "      <td>1.628641</td>\n",
              "    </tr>\n",
              "    <tr>\n",
              "      <th>2117</th>\n",
              "      <td>1.623148</td>\n",
              "    </tr>\n",
              "    <tr>\n",
              "      <th>3093</th>\n",
              "      <td>1.621692</td>\n",
              "    </tr>\n",
              "    <tr>\n",
              "      <th>1187</th>\n",
              "      <td>1.614894</td>\n",
              "    </tr>\n",
              "    <tr>\n",
              "      <th>...</th>\n",
              "      <td>...</td>\n",
              "    </tr>\n",
              "    <tr>\n",
              "      <th>1365</th>\n",
              "      <td>-0.164220</td>\n",
              "    </tr>\n",
              "    <tr>\n",
              "      <th>124</th>\n",
              "      <td>-0.165590</td>\n",
              "    </tr>\n",
              "    <tr>\n",
              "      <th>1188</th>\n",
              "      <td>-0.169109</td>\n",
              "    </tr>\n",
              "    <tr>\n",
              "      <th>2157</th>\n",
              "      <td>-0.174519</td>\n",
              "    </tr>\n",
              "    <tr>\n",
              "      <th>1510</th>\n",
              "      <td>-0.193640</td>\n",
              "    </tr>\n",
              "  </tbody>\n",
              "</table>\n",
              "<p>3170 rows × 1 columns</p>\n",
              "</div>\n",
              "      <button class=\"colab-df-convert\" onclick=\"convertToInteractive('df-5068d09d-a7f4-4f6a-ac7f-6a61fda85512')\"\n",
              "              title=\"Convert this dataframe to an interactive table.\"\n",
              "              style=\"display:none;\">\n",
              "        \n",
              "  <svg xmlns=\"http://www.w3.org/2000/svg\" height=\"24px\"viewBox=\"0 0 24 24\"\n",
              "       width=\"24px\">\n",
              "    <path d=\"M0 0h24v24H0V0z\" fill=\"none\"/>\n",
              "    <path d=\"M18.56 5.44l.94 2.06.94-2.06 2.06-.94-2.06-.94-.94-2.06-.94 2.06-2.06.94zm-11 1L8.5 8.5l.94-2.06 2.06-.94-2.06-.94L8.5 2.5l-.94 2.06-2.06.94zm10 10l.94 2.06.94-2.06 2.06-.94-2.06-.94-.94-2.06-.94 2.06-2.06.94z\"/><path d=\"M17.41 7.96l-1.37-1.37c-.4-.4-.92-.59-1.43-.59-.52 0-1.04.2-1.43.59L10.3 9.45l-7.72 7.72c-.78.78-.78 2.05 0 2.83L4 21.41c.39.39.9.59 1.41.59.51 0 1.02-.2 1.41-.59l7.78-7.78 2.81-2.81c.8-.78.8-2.07 0-2.86zM5.41 20L4 18.59l7.72-7.72 1.47 1.35L5.41 20z\"/>\n",
              "  </svg>\n",
              "      </button>\n",
              "      \n",
              "  <style>\n",
              "    .colab-df-container {\n",
              "      display:flex;\n",
              "      flex-wrap:wrap;\n",
              "      gap: 12px;\n",
              "    }\n",
              "\n",
              "    .colab-df-convert {\n",
              "      background-color: #E8F0FE;\n",
              "      border: none;\n",
              "      border-radius: 50%;\n",
              "      cursor: pointer;\n",
              "      display: none;\n",
              "      fill: #1967D2;\n",
              "      height: 32px;\n",
              "      padding: 0 0 0 0;\n",
              "      width: 32px;\n",
              "    }\n",
              "\n",
              "    .colab-df-convert:hover {\n",
              "      background-color: #E2EBFA;\n",
              "      box-shadow: 0px 1px 2px rgba(60, 64, 67, 0.3), 0px 1px 3px 1px rgba(60, 64, 67, 0.15);\n",
              "      fill: #174EA6;\n",
              "    }\n",
              "\n",
              "    [theme=dark] .colab-df-convert {\n",
              "      background-color: #3B4455;\n",
              "      fill: #D2E3FC;\n",
              "    }\n",
              "\n",
              "    [theme=dark] .colab-df-convert:hover {\n",
              "      background-color: #434B5C;\n",
              "      box-shadow: 0px 1px 3px 1px rgba(0, 0, 0, 0.15);\n",
              "      filter: drop-shadow(0px 1px 2px rgba(0, 0, 0, 0.3));\n",
              "      fill: #FFFFFF;\n",
              "    }\n",
              "  </style>\n",
              "\n",
              "      <script>\n",
              "        const buttonEl =\n",
              "          document.querySelector('#df-5068d09d-a7f4-4f6a-ac7f-6a61fda85512 button.colab-df-convert');\n",
              "        buttonEl.style.display =\n",
              "          google.colab.kernel.accessAllowed ? 'block' : 'none';\n",
              "\n",
              "        async function convertToInteractive(key) {\n",
              "          const element = document.querySelector('#df-5068d09d-a7f4-4f6a-ac7f-6a61fda85512');\n",
              "          const dataTable =\n",
              "            await google.colab.kernel.invokeFunction('convertToInteractive',\n",
              "                                                     [key], {});\n",
              "          if (!dataTable) return;\n",
              "\n",
              "          const docLinkHtml = 'Like what you see? Visit the ' +\n",
              "            '<a target=\"_blank\" href=https://colab.research.google.com/notebooks/data_table.ipynb>data table notebook</a>'\n",
              "            + ' to learn more about interactive tables.';\n",
              "          element.innerHTML = '';\n",
              "          dataTable['output_type'] = 'display_data';\n",
              "          await google.colab.output.renderOutput(dataTable, element);\n",
              "          const docLink = document.createElement('div');\n",
              "          docLink.innerHTML = docLinkHtml;\n",
              "          element.appendChild(docLink);\n",
              "        }\n",
              "      </script>\n",
              "    </div>\n",
              "  </div>\n",
              "  "
            ]
          },
          "metadata": {},
          "execution_count": 406
        }
      ]
    },
    {
      "cell_type": "markdown",
      "source": [
        "### Test"
      ],
      "metadata": {
        "id": "6DpTS7RLvLnz"
      }
    },
    {
      "cell_type": "code",
      "source": [
        "lsia_xgb_test = lsia_xgb_train_model.predict(lsia_pair_of_X_Y['test'][0])"
      ],
      "metadata": {
        "id": "_6cq-5Rr2fJJ"
      },
      "execution_count": 407,
      "outputs": []
    },
    {
      "cell_type": "code",
      "source": [
        "result_xgb_test = pd.DataFrame(data={'predicted_ranking': tuple(lsia_xgb_test)})\n",
        "result_xgb_test.sort_values('predicted_ranking', ascending=False)"
      ],
      "metadata": {
        "colab": {
          "base_uri": "https://localhost:8080/",
          "height": 424
        },
        "id": "Yf5vzymQ2fcA",
        "outputId": "9a5385a0-159b-43db-8d13-d3d8d9f25d88"
      },
      "execution_count": 408,
      "outputs": [
        {
          "output_type": "execute_result",
          "data": {
            "text/plain": [
              "      predicted_ranking\n",
              "1088           1.636737\n",
              "1084           1.631397\n",
              "2517           1.627605\n",
              "1087           1.617097\n",
              "1050           1.616501\n",
              "...                 ...\n",
              "1806          -0.278757\n",
              "751           -0.281220\n",
              "427           -0.285314\n",
              "1886          -0.287520\n",
              "1277          -0.290732\n",
              "\n",
              "[3210 rows x 1 columns]"
            ],
            "text/html": [
              "\n",
              "  <div id=\"df-61fc3f05-cf2a-44c2-a5c5-f613936e3e49\">\n",
              "    <div class=\"colab-df-container\">\n",
              "      <div>\n",
              "<style scoped>\n",
              "    .dataframe tbody tr th:only-of-type {\n",
              "        vertical-align: middle;\n",
              "    }\n",
              "\n",
              "    .dataframe tbody tr th {\n",
              "        vertical-align: top;\n",
              "    }\n",
              "\n",
              "    .dataframe thead th {\n",
              "        text-align: right;\n",
              "    }\n",
              "</style>\n",
              "<table border=\"1\" class=\"dataframe\">\n",
              "  <thead>\n",
              "    <tr style=\"text-align: right;\">\n",
              "      <th></th>\n",
              "      <th>predicted_ranking</th>\n",
              "    </tr>\n",
              "  </thead>\n",
              "  <tbody>\n",
              "    <tr>\n",
              "      <th>1088</th>\n",
              "      <td>1.636737</td>\n",
              "    </tr>\n",
              "    <tr>\n",
              "      <th>1084</th>\n",
              "      <td>1.631397</td>\n",
              "    </tr>\n",
              "    <tr>\n",
              "      <th>2517</th>\n",
              "      <td>1.627605</td>\n",
              "    </tr>\n",
              "    <tr>\n",
              "      <th>1087</th>\n",
              "      <td>1.617097</td>\n",
              "    </tr>\n",
              "    <tr>\n",
              "      <th>1050</th>\n",
              "      <td>1.616501</td>\n",
              "    </tr>\n",
              "    <tr>\n",
              "      <th>...</th>\n",
              "      <td>...</td>\n",
              "    </tr>\n",
              "    <tr>\n",
              "      <th>1806</th>\n",
              "      <td>-0.278757</td>\n",
              "    </tr>\n",
              "    <tr>\n",
              "      <th>751</th>\n",
              "      <td>-0.281220</td>\n",
              "    </tr>\n",
              "    <tr>\n",
              "      <th>427</th>\n",
              "      <td>-0.285314</td>\n",
              "    </tr>\n",
              "    <tr>\n",
              "      <th>1886</th>\n",
              "      <td>-0.287520</td>\n",
              "    </tr>\n",
              "    <tr>\n",
              "      <th>1277</th>\n",
              "      <td>-0.290732</td>\n",
              "    </tr>\n",
              "  </tbody>\n",
              "</table>\n",
              "<p>3210 rows × 1 columns</p>\n",
              "</div>\n",
              "      <button class=\"colab-df-convert\" onclick=\"convertToInteractive('df-61fc3f05-cf2a-44c2-a5c5-f613936e3e49')\"\n",
              "              title=\"Convert this dataframe to an interactive table.\"\n",
              "              style=\"display:none;\">\n",
              "        \n",
              "  <svg xmlns=\"http://www.w3.org/2000/svg\" height=\"24px\"viewBox=\"0 0 24 24\"\n",
              "       width=\"24px\">\n",
              "    <path d=\"M0 0h24v24H0V0z\" fill=\"none\"/>\n",
              "    <path d=\"M18.56 5.44l.94 2.06.94-2.06 2.06-.94-2.06-.94-.94-2.06-.94 2.06-2.06.94zm-11 1L8.5 8.5l.94-2.06 2.06-.94-2.06-.94L8.5 2.5l-.94 2.06-2.06.94zm10 10l.94 2.06.94-2.06 2.06-.94-2.06-.94-.94-2.06-.94 2.06-2.06.94z\"/><path d=\"M17.41 7.96l-1.37-1.37c-.4-.4-.92-.59-1.43-.59-.52 0-1.04.2-1.43.59L10.3 9.45l-7.72 7.72c-.78.78-.78 2.05 0 2.83L4 21.41c.39.39.9.59 1.41.59.51 0 1.02-.2 1.41-.59l7.78-7.78 2.81-2.81c.8-.78.8-2.07 0-2.86zM5.41 20L4 18.59l7.72-7.72 1.47 1.35L5.41 20z\"/>\n",
              "  </svg>\n",
              "      </button>\n",
              "      \n",
              "  <style>\n",
              "    .colab-df-container {\n",
              "      display:flex;\n",
              "      flex-wrap:wrap;\n",
              "      gap: 12px;\n",
              "    }\n",
              "\n",
              "    .colab-df-convert {\n",
              "      background-color: #E8F0FE;\n",
              "      border: none;\n",
              "      border-radius: 50%;\n",
              "      cursor: pointer;\n",
              "      display: none;\n",
              "      fill: #1967D2;\n",
              "      height: 32px;\n",
              "      padding: 0 0 0 0;\n",
              "      width: 32px;\n",
              "    }\n",
              "\n",
              "    .colab-df-convert:hover {\n",
              "      background-color: #E2EBFA;\n",
              "      box-shadow: 0px 1px 2px rgba(60, 64, 67, 0.3), 0px 1px 3px 1px rgba(60, 64, 67, 0.15);\n",
              "      fill: #174EA6;\n",
              "    }\n",
              "\n",
              "    [theme=dark] .colab-df-convert {\n",
              "      background-color: #3B4455;\n",
              "      fill: #D2E3FC;\n",
              "    }\n",
              "\n",
              "    [theme=dark] .colab-df-convert:hover {\n",
              "      background-color: #434B5C;\n",
              "      box-shadow: 0px 1px 3px 1px rgba(0, 0, 0, 0.15);\n",
              "      filter: drop-shadow(0px 1px 2px rgba(0, 0, 0, 0.3));\n",
              "      fill: #FFFFFF;\n",
              "    }\n",
              "  </style>\n",
              "\n",
              "      <script>\n",
              "        const buttonEl =\n",
              "          document.querySelector('#df-61fc3f05-cf2a-44c2-a5c5-f613936e3e49 button.colab-df-convert');\n",
              "        buttonEl.style.display =\n",
              "          google.colab.kernel.accessAllowed ? 'block' : 'none';\n",
              "\n",
              "        async function convertToInteractive(key) {\n",
              "          const element = document.querySelector('#df-61fc3f05-cf2a-44c2-a5c5-f613936e3e49');\n",
              "          const dataTable =\n",
              "            await google.colab.kernel.invokeFunction('convertToInteractive',\n",
              "                                                     [key], {});\n",
              "          if (!dataTable) return;\n",
              "\n",
              "          const docLinkHtml = 'Like what you see? Visit the ' +\n",
              "            '<a target=\"_blank\" href=https://colab.research.google.com/notebooks/data_table.ipynb>data table notebook</a>'\n",
              "            + ' to learn more about interactive tables.';\n",
              "          element.innerHTML = '';\n",
              "          dataTable['output_type'] = 'display_data';\n",
              "          await google.colab.output.renderOutput(dataTable, element);\n",
              "          const docLink = document.createElement('div');\n",
              "          docLink.innerHTML = docLinkHtml;\n",
              "          element.appendChild(docLink);\n",
              "        }\n",
              "      </script>\n",
              "    </div>\n",
              "  </div>\n",
              "  "
            ]
          },
          "metadata": {},
          "execution_count": 408
        }
      ]
    },
    {
      "cell_type": "markdown",
      "source": [
        "## FastText"
      ],
      "metadata": {
        "id": "5g5BgajFuYul"
      }
    },
    {
      "cell_type": "code",
      "source": [
        "ft_xgb_ranker_model = xgb.XGBRanker(\n",
        "    n_estimators=150,\n",
        "    max_depth=125,\n",
        "    max_leaves=100,\n",
        "    learning_rate=.05,\n",
        "    verbosity=1,\n",
        "    objective='rank:ndcg',\n",
        "    booster='gbtree',\n",
        "    tree_method='hist',\n",
        "    eval_metric=['ndcg@5', 'ndcg@7', 'ndcg@10', 'ndcg@20']\n",
        ")"
      ],
      "metadata": {
        "id": "jELxCmng2uIY"
      },
      "execution_count": 466,
      "outputs": []
    },
    {
      "cell_type": "markdown",
      "source": [
        "### Train"
      ],
      "metadata": {
        "id": "W1yIF6kavAHU"
      }
    },
    {
      "cell_type": "code",
      "source": [
        "ft_xgb_train_model = ft_xgb_ranker_model.fit(\n",
        "    fasttext_pair_of_X_Y['train'][0],\n",
        "    fasttext_pair_of_X_Y['train'][1],\n",
        "    eval_set=[(fasttext_pair_of_X_Y['dev'][0], fasttext_pair_of_X_Y['dev'][1])],\n",
        "    eval_group=[[fasttext_pair_of_X_Y['dev'][0].shape[0]]],\n",
        "    group=query_num_of_docs_each_type['train'],\n",
        "    verbose=50\n",
        ")"
      ],
      "metadata": {
        "colab": {
          "base_uri": "https://localhost:8080/"
        },
        "id": "k30y7upZ2xOo",
        "outputId": "44294331-7329-40cf-a1cf-6b213fdf4779"
      },
      "execution_count": 458,
      "outputs": [
        {
          "output_type": "stream",
          "name": "stdout",
          "text": [
            "[0]\teval_0-ndcg@5:0.925026\teval_0-ndcg@7:0.830929\teval_0-ndcg@10:0.788596\teval_0-ndcg@20:0.700717\n",
            "[50]\teval_0-ndcg@5:0.771178\teval_0-ndcg@7:0.758598\teval_0-ndcg@10:0.692822\teval_0-ndcg@20:0.640588\n",
            "[100]\teval_0-ndcg@5:0.647752\teval_0-ndcg@7:0.630591\teval_0-ndcg@10:0.664542\teval_0-ndcg@20:0.653739\n",
            "[149]\teval_0-ndcg@5:0.925026\teval_0-ndcg@7:0.883286\teval_0-ndcg@10:0.735714\teval_0-ndcg@20:0.731674\n"
          ]
        }
      ]
    },
    {
      "cell_type": "markdown",
      "source": [
        "### Evaluation"
      ],
      "metadata": {
        "id": "cmwTEUZfvB2S"
      }
    },
    {
      "cell_type": "code",
      "source": [
        "fasttext_xgb_eval = ft_xgb_train_model.predict(fasttext_pair_of_X_Y['dev'][0])"
      ],
      "metadata": {
        "id": "ALljHMOv4Ugn"
      },
      "execution_count": 459,
      "outputs": []
    },
    {
      "cell_type": "code",
      "source": [
        "result_xgb_eval = pd.DataFrame(data={'predicted_ranking': tuple(fasttext_xgb_eval)})\n",
        "result_xgb_eval.sort_values('predicted_ranking', ascending=False)"
      ],
      "metadata": {
        "colab": {
          "base_uri": "https://localhost:8080/",
          "height": 424
        },
        "id": "hyxsfqiv4VDI",
        "outputId": "bb0bb4d6-8fbf-4ed9-f4eb-9a9b91160d23"
      },
      "execution_count": 460,
      "outputs": [
        {
          "output_type": "execute_result",
          "data": {
            "text/plain": [
              "      predicted_ranking\n",
              "471            1.762225\n",
              "468            1.747983\n",
              "1269           1.741430\n",
              "450            1.741422\n",
              "3089           1.732921\n",
              "...                 ...\n",
              "2579          -0.885305\n",
              "1200          -0.888180\n",
              "1207          -0.900328\n",
              "1202          -0.913183\n",
              "2610          -0.941867\n",
              "\n",
              "[3170 rows x 1 columns]"
            ],
            "text/html": [
              "\n",
              "  <div id=\"df-1accd15c-125f-4a64-ae55-041b156a4667\">\n",
              "    <div class=\"colab-df-container\">\n",
              "      <div>\n",
              "<style scoped>\n",
              "    .dataframe tbody tr th:only-of-type {\n",
              "        vertical-align: middle;\n",
              "    }\n",
              "\n",
              "    .dataframe tbody tr th {\n",
              "        vertical-align: top;\n",
              "    }\n",
              "\n",
              "    .dataframe thead th {\n",
              "        text-align: right;\n",
              "    }\n",
              "</style>\n",
              "<table border=\"1\" class=\"dataframe\">\n",
              "  <thead>\n",
              "    <tr style=\"text-align: right;\">\n",
              "      <th></th>\n",
              "      <th>predicted_ranking</th>\n",
              "    </tr>\n",
              "  </thead>\n",
              "  <tbody>\n",
              "    <tr>\n",
              "      <th>471</th>\n",
              "      <td>1.762225</td>\n",
              "    </tr>\n",
              "    <tr>\n",
              "      <th>468</th>\n",
              "      <td>1.747983</td>\n",
              "    </tr>\n",
              "    <tr>\n",
              "      <th>1269</th>\n",
              "      <td>1.741430</td>\n",
              "    </tr>\n",
              "    <tr>\n",
              "      <th>450</th>\n",
              "      <td>1.741422</td>\n",
              "    </tr>\n",
              "    <tr>\n",
              "      <th>3089</th>\n",
              "      <td>1.732921</td>\n",
              "    </tr>\n",
              "    <tr>\n",
              "      <th>...</th>\n",
              "      <td>...</td>\n",
              "    </tr>\n",
              "    <tr>\n",
              "      <th>2579</th>\n",
              "      <td>-0.885305</td>\n",
              "    </tr>\n",
              "    <tr>\n",
              "      <th>1200</th>\n",
              "      <td>-0.888180</td>\n",
              "    </tr>\n",
              "    <tr>\n",
              "      <th>1207</th>\n",
              "      <td>-0.900328</td>\n",
              "    </tr>\n",
              "    <tr>\n",
              "      <th>1202</th>\n",
              "      <td>-0.913183</td>\n",
              "    </tr>\n",
              "    <tr>\n",
              "      <th>2610</th>\n",
              "      <td>-0.941867</td>\n",
              "    </tr>\n",
              "  </tbody>\n",
              "</table>\n",
              "<p>3170 rows × 1 columns</p>\n",
              "</div>\n",
              "      <button class=\"colab-df-convert\" onclick=\"convertToInteractive('df-1accd15c-125f-4a64-ae55-041b156a4667')\"\n",
              "              title=\"Convert this dataframe to an interactive table.\"\n",
              "              style=\"display:none;\">\n",
              "        \n",
              "  <svg xmlns=\"http://www.w3.org/2000/svg\" height=\"24px\"viewBox=\"0 0 24 24\"\n",
              "       width=\"24px\">\n",
              "    <path d=\"M0 0h24v24H0V0z\" fill=\"none\"/>\n",
              "    <path d=\"M18.56 5.44l.94 2.06.94-2.06 2.06-.94-2.06-.94-.94-2.06-.94 2.06-2.06.94zm-11 1L8.5 8.5l.94-2.06 2.06-.94-2.06-.94L8.5 2.5l-.94 2.06-2.06.94zm10 10l.94 2.06.94-2.06 2.06-.94-2.06-.94-.94-2.06-.94 2.06-2.06.94z\"/><path d=\"M17.41 7.96l-1.37-1.37c-.4-.4-.92-.59-1.43-.59-.52 0-1.04.2-1.43.59L10.3 9.45l-7.72 7.72c-.78.78-.78 2.05 0 2.83L4 21.41c.39.39.9.59 1.41.59.51 0 1.02-.2 1.41-.59l7.78-7.78 2.81-2.81c.8-.78.8-2.07 0-2.86zM5.41 20L4 18.59l7.72-7.72 1.47 1.35L5.41 20z\"/>\n",
              "  </svg>\n",
              "      </button>\n",
              "      \n",
              "  <style>\n",
              "    .colab-df-container {\n",
              "      display:flex;\n",
              "      flex-wrap:wrap;\n",
              "      gap: 12px;\n",
              "    }\n",
              "\n",
              "    .colab-df-convert {\n",
              "      background-color: #E8F0FE;\n",
              "      border: none;\n",
              "      border-radius: 50%;\n",
              "      cursor: pointer;\n",
              "      display: none;\n",
              "      fill: #1967D2;\n",
              "      height: 32px;\n",
              "      padding: 0 0 0 0;\n",
              "      width: 32px;\n",
              "    }\n",
              "\n",
              "    .colab-df-convert:hover {\n",
              "      background-color: #E2EBFA;\n",
              "      box-shadow: 0px 1px 2px rgba(60, 64, 67, 0.3), 0px 1px 3px 1px rgba(60, 64, 67, 0.15);\n",
              "      fill: #174EA6;\n",
              "    }\n",
              "\n",
              "    [theme=dark] .colab-df-convert {\n",
              "      background-color: #3B4455;\n",
              "      fill: #D2E3FC;\n",
              "    }\n",
              "\n",
              "    [theme=dark] .colab-df-convert:hover {\n",
              "      background-color: #434B5C;\n",
              "      box-shadow: 0px 1px 3px 1px rgba(0, 0, 0, 0.15);\n",
              "      filter: drop-shadow(0px 1px 2px rgba(0, 0, 0, 0.3));\n",
              "      fill: #FFFFFF;\n",
              "    }\n",
              "  </style>\n",
              "\n",
              "      <script>\n",
              "        const buttonEl =\n",
              "          document.querySelector('#df-1accd15c-125f-4a64-ae55-041b156a4667 button.colab-df-convert');\n",
              "        buttonEl.style.display =\n",
              "          google.colab.kernel.accessAllowed ? 'block' : 'none';\n",
              "\n",
              "        async function convertToInteractive(key) {\n",
              "          const element = document.querySelector('#df-1accd15c-125f-4a64-ae55-041b156a4667');\n",
              "          const dataTable =\n",
              "            await google.colab.kernel.invokeFunction('convertToInteractive',\n",
              "                                                     [key], {});\n",
              "          if (!dataTable) return;\n",
              "\n",
              "          const docLinkHtml = 'Like what you see? Visit the ' +\n",
              "            '<a target=\"_blank\" href=https://colab.research.google.com/notebooks/data_table.ipynb>data table notebook</a>'\n",
              "            + ' to learn more about interactive tables.';\n",
              "          element.innerHTML = '';\n",
              "          dataTable['output_type'] = 'display_data';\n",
              "          await google.colab.output.renderOutput(dataTable, element);\n",
              "          const docLink = document.createElement('div');\n",
              "          docLink.innerHTML = docLinkHtml;\n",
              "          element.appendChild(docLink);\n",
              "        }\n",
              "      </script>\n",
              "    </div>\n",
              "  </div>\n",
              "  "
            ]
          },
          "metadata": {},
          "execution_count": 460
        }
      ]
    },
    {
      "cell_type": "markdown",
      "source": [
        "### Test"
      ],
      "metadata": {
        "id": "LE8i-bgovDDm"
      }
    },
    {
      "cell_type": "code",
      "source": [
        "fasttext_xgb_test = ft_xgb_train_model.predict(fasttext_pair_of_X_Y['test'][0])"
      ],
      "metadata": {
        "id": "acQVZRzF4iz2"
      },
      "execution_count": 461,
      "outputs": []
    },
    {
      "cell_type": "code",
      "source": [
        "result_xgb_test = pd.DataFrame(data={'predicted_ranking': tuple(fasttext_xgb_test)})\n",
        "result_xgb_test.sort_values('predicted_ranking', ascending=False)"
      ],
      "metadata": {
        "colab": {
          "base_uri": "https://localhost:8080/",
          "height": 424
        },
        "id": "aLZCdzfP4jFM",
        "outputId": "6d1120a8-f2ff-4ea5-cc9d-c670885b0222"
      },
      "execution_count": 462,
      "outputs": [
        {
          "output_type": "execute_result",
          "data": {
            "text/plain": [
              "      predicted_ranking\n",
              "634            1.894096\n",
              "56             1.802026\n",
              "1159           1.774808\n",
              "2300           1.722766\n",
              "2998           1.717169\n",
              "...                 ...\n",
              "1121          -0.680057\n",
              "1324          -0.691025\n",
              "1323          -0.695994\n",
              "2287          -0.739756\n",
              "1280          -0.748917\n",
              "\n",
              "[3210 rows x 1 columns]"
            ],
            "text/html": [
              "\n",
              "  <div id=\"df-7cf864b6-0f34-4160-8f41-64011a2bfa15\">\n",
              "    <div class=\"colab-df-container\">\n",
              "      <div>\n",
              "<style scoped>\n",
              "    .dataframe tbody tr th:only-of-type {\n",
              "        vertical-align: middle;\n",
              "    }\n",
              "\n",
              "    .dataframe tbody tr th {\n",
              "        vertical-align: top;\n",
              "    }\n",
              "\n",
              "    .dataframe thead th {\n",
              "        text-align: right;\n",
              "    }\n",
              "</style>\n",
              "<table border=\"1\" class=\"dataframe\">\n",
              "  <thead>\n",
              "    <tr style=\"text-align: right;\">\n",
              "      <th></th>\n",
              "      <th>predicted_ranking</th>\n",
              "    </tr>\n",
              "  </thead>\n",
              "  <tbody>\n",
              "    <tr>\n",
              "      <th>634</th>\n",
              "      <td>1.894096</td>\n",
              "    </tr>\n",
              "    <tr>\n",
              "      <th>56</th>\n",
              "      <td>1.802026</td>\n",
              "    </tr>\n",
              "    <tr>\n",
              "      <th>1159</th>\n",
              "      <td>1.774808</td>\n",
              "    </tr>\n",
              "    <tr>\n",
              "      <th>2300</th>\n",
              "      <td>1.722766</td>\n",
              "    </tr>\n",
              "    <tr>\n",
              "      <th>2998</th>\n",
              "      <td>1.717169</td>\n",
              "    </tr>\n",
              "    <tr>\n",
              "      <th>...</th>\n",
              "      <td>...</td>\n",
              "    </tr>\n",
              "    <tr>\n",
              "      <th>1121</th>\n",
              "      <td>-0.680057</td>\n",
              "    </tr>\n",
              "    <tr>\n",
              "      <th>1324</th>\n",
              "      <td>-0.691025</td>\n",
              "    </tr>\n",
              "    <tr>\n",
              "      <th>1323</th>\n",
              "      <td>-0.695994</td>\n",
              "    </tr>\n",
              "    <tr>\n",
              "      <th>2287</th>\n",
              "      <td>-0.739756</td>\n",
              "    </tr>\n",
              "    <tr>\n",
              "      <th>1280</th>\n",
              "      <td>-0.748917</td>\n",
              "    </tr>\n",
              "  </tbody>\n",
              "</table>\n",
              "<p>3210 rows × 1 columns</p>\n",
              "</div>\n",
              "      <button class=\"colab-df-convert\" onclick=\"convertToInteractive('df-7cf864b6-0f34-4160-8f41-64011a2bfa15')\"\n",
              "              title=\"Convert this dataframe to an interactive table.\"\n",
              "              style=\"display:none;\">\n",
              "        \n",
              "  <svg xmlns=\"http://www.w3.org/2000/svg\" height=\"24px\"viewBox=\"0 0 24 24\"\n",
              "       width=\"24px\">\n",
              "    <path d=\"M0 0h24v24H0V0z\" fill=\"none\"/>\n",
              "    <path d=\"M18.56 5.44l.94 2.06.94-2.06 2.06-.94-2.06-.94-.94-2.06-.94 2.06-2.06.94zm-11 1L8.5 8.5l.94-2.06 2.06-.94-2.06-.94L8.5 2.5l-.94 2.06-2.06.94zm10 10l.94 2.06.94-2.06 2.06-.94-2.06-.94-.94-2.06-.94 2.06-2.06.94z\"/><path d=\"M17.41 7.96l-1.37-1.37c-.4-.4-.92-.59-1.43-.59-.52 0-1.04.2-1.43.59L10.3 9.45l-7.72 7.72c-.78.78-.78 2.05 0 2.83L4 21.41c.39.39.9.59 1.41.59.51 0 1.02-.2 1.41-.59l7.78-7.78 2.81-2.81c.8-.78.8-2.07 0-2.86zM5.41 20L4 18.59l7.72-7.72 1.47 1.35L5.41 20z\"/>\n",
              "  </svg>\n",
              "      </button>\n",
              "      \n",
              "  <style>\n",
              "    .colab-df-container {\n",
              "      display:flex;\n",
              "      flex-wrap:wrap;\n",
              "      gap: 12px;\n",
              "    }\n",
              "\n",
              "    .colab-df-convert {\n",
              "      background-color: #E8F0FE;\n",
              "      border: none;\n",
              "      border-radius: 50%;\n",
              "      cursor: pointer;\n",
              "      display: none;\n",
              "      fill: #1967D2;\n",
              "      height: 32px;\n",
              "      padding: 0 0 0 0;\n",
              "      width: 32px;\n",
              "    }\n",
              "\n",
              "    .colab-df-convert:hover {\n",
              "      background-color: #E2EBFA;\n",
              "      box-shadow: 0px 1px 2px rgba(60, 64, 67, 0.3), 0px 1px 3px 1px rgba(60, 64, 67, 0.15);\n",
              "      fill: #174EA6;\n",
              "    }\n",
              "\n",
              "    [theme=dark] .colab-df-convert {\n",
              "      background-color: #3B4455;\n",
              "      fill: #D2E3FC;\n",
              "    }\n",
              "\n",
              "    [theme=dark] .colab-df-convert:hover {\n",
              "      background-color: #434B5C;\n",
              "      box-shadow: 0px 1px 3px 1px rgba(0, 0, 0, 0.15);\n",
              "      filter: drop-shadow(0px 1px 2px rgba(0, 0, 0, 0.3));\n",
              "      fill: #FFFFFF;\n",
              "    }\n",
              "  </style>\n",
              "\n",
              "      <script>\n",
              "        const buttonEl =\n",
              "          document.querySelector('#df-7cf864b6-0f34-4160-8f41-64011a2bfa15 button.colab-df-convert');\n",
              "        buttonEl.style.display =\n",
              "          google.colab.kernel.accessAllowed ? 'block' : 'none';\n",
              "\n",
              "        async function convertToInteractive(key) {\n",
              "          const element = document.querySelector('#df-7cf864b6-0f34-4160-8f41-64011a2bfa15');\n",
              "          const dataTable =\n",
              "            await google.colab.kernel.invokeFunction('convertToInteractive',\n",
              "                                                     [key], {});\n",
              "          if (!dataTable) return;\n",
              "\n",
              "          const docLinkHtml = 'Like what you see? Visit the ' +\n",
              "            '<a target=\"_blank\" href=https://colab.research.google.com/notebooks/data_table.ipynb>data table notebook</a>'\n",
              "            + ' to learn more about interactive tables.';\n",
              "          element.innerHTML = '';\n",
              "          dataTable['output_type'] = 'display_data';\n",
              "          await google.colab.output.renderOutput(dataTable, element);\n",
              "          const docLink = document.createElement('div');\n",
              "          docLink.innerHTML = docLinkHtml;\n",
              "          element.appendChild(docLink);\n",
              "        }\n",
              "      </script>\n",
              "    </div>\n",
              "  </div>\n",
              "  "
            ]
          },
          "metadata": {},
          "execution_count": 462
        }
      ]
    },
    {
      "cell_type": "markdown",
      "source": [
        "# Predict Ranking for Unseen Pairs"
      ],
      "metadata": {
        "id": "nnuhsB_PLpzj"
      }
    },
    {
      "cell_type": "code",
      "source": [
        "query = \"how much cancer risk can be avoided through lifestyle change ?\"\n",
        "\n",
        "docs =[(\"D1\", \"dietary restriction reduces insulin-like growth factor levels modulates apoptosis cell proliferation tumor progression num defici pubmed ncbi abstract diet contributes one-third cancer deaths western world factors diet influence cancer elucidated reduction caloric intake dramatically slows cancer progression rodents major contribution dietary effects cancer insulin-like growth factor igf-i lowered dietary restriction dr humans rats igf-i modulates cell proliferation apoptosis tumorigenesis mechanisms protective effects dr depend reduction multifaceted growth factor test hypothesis igf-i restored dr ascertain lowering igf-i central slowing bladder cancer progression dr heterozygous num deficient mice received bladder carcinogen p-cresidine induce preneoplasia confirmation bladder urothelial preneoplasia mice divided groups ad libitum num dr num dr igf-i igf-i/dr serum igf-i lowered num dr completely restored igf-i/dr-treated mice recombinant igf-i administered osmotic minipumps tumor progression decreased dr restoration igf-i serum levels dr-treated mice increased stage cancers igf-i modulated tumor progression independent body weight rates apoptosis preneoplastic lesions num times higher dr-treated mice compared igf/dr ad libitum-treated mice administration igf-i dr-treated mice stimulated cell proliferation num fold hyperplastic foci conclusion dr lowered igf-i levels favoring apoptosis cell proliferation ultimately slowing tumor progression mechanistic study demonstrating igf-i supplementation abrogates protective effect dr neoplastic progression\"), \n",
        "       (\"D2\", \"study hard as your blood boils\"), \n",
        "       (\"D3\", \"processed meats risk childhood leukemia california usa pubmed ncbi abstract relation intake food items thought precursors inhibitors n-nitroso compounds noc risk leukemia investigated case-control study children birth age num years los angeles county california united states cases ascertained population-based tumor registry num num controls drawn friends random-digit dialing interviews obtained num cases num controls food items principal interest breakfast meats bacon sausage ham luncheon meats salami pastrami lunch meat corned beef bologna hot dogs oranges orange juice grapefruit grapefruit juice asked intake apples apple juice regular charcoal broiled meats milk coffee coke cola drinks usual consumption frequencies determined parents child risks adjusted risk factors persistent significant associations children's intake hot dogs odds ratio num num percent confidence interval ci num num num hot dogs month trend num fathers intake hot dogs num ci num num highest intake category trend num evidence fruit intake provided protection results compatible experimental animal literature hypothesis human noc intake leukemia risk potential biases data study hypothesis focused comprehensive epidemiologic studies warranted\"), \n",
        "       (\"D4\", \"long-term effects calorie protein restriction serum igf num igfbp num concentration humans summary reduced function mutations insulin/igf-i signaling pathway increase maximal lifespan health span species calorie restriction cr decreases serum igf num concentration num protects cancer slows aging rodents long-term effects cr adequate nutrition circulating igf num levels humans unknown report data long-term cr studies num num years showing severe cr malnutrition change igf num igf num igfbp num ratio levels humans contrast total free igf num concentrations significantly lower moderately protein-restricted individuals reducing protein intake average num kg num body weight day num kg num body weight day num weeks volunteers practicing cr resulted reduction serum igf num num ng ml num num ng ml num findings demonstrate unlike rodents long-term severe cr reduce serum igf num concentration igf num igfbp num ratio humans addition data provide evidence protein intake key determinant circulating igf num levels humans suggest reduced protein intake important component anticancer anti-aging dietary interventions\"), \n",
        "       (\"D5\", \"cancer preventable disease requires major lifestyle abstract year num million americans num million people worldwide expected diagnosed cancer disease commonly believed preventable num num cancer cases attributed genetic defects remaining num num roots environment lifestyle lifestyle factors include cigarette smoking diet fried foods red meat alcohol sun exposure environmental pollutants infections stress obesity physical inactivity evidence cancer-related deaths num num due tobacco num num linked diet num num due infections remaining percentage due factors radiation stress physical activity environmental pollutants cancer prevention requires smoking cessation increased ingestion fruits vegetables moderate alcohol caloric restriction exercise avoidance direct exposure sunlight minimal meat consumption grains vaccinations regular check-ups review present evidence inflammation link agents/factors cancer agents prevent addition provide evidence cancer preventable disease requires major lifestyle\")]\n",
        "\n",
        "# sekedar pembanding, ada bocoran: D3 & D5 relevant, D1 & D4 partially relevant, D2 tidak relevan\n",
        "\n",
        "# bentuk ke format numpy array\n",
        "X_unseen_lsia = []\n",
        "X_unseen_ft = []\n",
        "type_doc = 'test'\n",
        "for doc_id, doc in docs:\n",
        "  X_unseen_lsia.append(pair_query_docs(query.split(), doc.split(), 'lsia', type_doc))\n",
        "  X_unseen_ft.append(pair_query_docs(query.split(), doc.split(), 'fasttext', type_doc))\n",
        "\n",
        "X_unseen_lsia = np.array(X_unseen_lsia)\n",
        "X_unseen_ft = np.array(X_unseen_ft)"
      ],
      "metadata": {
        "id": "qPt45HFTL1BW"
      },
      "execution_count": 505,
      "outputs": []
    },
    {
      "cell_type": "markdown",
      "source": [
        "## LGBM"
      ],
      "metadata": {
        "id": "UcESI0GvN4VB"
      }
    },
    {
      "cell_type": "code",
      "source": [
        "# hitung scores\n",
        "scores_lsia = lsia_ranker_model.predict(X_unseen_lsia)\n",
        "scores_ft = fasttext_ranker_model.predict(X_unseen_ft)\n",
        "print(scores_lsia, scores_ft)"
      ],
      "metadata": {
        "colab": {
          "base_uri": "https://localhost:8080/"
        },
        "id": "b-3eoAX8MmFA",
        "outputId": "f1a701e0-cb47-43af-f096-c837e93a73bf"
      },
      "execution_count": 506,
      "outputs": [
        {
          "output_type": "stream",
          "name": "stdout",
          "text": [
            "[-0.0226168  -0.05702923 -0.01493181 -0.03620556 -0.00832089] [1.5232241  1.2530128  1.48885115 2.17910539 3.14123633]\n"
          ]
        }
      ]
    },
    {
      "cell_type": "markdown",
      "source": [
        "### LSI/LSA Model"
      ],
      "metadata": {
        "id": "h8Q0ew6lOADC"
      }
    },
    {
      "cell_type": "code",
      "source": [
        "# Ranking pada SERP\n",
        "\n",
        "# sekedar pembanding, ada bocoran: D3 & D5 relevant, D1 & D4 partially relevant, D2 tidak relevan\n",
        "# apakah LambdaMART berhasil merefleksikan hal ini?\n",
        "\n",
        "did_scores = [x for x in zip([did for (did, _) in docs], scores_lsia)]\n",
        "sorted_did_scores = sorted(did_scores, key = lambda tup: tup[1], reverse = True)\n",
        "\n",
        "print(\"query        :\", query)\n",
        "print(\"SERP/Ranking :\")\n",
        "for (did, score) in sorted_did_scores:\n",
        "  print(did, score)"
      ],
      "metadata": {
        "colab": {
          "base_uri": "https://localhost:8080/"
        },
        "id": "Xl6gIz9ENJKq",
        "outputId": "c184bd9e-e7b0-4e1e-a5e8-624dee22d7ce"
      },
      "execution_count": 507,
      "outputs": [
        {
          "output_type": "stream",
          "name": "stdout",
          "text": [
            "query        : how much cancer risk can be avoided through lifestyle change ?\n",
            "SERP/Ranking :\n",
            "D5 -0.008320891214572976\n",
            "D3 -0.014931807027754197\n",
            "D1 -0.02261679813057083\n",
            "D4 -0.03620555818514738\n",
            "D2 -0.05702923217172881\n"
          ]
        }
      ]
    },
    {
      "cell_type": "markdown",
      "source": [
        "### FastText"
      ],
      "metadata": {
        "id": "PFV6iu78OHh9"
      }
    },
    {
      "cell_type": "code",
      "source": [
        "# Ranking pada SERP\n",
        "\n",
        "# sekedar pembanding, ada bocoran: D3 & D5 relevant, D1 & D4 partially relevant, D2 tidak relevan\n",
        "# apakah LambdaMART berhasil merefleksikan hal ini?\n",
        "\n",
        "did_scores = [x for x in zip([did for (did, _) in docs], scores_ft)]\n",
        "sorted_did_scores = sorted(did_scores, key = lambda tup: tup[1], reverse = True)\n",
        "\n",
        "print(\"query        :\", query)\n",
        "print(\"SERP/Ranking :\")\n",
        "for (did, score) in sorted_did_scores:\n",
        "  print(did, score)"
      ],
      "metadata": {
        "colab": {
          "base_uri": "https://localhost:8080/"
        },
        "id": "9GNHWGNaNMdj",
        "outputId": "85517221-bf36-4075-8a5c-76fe6aae926e"
      },
      "execution_count": 508,
      "outputs": [
        {
          "output_type": "stream",
          "name": "stdout",
          "text": [
            "query        : how much cancer risk can be avoided through lifestyle change ?\n",
            "SERP/Ranking :\n",
            "D5 3.1412363252461044\n",
            "D4 2.179105393601496\n",
            "D1 1.5232241029450662\n",
            "D3 1.488851154743188\n",
            "D2 1.2530128029008056\n"
          ]
        }
      ]
    },
    {
      "cell_type": "markdown",
      "source": [
        "## XGBoost"
      ],
      "metadata": {
        "id": "JQ-5bKa1ONXh"
      }
    },
    {
      "cell_type": "code",
      "source": [
        "# hitung scores\n",
        "scores_lsia_xgb = lsia_xgb_train_model.predict(X_unseen_lsia)\n",
        "scores_ft_xgb = ft_xgb_train_model.predict(X_unseen_ft)\n",
        "print(scores_lsia_xgb, scores_ft_xgb)"
      ],
      "metadata": {
        "colab": {
          "base_uri": "https://localhost:8080/"
        },
        "id": "8AGG1xNaOWLj",
        "outputId": "9313768a-af4f-4a5b-e5d4-ee8bf08ead7d"
      },
      "execution_count": 509,
      "outputs": [
        {
          "output_type": "stream",
          "name": "stdout",
          "text": [
            "[0.5225571  0.07551515 0.66568536 0.47114003 0.8186902 ] [-0.19637197 -0.0947364  -0.04299712 -0.06259704  0.9255079 ]\n"
          ]
        }
      ]
    },
    {
      "cell_type": "markdown",
      "source": [
        "### LSI/LSA Model"
      ],
      "metadata": {
        "id": "EkMa6TrnOPFc"
      }
    },
    {
      "cell_type": "code",
      "source": [
        "# Ranking pada SERP\n",
        "\n",
        "# sekedar pembanding, ada bocoran: D3 & D5 relevant, D1 & D4 partially relevant, D2 tidak relevan\n",
        "# apakah LambdaMART berhasil merefleksikan hal ini?\n",
        "\n",
        "did_scores = [x for x in zip([did for (did, _) in docs], scores_lsia_xgb)]\n",
        "sorted_did_scores = sorted(did_scores, key = lambda tup: tup[1], reverse = True)\n",
        "\n",
        "print(\"query        :\", query)\n",
        "print(\"SERP/Ranking :\")\n",
        "for (did, score) in sorted_did_scores:\n",
        "  print(did, score)"
      ],
      "metadata": {
        "colab": {
          "base_uri": "https://localhost:8080/"
        },
        "id": "-33fqP5wOmTM",
        "outputId": "bf1dc4ab-92c2-4f68-e1cd-c43d9acb0b2f"
      },
      "execution_count": 510,
      "outputs": [
        {
          "output_type": "stream",
          "name": "stdout",
          "text": [
            "query        : how much cancer risk can be avoided through lifestyle change ?\n",
            "SERP/Ranking :\n",
            "D5 0.8186902\n",
            "D3 0.66568536\n",
            "D1 0.5225571\n",
            "D4 0.47114003\n",
            "D2 0.07551515\n"
          ]
        }
      ]
    },
    {
      "cell_type": "markdown",
      "source": [
        "### FastText"
      ],
      "metadata": {
        "id": "RR_arK0eOiFF"
      }
    },
    {
      "cell_type": "code",
      "source": [
        "# Ranking pada SERP\n",
        "\n",
        "# sekedar pembanding, ada bocoran: D3 & D5 relevant, D1 & D4 partially relevant, D2 tidak relevan\n",
        "# apakah LambdaMART berhasil merefleksikan hal ini?\n",
        "\n",
        "did_scores = [x for x in zip([did for (did, _) in docs], scores_ft_xgb)]\n",
        "sorted_did_scores = sorted(did_scores, key = lambda tup: tup[1], reverse = True)\n",
        "\n",
        "print(\"query        :\", query)\n",
        "print(\"SERP/Ranking :\")\n",
        "for (did, score) in sorted_did_scores:\n",
        "  print(did, score)"
      ],
      "metadata": {
        "colab": {
          "base_uri": "https://localhost:8080/"
        },
        "id": "TQiYdtl7OprH",
        "outputId": "fd2c4785-1a55-4a75-e5df-36947c50b3d8"
      },
      "execution_count": 511,
      "outputs": [
        {
          "output_type": "stream",
          "name": "stdout",
          "text": [
            "query        : how much cancer risk can be avoided through lifestyle change ?\n",
            "SERP/Ranking :\n",
            "D5 0.9255079\n",
            "D3 -0.04299712\n",
            "D4 -0.06259704\n",
            "D2 -0.0947364\n",
            "D1 -0.19637197\n"
          ]
        }
      ]
    }
  ]
}