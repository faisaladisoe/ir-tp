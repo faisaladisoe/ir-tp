{
  "nbformat": 4,
  "nbformat_minor": 0,
  "metadata": {
    "colab": {
      "provenance": [],
      "toc_visible": true,
      "authorship_tag": "ABX9TyPXbliAKryhGKN2W5nLqsYf",
      "include_colab_link": true
    },
    "kernelspec": {
      "name": "python3",
      "display_name": "Python 3"
    },
    "language_info": {
      "name": "python"
    },
    "gpuClass": "standard"
  },
  "cells": [
    {
      "cell_type": "markdown",
      "metadata": {
        "id": "view-in-github",
        "colab_type": "text"
      },
      "source": [
        "<a href=\"https://colab.research.google.com/github/faisaladisoe/ir-tp/blob/master/TP4/source%20code/IR_TP4.ipynb\" target=\"_parent\"><img src=\"https://colab.research.google.com/assets/colab-badge.svg\" alt=\"Open In Colab\"/></a>"
      ]
    },
    {
      "cell_type": "markdown",
      "source": [
        "# Learning-To-Rank (LETOR) menggunakan monoBERT"
      ],
      "metadata": {
        "id": "nn9HyBpiBE9g"
      }
    },
    {
      "cell_type": "markdown",
      "source": [
        "# Install Libraries"
      ],
      "metadata": {
        "id": "RqQw4egzjxfG"
      }
    },
    {
      "cell_type": "code",
      "source": [
        "!pip install gensim\n",
        "!pip install lightgbm"
      ],
      "metadata": {
        "colab": {
          "base_uri": "https://localhost:8080/"
        },
        "id": "fwr3G74pRODu",
        "outputId": "5ebc6f97-f5c6-4fa6-83f5-dd251dd30a88"
      },
      "execution_count": 1,
      "outputs": [
        {
          "output_type": "stream",
          "name": "stdout",
          "text": [
            "Looking in indexes: https://pypi.org/simple, https://us-python.pkg.dev/colab-wheels/public/simple/\n",
            "Requirement already satisfied: gensim in /usr/local/lib/python3.8/dist-packages (3.6.0)\n",
            "Requirement already satisfied: numpy>=1.11.3 in /usr/local/lib/python3.8/dist-packages (from gensim) (1.21.6)\n",
            "Requirement already satisfied: six>=1.5.0 in /usr/local/lib/python3.8/dist-packages (from gensim) (1.15.0)\n",
            "Requirement already satisfied: smart-open>=1.2.1 in /usr/local/lib/python3.8/dist-packages (from gensim) (5.2.1)\n",
            "Requirement already satisfied: scipy>=0.18.1 in /usr/local/lib/python3.8/dist-packages (from gensim) (1.7.3)\n",
            "Looking in indexes: https://pypi.org/simple, https://us-python.pkg.dev/colab-wheels/public/simple/\n",
            "Requirement already satisfied: lightgbm in /usr/local/lib/python3.8/dist-packages (2.2.3)\n",
            "Requirement already satisfied: numpy in /usr/local/lib/python3.8/dist-packages (from lightgbm) (1.21.6)\n",
            "Requirement already satisfied: scipy in /usr/local/lib/python3.8/dist-packages (from lightgbm) (1.7.3)\n",
            "Requirement already satisfied: scikit-learn in /usr/local/lib/python3.8/dist-packages (from lightgbm) (1.0.2)\n",
            "Requirement already satisfied: joblib>=0.11 in /usr/local/lib/python3.8/dist-packages (from scikit-learn->lightgbm) (1.2.0)\n",
            "Requirement already satisfied: threadpoolctl>=2.0.0 in /usr/local/lib/python3.8/dist-packages (from scikit-learn->lightgbm) (3.1.0)\n"
          ]
        }
      ]
    },
    {
      "cell_type": "code",
      "source": [
        "import os\n",
        "import random\n",
        "import numpy as np\n",
        "import pandas as pd\n",
        "import lightgbm as lgb\n",
        "\n",
        "from gensim.models import FastText\n",
        "from gensim.models import LsiModel\n",
        "from gensim.corpora import Dictionary\n",
        "from scipy.spatial.distance import cosine"
      ],
      "metadata": {
        "id": "tQuv2GVWjzhN"
      },
      "execution_count": 91,
      "outputs": []
    },
    {
      "cell_type": "markdown",
      "source": [
        "# Data Preparation"
      ],
      "metadata": {
        "id": "J7imSHiXFNS4"
      }
    },
    {
      "cell_type": "markdown",
      "source": [
        "## Scraping\n",
        "\n",
        "source: https://www.cl.uni-heidelberg.de/statnlpgroup/nfcorpus/ \\\\\n",
        "download: https://www.cl.uni-heidelberg.de/statnlpgroup/nfcorpus/nfcorpus.tar.gz"
      ],
      "metadata": {
        "id": "tdEPzyi4CdLZ"
      }
    },
    {
      "cell_type": "code",
      "execution_count": 3,
      "metadata": {
        "colab": {
          "base_uri": "https://localhost:8080/"
        },
        "id": "E1HeCv2C_0Ie",
        "outputId": "5bfc5972-b0ee-4b89-f036-6e44b714a751"
      },
      "outputs": [
        {
          "output_type": "stream",
          "name": "stdout",
          "text": [
            "--2022-12-03 23:05:21--  https://www.cl.uni-heidelberg.de/statnlpgroup/nfcorpus/nfcorpus.tar.gz\n",
            "Resolving www.cl.uni-heidelberg.de (www.cl.uni-heidelberg.de)... 147.142.207.78\n",
            "Connecting to www.cl.uni-heidelberg.de (www.cl.uni-heidelberg.de)|147.142.207.78|:443... connected.\n",
            "HTTP request sent, awaiting response... 200 OK\n",
            "Length: 31039523 (30M) [application/x-gzip]\n",
            "Saving to: ‘data/nfcorpus.tar.gz’\n",
            "\n",
            "nfcorpus.tar.gz     100%[===================>]  29.60M  19.1MB/s    in 1.5s    \n",
            "\n",
            "2022-12-03 23:05:24 (19.1 MB/s) - ‘data/nfcorpus.tar.gz’ saved [31039523/31039523]\n",
            "\n",
            "nfcorpus/\n",
            "nfcorpus/train.docs\n",
            "nfcorpus/test.docs\n",
            "nfcorpus/dev.docs\n",
            "nfcorpus/dev.3-2-1.qrel\n",
            "nfcorpus/test.3-2-1.qrel\n",
            "nfcorpus/train.3-2-1.qrel\n",
            "nfcorpus/raw/\n",
            "nfcorpus/raw/doc_dump.txt\n",
            "nfcorpus/raw/dev.docs.ids\n",
            "nfcorpus/raw/dev.queries.ids\n",
            "nfcorpus/raw/test.docs.ids\n",
            "nfcorpus/raw/test.queries.ids\n",
            "nfcorpus/raw/train.docs.ids\n",
            "nfcorpus/raw/train.queries.ids\n",
            "nfcorpus/raw/stopwords.large\n",
            "nfcorpus/raw/nfdump.txt\n",
            "nfcorpus/raw/all_videos.ids\n",
            "nfcorpus/raw/nontopics.ids\n",
            "nfcorpus/test.2-1-0.qrel\n",
            "nfcorpus/dev.2-1-0.qrel\n",
            "nfcorpus/train.2-1-0.qrel\n",
            "nfcorpus/ecir2016.bib\n",
            "nfcorpus/test.vid-desc.queries\n",
            "nfcorpus/dev.vid-desc.queries\n",
            "nfcorpus/train.vid-desc.queries\n",
            "nfcorpus/dev.all.queries\n",
            "nfcorpus/test.all.queries\n",
            "nfcorpus/train.all.queries\n",
            "nfcorpus/dev.vid-titles.queries\n",
            "nfcorpus/test.vid-titles.queries\n",
            "nfcorpus/train.vid-titles.queries\n",
            "nfcorpus/dev.titles.queries\n",
            "nfcorpus/test.titles.queries\n",
            "nfcorpus/train.titles.queries\n",
            "nfcorpus/dev.nontopic-titles.queries\n",
            "nfcorpus/test.nontopic-titles.queries\n",
            "nfcorpus/train.nontopic-titles.queries\n",
            "nfcorpus/README.txt\n"
          ]
        }
      ],
      "source": [
        "!wget -c https://www.cl.uni-heidelberg.de/statnlpgroup/nfcorpus/nfcorpus.tar.gz -P data\n",
        "!tar -xvf data/nfcorpus.tar.gz"
      ]
    },
    {
      "cell_type": "markdown",
      "source": [
        "**Combination for training purposes:**\n",
        "\n",
        "\n",
        "1.   nfcorpus/train.docs\n",
        "2.   nfcorpus/train.3-2-1.qrel\n",
        "3.   nfcorpus/train.vid-desc.queries\n",
        "\n",
        "**Combination for optimizing purposes:**\n",
        "\n",
        "1.   nfcorpus/dev.docs\n",
        "2.   nfcorpus/dev.3-2-1.qrel\n",
        "3.   nfcorpus/dev.vid-desc.queries\n",
        "\n",
        "**Combination for testing purposes:**\n",
        "\n",
        "1.   nfcorpus/test.docs\n",
        "2.   nfcorpus/test.3-2-1.qrel\n",
        "3.   nfcorpus/test.vid-desc.queries"
      ],
      "metadata": {
        "id": "jbgnjr-qECK7"
      }
    },
    {
      "cell_type": "markdown",
      "source": [
        "## Preprocessing"
      ],
      "metadata": {
        "id": "L5-j8ChAFZsD"
      }
    },
    {
      "cell_type": "code",
      "source": [
        "!head -10 nfcorpus/train.docs"
      ],
      "metadata": {
        "colab": {
          "base_uri": "https://localhost:8080/"
        },
        "id": "beKpWGeWIl0f",
        "outputId": "38345bf1-7f0a-4aae-b6d8-a2a99399a34a"
      },
      "execution_count": 4,
      "outputs": [
        {
          "output_type": "stream",
          "name": "stdout",
          "text": [
            "MED-10\tstatin breast cancer survival nationwide cohort study finland abstract recent studies suggested statins established drug group prevention cardiovascular mortality delay prevent breast cancer recurrence effect disease-specific mortality remains unclear evaluated risk breast cancer death statin users population-based cohort breast cancer patients study cohort included newly diagnosed breast cancer patients finland num num num cases identified finnish cancer registry information statin diagnosis obtained national prescription database cox proportional hazards regression method estimate mortality statin users statin time-dependent variable total num participants statins median follow-up num years diagnosis range num num years num participants died num num due breast cancer adjustment age tumor characteristics treatment selection post-diagnostic pre-diagnostic statin lowered risk breast cancer death hr num num ci num num hr num num ci num num risk decrease post-diagnostic statin affected healthy adherer bias greater likelihood dying cancer patients discontinue statin association dose-dependent observed low-dose/short-term dose time-dependence survival benefit pre-diagnostic statin users suggests causal effect evaluated clinical trial testing statins effect survival breast cancer patients \n",
            "MED-14\tstatin diagnosis breast cancer survival population-based cohort study pubmed ncbi abstract background preclinical studies shown statins simvastatin prevent growth breast cancer cell lines animal models investigated statins breast cancer diagnosis reduced risk breast cancer-specific all-cause mortality large cohort breast cancer patients methods cohort num breast cancer patients newly diagnosed num num identified english cancer registries national cancer data repository cohort linked uk clinical practice research datalink providing prescription records office national statistics mortality data num identifying num deaths including num deaths attributable breast cancer unadjusted adjusted hazard ratios hrs breast cancer-specific all-cause mortality statin users breast cancer diagnosis calculated time-dependent cox regression models sensitivity analyses conducted multiple imputation methods propensity score methods case-control approach results evidence statin diagnosis breast cancer reduced mortality due breast cancer fully adjusted hr num num confidence interval num num num num num associations marked simvastatin num num num num num num conclusions large population-based breast cancer cohort evidence reduced mortality statin users breast cancer diagnosis associations weak magnitude attenuated sensitivity analyses \n",
            "MED-118\talkylphenols human milk relations dietary habits central taiwan pubmed ncbi abstract aims study determine concentrations num nonylphenol np num octylphenol op num human milk samples examine related factors including mothers demographics dietary habits women consumed median amount cooking oil significantly higher op concentrations num ng/g consumed num ng/g num op concentration significantly consumption cooking oil beta num num fish oil capsules beta num num adjustment age body mass index bmi np concentration significantly consumption fish oil capsules beta num num processed fish products beta num num food pattern cooking oil processed meat products factor analysis strongly op concentration human milk num determinations aid suggesting foods consumption nursing mothers order protect infants np/op exposure num elsevier rights reserved \n",
            "MED-301\tmethylmercury potential environmental risk factor contributing epileptogenesis abstract epilepsy seizure disorder common neurological diseases humans genetic mutations ion channels receptors risk factors brain injury linked epileptogenesis underlying majority epilepsy cases remains unknown gene-environment interactions thought play critical role etiology epilepsy exposure environmental chemicals important risk factor methylmercury mehg prominent environmental neurotoxicant targets primarily central nervous system cns patients animals acute chronic mehg poisoning display epileptic seizures show increased susceptibility seizures suggesting mehg exposure epileptogenesis mini-review highlights effects mehg exposure developmental exposure susceptibility humans animals seizures discusses potential role low level mehg exposure epileptogenesis review proposes preferential effect mehg inhibitory gabaergic system leading disinhibition excitatory glutamatergic function potential mechanisms underlying mehg-induced seizure susceptibility \n",
            "MED-306\tsensitivity continuous performance test cpt age num years developmental methylmercury exposure abstract hit reaction time latencies hrt continuous performance test cpt measure speed visual information processing latencies involve neuropsychological functions depending time test initiation i e orientation learning habituation cognitive processing focused attention finally sustained attention dominant demand prenatal methylmercury exposure increased reaction time rt latencies examined association methylmercury exposure average hrt age num years time intervals test initiation total num adolescents num birth cohort members completed cpt rt latencies recorded num minutes visual targets presented num ms intervals confounder adjustment regression coefficients showed cpt-rt outcomes differed associations exposure biomarkers prenatal methylmercury exposure minutes average hrt weakly methylmercury beta se ten-fold increase exposure num num strongly num num minute interval num num strongest num num minutes test initiation num num pattern unchanged simple reaction time finger tapping speed included models covariates postnatal methylmercury exposures affect outcomes findings suggest sustained attention neuropsychological domain vulnerable developmental methylmercury exposure indicating probable underlying dysfunction frontal lobes cpt data measure neurotoxicity test results analyzed regard time test initiation average reaction times \n",
            "MED-329\tphosphate vascular toxin pubmed ncbi abstract elevated phosphate levels advanced renal failure dysregulated calcium parathyroid hormone vitamin levels contribute complex chronic kidney disease-mineral bone disease ckd-mbd converging evidence vitro clinical epidemiological studies suggest increased vascular calcification mortality vessels exposed high conditions vitro develop apoptosis convert bone-like cells develop extensive calcification clinical studies children dialysis show high increased vessel wall thickness arterial stiffness coronary calcification epidemiological studies adult dialysis patients demonstrate significant independent association raised mortality importantly raised cardiovascular pre-dialysis ckd subjects normal renal function high binders effectively reduce serum decrease linked improved survival raised serum triggers release fibroblast growth factor num fgf num beneficial effect increasing excretion early ckd increased num fold dialysis independent cardiovascular risk factor fgf num co-receptor klotho direct effects vasculature leading calcification fascinatingly disturbances fgf num klotho raised premature aging data suggest high levels adverse vascular effects maintaining serum levels normal range reduces cardiovascular risk mortality \n",
            "MED-330\tdietary phosphorus acutely impairs endothelial function abstract excessive dietary phosphorus increase cardiovascular risk healthy individuals patients chronic kidney disease mechanisms underlying risk completely understood determine postprandial hyperphosphatemia promote endothelial dysfunction investigated acute effect phosphorus loading endothelial function vitro vivo exposing bovine aortic endothelial cells phosphorus load increased production reactive oxygen species depended phosphorus influx sodium-dependent phosphate transporters decreased nitric oxide production inhibitory phosphorylation endothelial nitric oxide synthase phosphorus loading inhibited endothelium-dependent vasodilation rat aortic rings num healthy men alternately served meals num mg num mg phosphorus double-blind crossover study measured flow-mediated dilation brachial artery num meals high dietary phosphorus load increased serum phosphorus num significantly decreased flow-mediated dilation flow-mediated dilation correlated inversely serum phosphorus findings suggest endothelial dysfunction mediated acute postprandial hyperphosphatemia contribute relationship serum phosphorus level risk cardiovascular morbidity mortality \n",
            "MED-332\tpublic health impact dietary phosphorus excess bone cardiovascular health general population pubmed ncbi abstract review explores potential adverse impact increasing phosphorus content american diet renal cardiovascular bone health general population increasingly studies show phosphorus intakes excess nutrient healthy population significantly disrupt hormonal regulation phosphate calcium vitamin contributes disordered mineral metabolism vascular calcification impaired kidney function bone loss large epidemiologic studies suggest mild elevations serum phosphate normal range cardiovascular disease cvd risk healthy populations evidence kidney disease studies linked high dietary phosphorus intake mild serum phosphate nature study design inaccuracies nutrient composition databases phosphorus essential nutrient excess linked tissue damage variety mechanisms involved endocrine regulation extracellular phosphate specifically secretion action fibroblast growth factor num parathyroid hormone disordered regulation hormones high dietary phosphorus key factors contributing renal failure cvd osteoporosis systematically underestimated national surveys phosphorus intake seemingly continues increase result growing consumption highly processed foods restaurant meals fast foods convenience foods increased cumulative ingredients phosphorus food processing merits study shown potential toxicity phosphorus intake exceeds nutrient \n",
            "MED-334\tdifferences total vitro digestible phosphorus content plant foods beverages pubmed ncbi abstract objective plant foods grain products legumes seeds important sources phosphorus current data content absorbability foods lacking measurement vitro digestible dp content foods reflect absorbability objective study measure total phosphorus tp dp contents selected foods compare amounts tp dp proportion dp tp foods methods tp dp content num foods drinks plant origin measured inductively coupled plasma optical emission spectrometry dp analysis samples digested enzymatically principle alimentary canal analyses popular national brands chosen analysis results highest amount tp num mg num found sesame seeds hull lowest percentage dp num tp cola drinks beer percentage dp tp num num num mg num cereal products highest tp content num mg num dp proportion num present industrial muffins sodium phosphate leavening agent legumes contained average dp content num mg num num tp conclusion absorbability differ substantially plant foods high tp content legumes poor source foods phosphate additives proportion dp high supports previous conclusions effective absorbability additives copyright num national kidney foundation published elsevier rights reserved \n",
            "MED-335\tdifferences total vitro digestible phosphorus content meat milk products pubmed ncbi abstract objective meat milk products important sources dietary phosphorus protein additives common processed cheese meat products measurement vitro digestible phosphorus dp content foods reflect absorbability objective study measure total phosphorus tp dp contents selected meat milk products compare amounts tp dp proportion dp tp foods methods tp dp contents num meat milk products measured inductively coupled plasma optical emission spectrometry icp-oes dp analysis samples digested enzymatically principle alimentary canal analyses popular national brands meat milk products chosen analysis results highest tp dp contents found processed hard cheeses lowest milk cottage cheese tp dp contents sausages cold cuts lower cheeses chicken pork beef rainbow trout contained similar amounts tp slightly variation found dp contents conclusions foods additives high content dp study confirms cottage cheese unenhanced meats choices processed hard cheeses sausages cold cuts chronic kidney disease patients based lower p-to-protein ratios sodium contents results support previous findings absorbability foods animal origin legumes copyright num national kidney foundation published elsevier rights reserved \n"
          ]
        }
      ]
    },
    {
      "cell_type": "code",
      "source": [
        "!head -10 nfcorpus/train.vid-desc.queries"
      ],
      "metadata": {
        "colab": {
          "base_uri": "https://localhost:8080/"
        },
        "id": "1HOhVGAsGE8w",
        "outputId": "c6e6bbca-008e-4e06-b167-edaaa34ecb3b"
      },
      "execution_count": 5,
      "outputs": [
        {
          "output_type": "stream",
          "name": "stdout",
          "text": [
            "PLAIN-2427\tdiet and exercise synergize to improve endothelial function , the ability of our arteries to relax normally .\n",
            "PLAIN-2428\tthe parable of the tiny parachute explains the study that found no relationship between dietary fiber intake and diverticulosis .\n",
            "PLAIN-2431\tpbde fire retardant chemicals in the food supply may contribute to attention and cognitive deficits in children .\n",
            "PLAIN-2432\tpeppermint essential oil should be considered the first-line treatment for ibs .\n",
            "PLAIN-2433\tthe reversal of blindness due to hypertension and diabetes with dr. kempner ’ s rice and fruit diet demonstrates the power of diet to exceed the benefits of the best modern medicine and surgery has to offer .\n",
            "PLAIN-2434\tsquatting and leaning can help straighten the anorectal angle , but a healthy enough diet should make bowel movements effortless regardless of positioning .\n",
            "PLAIN-2435\tmost people have between 3 bowel movements a day and 3 a week , but normal doesn ’ t necessarily mean optimal .\n",
            "PLAIN-2436\tlifestyle changes are often more effective in reducing the rates of heart disease , hypertension , heart failure , stroke , cancer , diabetes , and premature death than almost any other medical intervention .\n",
            "PLAIN-2437\twhat happened when the world health organization had the gall to recommend a diet low in saturated fat , sugar , and salt and high in fruit and vegetables ?\n",
            "PLAIN-2438\tsaturated fat can be toxic to the insulin-producing beta cells in the pancreas , explaining why animal fat consumption can impair insulin secretion , not just insulin sensitivity .\n"
          ]
        }
      ]
    },
    {
      "cell_type": "code",
      "source": [
        "!head -10 nfcorpus/train.3-2-1.qrel"
      ],
      "metadata": {
        "colab": {
          "base_uri": "https://localhost:8080/"
        },
        "id": "WjPtVKEEi6Va",
        "outputId": "3a7f2a02-1782-4ab6-eb70-e4f7a1ee29cc"
      },
      "execution_count": 6,
      "outputs": [
        {
          "output_type": "stream",
          "name": "stdout",
          "text": [
            "PLAIN-3\t0\tMED-2436\t3\n",
            "PLAIN-3\t0\tMED-2437\t3\n",
            "PLAIN-3\t0\tMED-2438\t3\n",
            "PLAIN-3\t0\tMED-2439\t3\n",
            "PLAIN-3\t0\tMED-2440\t3\n",
            "PLAIN-3\t0\tMED-2427\t2\n",
            "PLAIN-3\t0\tMED-2428\t2\n",
            "PLAIN-3\t0\tMED-2429\t2\n",
            "PLAIN-3\t0\tMED-2430\t2\n",
            "PLAIN-3\t0\tMED-2431\t2\n"
          ]
        }
      ]
    },
    {
      "cell_type": "markdown",
      "source": [
        "### Mapping"
      ],
      "metadata": {
        "id": "wrVkdVnuFbiv"
      }
    },
    {
      "cell_type": "markdown",
      "source": [
        "#### Variable Initialization"
      ],
      "metadata": {
        "id": "LPElbrxa-8nM"
      }
    },
    {
      "cell_type": "code",
      "source": [
        "docs = {}\n",
        "queries = {}\n",
        "qrels = {}\n",
        "dataset = {}\n",
        "query_num_of_docs_each_type = {}"
      ],
      "metadata": {
        "id": "3i0LZ-pWFuvx"
      },
      "execution_count": 7,
      "outputs": []
    },
    {
      "cell_type": "markdown",
      "source": [
        "#### Document dataset"
      ],
      "metadata": {
        "id": "jolqqJNvGtJH"
      }
    },
    {
      "cell_type": "code",
      "source": [
        "def map_docs(type_of_docs):\n",
        "  temporary_map = {}\n",
        "  with open(f'nfcorpus/{type_of_docs}.docs', 'r') as file:\n",
        "    for line in file:\n",
        "      doc_id, content = line.split('\\t')\n",
        "      temporary_map[doc_id] = [item for item in content.split() if item.isalnum()]\n",
        "  docs[type_of_docs] = temporary_map"
      ],
      "metadata": {
        "id": "0FnaGYbDEzIX"
      },
      "execution_count": 8,
      "outputs": []
    },
    {
      "cell_type": "markdown",
      "source": [
        "#### Query dataset"
      ],
      "metadata": {
        "id": "b7r009hPHu71"
      }
    },
    {
      "cell_type": "code",
      "source": [
        "def map_queries(type_of_docs):\n",
        "  temporary_map = {}\n",
        "  with open(f'nfcorpus/{type_of_docs}.vid-desc.queries', 'r') as file:\n",
        "    for line in file:\n",
        "      query_id, content = line.split('\\t')\n",
        "      temporary_map[query_id] = [item for item in content.split() if item.isalnum()]\n",
        "  queries[type_of_docs] = temporary_map"
      ],
      "metadata": {
        "id": "A-BDV4RDHw0c"
      },
      "execution_count": 9,
      "outputs": []
    },
    {
      "cell_type": "markdown",
      "source": [
        "#### Query Relevance dataset"
      ],
      "metadata": {
        "id": "V7LPihkO2f8o"
      }
    },
    {
      "cell_type": "code",
      "source": [
        "def map_qrels(type_of_docs):\n",
        "  temporary_map = {}\n",
        "  with open(f'nfcorpus/{type_of_docs}.3-2-1.qrel', 'r') as file:\n",
        "    for line in file:\n",
        "      query_id, _, doc_id, qrel = line.split('\\t')\n",
        "      if (query_id in queries[type_of_docs]) and (doc_id in docs[type_of_docs]):\n",
        "        try:\n",
        "          temporary_map[query_id].append((doc_id, int(qrel)))\n",
        "        except:\n",
        "          temporary_map[query_id] = []\n",
        "          temporary_map[query_id].append((doc_id, int(qrel)))\n",
        "  qrels[type_of_docs] = temporary_map"
      ],
      "metadata": {
        "id": "C5iu665i2lrE"
      },
      "execution_count": 10,
      "outputs": []
    },
    {
      "cell_type": "markdown",
      "source": [
        "#### Count number of docs in each query"
      ],
      "metadata": {
        "id": "rNfVsBBn5wnQ"
      }
    },
    {
      "cell_type": "code",
      "source": [
        "def map_qid_num_of_docs(type_of_docs):\n",
        "  query_num_of_docs = []\n",
        "  combination_qid_did_qrel = []\n",
        "  for query_id in qrels[type_of_docs]:\n",
        "    content = qrels[type_of_docs][query_id]\n",
        "    # Normalization step if length of docs is zero\n",
        "    query_num_of_docs.append(len(content) + 1)\n",
        "    for doc_id, qrel in content:\n",
        "      combination_qid_did_qrel.append((queries[type_of_docs][query_id], docs[type_of_docs][doc_id], qrel))\n",
        "    # Handle if length of docs is zero\n",
        "    combination_qid_did_qrel.append((queries[type_of_docs][query_id], random.choice(list(docs[type_of_docs].values())), 0))\n",
        "  dataset[type_of_docs] = combination_qid_did_qrel\n",
        "  query_num_of_docs_each_type[type_of_docs] = query_num_of_docs"
      ],
      "metadata": {
        "id": "oZ0B5O6M7e9q"
      },
      "execution_count": 11,
      "outputs": []
    },
    {
      "cell_type": "markdown",
      "source": [
        "#### Execution"
      ],
      "metadata": {
        "id": "qxyElZ93G1_8"
      }
    },
    {
      "cell_type": "code",
      "source": [
        "whole_set = ['train', 'dev', 'test']\n",
        "for item in whole_set:\n",
        "  map_docs(item)\n",
        "  map_queries(item)\n",
        "  map_qrels(item)\n",
        "  map_qid_num_of_docs(item)"
      ],
      "metadata": {
        "id": "Wq3a_gaJG1qF"
      },
      "execution_count": 12,
      "outputs": []
    },
    {
      "cell_type": "markdown",
      "source": [
        "# Building Word Vectors"
      ],
      "metadata": {
        "id": "bUiuZWHj1Uuy"
      }
    },
    {
      "cell_type": "code",
      "source": [
        "os.makedirs('./models', exist_ok = True)\n",
        "os.makedirs('./models/lsia', exist_ok = True)\n",
        "os.makedirs('./models/fasttext', exist_ok = True)"
      ],
      "metadata": {
        "id": "KYnRiR8xVbek"
      },
      "execution_count": 13,
      "outputs": []
    },
    {
      "cell_type": "code",
      "source": [
        "dictionaries = {}"
      ],
      "metadata": {
        "id": "uz3K5lRhg41P"
      },
      "execution_count": 14,
      "outputs": []
    },
    {
      "cell_type": "markdown",
      "source": [
        "## Term-Document Matrix (LSI/LSA)"
      ],
      "metadata": {
        "id": "UHt2Vgrz1YJd"
      }
    },
    {
      "cell_type": "code",
      "source": [
        "def td_matrix_lsia(type_of_docs):\n",
        "  NUM_LATENT_TOPIC = 250\n",
        "  lsia_dictionary = Dictionary()\n",
        "  lsia_bow_corpus = [lsia_dictionary.doc2bow(doc, allow_update = True) for doc in docs[type_of_docs].values()]\n",
        "  lsia_model = LsiModel(lsia_bow_corpus, num_topics = NUM_LATENT_TOPIC)\n",
        "  dictionaries[type_of_docs] = lsia_dictionary\n",
        "  lsia_model.save(f'./models/lsia/{type_of_docs}-{NUM_LATENT_TOPIC}.model')"
      ],
      "metadata": {
        "id": "0CqtG6949FKs"
      },
      "execution_count": 15,
      "outputs": []
    },
    {
      "cell_type": "markdown",
      "source": [
        "## Term-Context Matrix (FastText)"
      ],
      "metadata": {
        "id": "1qSjozix1bDA"
      }
    },
    {
      "cell_type": "code",
      "source": [
        "def tc_matrix_fasttext(type_of_docs):\n",
        "  VEC_SIZE = 125\n",
        "  fasttext_corpus = [doc for doc in docs[type_of_docs].values()]\n",
        "  fasttext_model = FastText(sg = 1)\n",
        "  fasttext_model.build_vocab(fasttext_corpus)\n",
        "  fasttext_model.train(fasttext_corpus, model = 'skipgram', vector_size=VEC_SIZE, total_examples = fasttext_model.corpus_count, epochs = 25)\n",
        "  fasttext_model.save(f'./models/fasttext/{type_of_docs}-{VEC_SIZE}.model')"
      ],
      "metadata": {
        "id": "ZlMhx9y8AVJ_"
      },
      "execution_count": 16,
      "outputs": []
    },
    {
      "cell_type": "markdown",
      "source": [
        "## Execution"
      ],
      "metadata": {
        "id": "xy88LjIN_SbE"
      }
    },
    {
      "cell_type": "code",
      "source": [
        "whole_set = ['train', 'dev', 'test']\n",
        "for item in whole_set:\n",
        "  td_matrix_lsia(item)\n",
        "  tc_matrix_fasttext(item)"
      ],
      "metadata": {
        "colab": {
          "base_uri": "https://localhost:8080/"
        },
        "id": "NfOy0Hhy_TpB",
        "outputId": "d8fa82f7-1364-409e-a1f2-df7120dee5bc"
      },
      "execution_count": 17,
      "outputs": [
        {
          "output_type": "stream",
          "name": "stderr",
          "text": [
            "WARNING:gensim.models.lsimodel:no word id mapping provided; initializing from corpus, assuming identity\n",
            "WARNING:gensim.models.lsimodel:no word id mapping provided; initializing from corpus, assuming identity\n",
            "WARNING:gensim.models.lsimodel:no word id mapping provided; initializing from corpus, assuming identity\n"
          ]
        }
      ]
    },
    {
      "cell_type": "markdown",
      "source": [
        "## Term-Document Vector Representation"
      ],
      "metadata": {
        "id": "V-HB1jXUcFpn"
      }
    },
    {
      "cell_type": "code",
      "source": [
        "dictionary = dictionaries['dev']\n",
        "lsia_model = LsiModel.load(f'./models/lsia/dev-250.model')\n",
        "def td_vector_rep(array, type_of_docs):\n",
        "  representation = [topic_value for (_, topic_value) in lsia_model[dictionary.doc2bow(array)]]\n",
        "  return representation if len(representation) == 250 else [0.] * 250"
      ],
      "metadata": {
        "id": "8zRZtkcRcJxE"
      },
      "execution_count": 38,
      "outputs": []
    },
    {
      "cell_type": "code",
      "source": [
        "print(td_vector_rep(docs['train'][\"MED-329\"], 'train'))\n",
        "print(td_vector_rep(queries['train'][\"PLAIN-2435\"], 'train'))"
      ],
      "metadata": {
        "colab": {
          "base_uri": "https://localhost:8080/"
        },
        "id": "f9xJnoU5crzz",
        "outputId": "50464c55-b28d-4576-a23b-91af82b5941b"
      },
      "execution_count": 19,
      "outputs": [
        {
          "output_type": "stream",
          "name": "stdout",
          "text": [
            "[5.921538388996683, 3.1464908098755036, -2.6088675457815707, 0.6764912534166082, -1.7759191679068784, -2.4213520563446207, 1.4294315435180878, 0.48859795462465494, -0.3438670143267466, -1.3699780669453558, -0.7180300448332841, 0.5651768037691284, -1.6727147003268574, 0.2400746277038075, -1.736617342602498, -0.6898083685719456, 0.7722386007817862, 1.048263633859768, -0.984591626974623, 1.0428507094095572, 0.10439204329683373, 1.8149685457397733, 1.571600790640962, -1.5853648965712728, -0.532278984674473, 0.21447480576530714, 1.7156483987378546, -0.06060988256833068, 0.1588719736794296, -0.5081084203259312, 0.11370777925262167, 0.9149711790307414, -1.2577765024310275, -1.603777444309239, 1.278705222583665, -0.4050207749942126, -0.7548043047490174, 1.9489056138977152, -1.31612074540327, 0.06065687967486596, 1.457894467620031, -0.18824591540206712, -0.0472052730267614, -0.3201687378591965, -0.46631885739366435, -1.3736091296145718, -0.8619649476917427, 0.8057455125961769, -0.8380436007932084, 0.4970687966910355, -1.2984484628192223, 0.8853632911775899, 0.23206057955857634, -0.8817739218558417, 1.1993218479434447, -0.2562699462047823, -0.6183885619730373, -0.5833618012541054, -0.0995953635370845, 0.8223471696837326, 0.395091259669385, -0.17784982913024144, -0.6500892668037143, -1.0214386088685259, 0.4584312411175709, -1.3436711825045418, -0.6168390046607326, 0.28953540065669303, -0.9938251525770838, 0.19527354667913746, 1.0732525520777672, -0.5590428180841266, 0.8385496334724728, -0.7902229426321514, -0.18606192136356395, 0.03229645613500282, 0.12963414163355957, 0.6907024398995162, 0.1684599072524746, -1.38850465307535, 0.014695713616969563, 0.10418192578836885, -0.003577188927325505, 0.569408290997019, -0.9302806808496069, -0.623447227216255, 0.8912083548641817, 0.19955039960667315, 0.5441129479668272, -0.3919728412126477, -0.349991564184462, -0.8013403873797544, 0.29438855597215663, 0.6016511256211337, 0.593485930669865, -0.3448851641009812, -0.5176851717427965, 0.13754899148365554, -0.5520690308665827, -0.47439443589624075, -0.8867206824906453, 0.46823728875585763, 0.5421206772619809, -0.060793728405636474, -0.2016487467945266, -0.16746898019141365, -0.02653238873320089, 0.2920388292933198, 0.1985106862081446, 0.3024350153078857, -0.29890637821119403, 0.5311514037729105, -0.6398732304819568, -0.22634608883345855, 0.4139078917445733, 0.4492637986763068, 0.7641094566416451, 0.898593489504589, -0.3627678766510773, -0.1935630051295155, -0.4157061839935294, -0.4523832963140784, -0.22238934559608492, 0.22257042710714975, -0.04449429619167726, -0.7002705830220413, 0.3410657162164565, -0.4721759943226674, -0.02747762574970032, -0.24950520891309633, 0.18883590574707307, 0.18449298148053966, 0.6139942063219439, -0.42900315651934584, 0.30093186781372566, 0.16829381509423363, -0.28592443891836883, 0.7169587027315524, -0.046829444733319146, 0.1304436986193594, 0.47894851177050773, 0.20999049817131757, 0.7724795265779487, 0.09365104944757666, 0.046776080720688916, -0.3048103550279429, 0.8279380608643762, 0.04296146034412179, 0.07553215933649139, -0.20128905373772782, -0.45627266537891586, 0.23933469787396872, -0.19697256052118436, 0.21111723291860898, -0.06320841218805218, 0.149459419398642, -0.39949930013950535, 0.3554055104655786, 0.1712695767397017, -0.031589024795486, 0.7786185334080892, -0.6532166352604404, 0.5610117652245243, 0.03070777525793403, -0.46141397738887574, 0.005320996007847643, -0.10204962046481829, -0.3611454829334695, 0.3995571310886341, 0.34758576924531226, -0.112406595742342, -0.38378560923457256, -0.4577827291526232, 0.39659056367505247, 0.2910941654003772, 0.5389780656213498, 0.22411468360391285, 0.030704641216844197, -0.28814211398041717, -0.4226747985147256, 0.10995553948773876, 0.1743461544087471, 0.4532196692900834, 0.045135385977527774, 0.45004915834284337, -0.48280463036908333, -0.017079233537942155, 0.533337496830609, -0.24941032923929382, 0.17560307595473756, -0.07274651545057625, 0.1230473842518173, -0.3414771925544129, -0.030491135374610984, 0.46325958223124725, 0.3887020519627101, -0.02575784919650926, -0.6859041327920566, -0.5029246944087369, 0.27096731558823567, 0.47553934065627484, -0.20619825143665, 0.008969253134464669, -0.057150924302719244, 0.306102933441413, 0.5220916474309665, 0.31641923567306246, -0.7016925687709004, -0.8911963634485897, -0.0010546303657732045, -0.5560845166297159, 0.2811963118348411, 0.19312944113520536, 0.22470779803431207, 0.06510189670083358, -0.31371271832885506, 0.06736212841917406, 0.5065773441851819, -0.04114332580359007, -0.321223274177978, -0.6237632591528083, -0.32076669208547814, 0.2283288086875422, 0.116463259618607, 0.2741339709490278, -0.28871694995563857, 0.21276221533988934, -0.05123838830327037, -0.22628720968415583, 0.531722150094284, -0.5867585902099313, -0.9120549800384008, 0.344418062055157, -0.02566776874753101, -0.3187562381780515, -0.02784026385538273, -0.23504863000710455, -0.1413030785305681, 0.2392223793432962, -0.18074661114842253, 0.6747407578453803, -0.6212623438888891, -0.41754560171833066, 0.3860851462742159, 0.08046251741645585, -0.0010223291821543504, -0.3939973070887868, -0.5222753442656535, 0.09392747507950933, -0.7417603723186369]\n",
            "[0.025451689652333503, 0.04310446937404669, -0.12538258048644743, 0.043217545569404575, -0.03915648166010275, 0.03167116200230901, -0.03457579657674332, 0.052947352533734636, 0.014841443001920087, -0.019035018274031774, -0.051819271847848854, 0.013907131124363505, 0.061231532783543464, -0.027447154894782427, 0.00676566785334227, -0.038558528483267275, -0.014149766692705625, -0.007038043965545867, -0.11259903926550244, 0.07087050110946401, 0.018280603827946527, -0.10974947070248207, -0.0919399970768652, 0.025804684976195095, 0.008321476432769188, -0.1322282441763766, 0.03663994994338577, -0.08143139008349126, -0.02859061695447087, 0.08671789705512858, -0.05602835395788218, 0.03772482475825035, 0.058424663465932496, -0.008622102089455097, 0.07285303343019728, -0.21322258509784994, 0.02631976574842408, -0.040212165950834995, -0.13432983513626595, -0.03735815155011324, 0.021652174733461118, 0.06939778890206841, -0.06412962504366373, 0.0678681933163812, -0.009851934191071186, 0.016599784854201154, 0.061321357399141574, 0.1087716172454263, -0.044792046397839125, -0.0580562126553007, -0.04214905078350692, -0.08860951600432247, -0.0348469401715433, 0.04773316457715221, -0.177937815131497, -0.05815419842677298, -0.033796732294129064, 0.08458596565182831, -0.0021967066160995968, 0.04998220643222127, -0.037819054893105775, -0.019729609509432165, -0.02156010799392728, -0.0881119183343213, 0.2368149454255569, -0.04682460003282795, 0.0850130012112097, 0.02663926193153638, -0.031504986249541324, -0.08171822761135202, -0.06720032964225481, 0.1710211885412271, -0.10110442835998869, 0.00016065743279259522, 0.0918104386841147, -0.11570933637168386, 0.09057375712730488, 0.027666302450590353, 0.07226486824710161, -0.03617050800806655, -0.021241670902803673, 0.04485170720019912, -0.15491057029956443, 0.1327825743457136, -0.07769598296322645, 0.027621783397939213, 0.0031547270318472206, -0.006288812146820564, 0.049950420894655095, -0.04061488368539353, 0.01817858278785758, 0.039051523471935606, -0.05213209906071449, -0.29593769287936245, -0.05577512291464897, -0.048985172539135875, 0.14115851235722712, -0.004626676671085001, -0.021244520952765196, 0.034020321846435816, 0.047835601310501234, -0.02360214208653302, 0.06028044975130088, -0.07742232766352967, -0.2653518095267167, -0.16135396365435795, 0.06051429029911581, 0.1440302435682909, 0.060728064374024206, -0.15116282368990794, 0.20682306573237752, 0.11207552040507349, -0.06712402715107571, -0.0534304190897028, 0.13419722475350285, -0.046839178597365014, 0.1221855942159052, -0.08140721373002814, 0.04999611686192857, -0.04141845825476682, -0.01784033509233484, 0.03137344438772174, 0.11138286347874461, 0.019454866806177886, -0.2723627789911886, -0.06828312002639389, 0.042022815205806335, -0.06865594360341142, -0.21570357867868303, -0.0163805495558514, 0.1076538915465065, 0.22622581679100298, 0.1452388193158969, 0.09179484446764723, 0.11975877824845857, -0.01940594833472746, -0.047942134872317646, 0.21543319390235113, 0.00013139877035380724, -0.050311581246153814, -0.08885403980072631, 0.128784862417949, 0.09508602298001788, 0.004664763476031684, -0.026479784873203942, 0.06442385552670371, 0.18781719133711045, -0.11209429747984823, -0.01797174910452931, 0.047452641181108056, 0.1819632245235638, 0.1118035741794816, 0.1620066342563146, -0.017125504366449155, -0.007144070646461395, 0.19722435616377343, 0.09003594378510482, -0.13700045329852956, 0.002733584748288062, 0.08365684063070973, -0.03294291001797603, 0.0177321262804024, 0.08762833645340898, -0.02813324251938418, 0.038888464135959123, 0.14232003120902983, -0.1586476006976119, -0.02685695555182106, -0.08620001347158686, -0.02389697341522099, -0.07759078216561142, 0.03137396153895677, 0.11921619411416624, -0.12113775162433862, 0.022068120344797666, -0.0498350473349642, 0.0396696596801882, 0.0292587914203955, -0.0548236979495229, 0.02500551551132234, -0.09969334164159131, 0.06542612284970083, 0.03507488654997871, -0.054869131162423306, 0.09578318676241089, -0.2062595986807794, 0.2609370212553789, 0.0726230964943377, -0.022509220095805443, -0.039487015438888384, 0.14095075685613961, -0.20852557803550262, 0.048444772539091366, 0.013033070736178638, -0.134666543883236, -0.03766470364613828, -0.05928061696074579, 0.1853634410759775, 0.039904546628155894, -0.11330137402814791, 0.0023633351663558226, 0.10175242257787238, -0.0019578433646079774, 0.1179196899370544, -0.19058413761994128, -0.028637542066881114, -0.020844964784817954, 0.02412066038564442, 0.049293051015382165, -0.005886603325475633, 0.05127823315948246, -0.15022233370397928, 0.09292153251060514, 0.006294075538787097, 0.08291403130208054, -0.004523461087491748, 0.005442398390848241, -0.07627442178247586, 0.12118558937786998, -0.022979844822499554, -0.040171468312718, -0.05942911982093047, 0.12352854958130206, -0.04895252144036885, 0.14414659947520778, -0.15292062897495176, 0.04348703164014828, 0.010683856692862257, -0.04595170256131227, -0.011874136611639673, -0.03648076591837018, -0.08425313537169406, -0.0011863382086628796, 0.04029038871391593, -0.10882833118644673, -0.06677753007293913, 0.07370673836237998, -0.09941137433133043, 0.06586179919708843, -0.04079255417927647, 0.07707400809227807, 0.14327773877390837, 0.015739694798472818, -0.026653536636793936, 0.0409348628630495, -0.083723622178275, -0.06773392359785407, -0.021839927786309582, 0.11352702408997567, -0.08918609114078146]\n"
          ]
        }
      ]
    },
    {
      "cell_type": "markdown",
      "source": [
        "## Term-Context Vector Representation"
      ],
      "metadata": {
        "id": "7gw2JzN1jeMK"
      }
    },
    {
      "cell_type": "code",
      "source": [
        "fasttext_model = FastText.load('./models/fasttext/train-125.model')\n",
        "word_vector = fasttext_model.wv\n",
        "word_vector.most_similar('developmental')"
      ],
      "metadata": {
        "colab": {
          "base_uri": "https://localhost:8080/"
        },
        "id": "YKfnl4v7mtMy",
        "outputId": "c0cb5ad3-ae65-4578-c97e-09fa27cf23b1"
      },
      "execution_count": 20,
      "outputs": [
        {
          "output_type": "execute_result",
          "data": {
            "text/plain": [
              "[('developments', 0.8620983362197876),\n",
              " ('neurodevelopmental', 0.8536943793296814),\n",
              " ('development', 0.8508096933364868),\n",
              " ('neurodevelopment', 0.789792537689209),\n",
              " ('mental', 0.6455051898956299),\n",
              " ('fetal', 0.6157057285308838),\n",
              " ('develops', 0.5882867574691772),\n",
              " ('psychomotor', 0.577566385269165),\n",
              " ('parental', 0.5691647529602051),\n",
              " ('prenatal', 0.5677740573883057)]"
            ]
          },
          "metadata": {},
          "execution_count": 20
        }
      ]
    },
    {
      "cell_type": "code",
      "source": [
        "fasttext_model = FastText.load(f'./models/fasttext/test-125.model')\n",
        "def tc_vector_rep(word, type_of_docs):\n",
        "  word_vector = fasttext_model.wv\n",
        "  return word_vector[word]"
      ],
      "metadata": {
        "id": "HrrFmn7mjhFK"
      },
      "execution_count": 115,
      "outputs": []
    },
    {
      "cell_type": "code",
      "source": [
        "print(tc_vector_rep('statin vitro developmental', 'train'))\n",
        "print(tc_vector_rep('vitro', 'train'))"
      ],
      "metadata": {
        "colab": {
          "base_uri": "https://localhost:8080/"
        },
        "id": "TiHo_g_Ekywa",
        "outputId": "1164ee12-f498-412b-d23f-9bfab373f005"
      },
      "execution_count": 22,
      "outputs": [
        {
          "output_type": "stream",
          "name": "stdout",
          "text": [
            "[ 0.00086178  0.7112148  -0.56431973  0.42318308 -0.15794535 -0.1867541\n",
            "  0.40705127 -0.08717214  0.13548957 -0.15464574  0.05829882 -0.5756704\n",
            "  0.38673627 -0.21238707 -0.09336478 -0.23297353 -0.06648219  0.12664953\n",
            " -0.18531604 -0.4978059   0.34533757 -0.11824949 -0.1923272   0.05202987\n",
            "  0.346623   -0.51382685 -0.0627332  -0.01424299  0.34125006  0.53760934\n",
            " -0.09107467  0.3487767  -0.3268377  -0.4639472   0.31419155 -0.1751086\n",
            "  0.06159164  0.4839102  -0.02583551 -0.3152744   0.10026489 -0.00672439\n",
            " -0.10624322 -0.11640561 -0.09343895 -0.03869553 -0.60006726 -0.2681943\n",
            "  0.46182868 -0.2987717   0.15281802 -0.09797607  0.00144322 -0.16126706\n",
            " -0.2927824  -0.19079271  0.0624644   0.05589211  0.00779116 -0.20415872\n",
            " -0.40874687  0.3592989  -0.3033358   0.16900006  0.39695105 -0.21791461\n",
            " -0.40421912  0.1503278   0.24309143 -0.08476384 -0.35813773  0.5578511\n",
            " -0.35237592 -0.19394414 -0.09166814 -0.21579579 -0.5203028  -0.27614918\n",
            "  0.32403713  0.03852601  0.18531284 -0.10021025 -0.16163325 -0.30995587\n",
            "  0.28525245 -0.34409133  0.4357455   0.4177961  -0.1866813  -0.23598816\n",
            " -0.34136474 -0.00981539  0.0782901  -0.63165337 -0.29791564 -0.07062522\n",
            "  0.0374215   0.10994925 -0.34125185  0.2704785 ]\n",
            "[ 0.05720993 -0.00375767 -0.9839981   0.3165429  -0.02072647  0.364041\n",
            "  0.2313561  -0.0066608  -0.12929367 -0.41749096  0.1954019   0.16983345\n",
            "  0.69952714  0.25346237  0.05389976  0.30834198 -0.5009081   0.58001\n",
            " -0.19707863 -0.25713894  0.64219964 -0.72069985 -0.47953314 -0.43275216\n",
            "  0.19443169 -0.48618767 -0.24237709  0.26980704  0.54097134  0.01931126\n",
            "  0.57300013 -0.12149879 -0.16608493 -0.44184777 -0.48915857  0.17681566\n",
            " -0.02232331 -0.02139904  0.46236175  0.1368682   0.11103775  0.0748876\n",
            " -0.18666111 -0.0593926  -0.6864386   0.06658199  0.5405953  -0.08420142\n",
            "  0.59521234 -0.1069968   0.2750246  -0.19208214  0.46897745  0.2149301\n",
            " -0.06977441 -0.00888917 -0.137304    0.16553439  0.6754097   0.23427667\n",
            " -0.55324674  0.01022046 -0.0821546   0.09201097  0.754772   -0.16047408\n",
            " -0.3520644  -0.09082384 -0.03964814 -0.5572042   0.00322316  0.11489083\n",
            " -0.52600735  0.26325446  0.0994235  -0.23405498 -0.31055814 -0.2458041\n",
            "  0.7880271   0.00168494  0.21256867 -0.29455665 -0.42837614 -0.29433742\n",
            "  0.90345234 -0.26256332  0.2239427  -0.01339047 -0.01456714  0.07040346\n",
            " -0.8904264  -0.39528513 -0.18316878 -0.44538596 -0.13486773  0.68507487\n",
            "  0.13447616 -0.1575159   0.09785905 -0.05332094]\n"
          ]
        }
      ]
    },
    {
      "cell_type": "markdown",
      "source": [
        "# Compute Similarity between Query and Docs"
      ],
      "metadata": {
        "id": "HQfOgyhvnPFD"
      }
    },
    {
      "cell_type": "code",
      "source": [
        "lsia_pair_of_X_Y = {}\n",
        "fasttext_pair_of_X_Y = {}"
      ],
      "metadata": {
        "id": "Sr4m4BV0rIqx"
      },
      "execution_count": 23,
      "outputs": []
    },
    {
      "cell_type": "markdown",
      "source": [
        "## Vector Representation for pair of query and docs"
      ],
      "metadata": {
        "id": "K4vasIPwp0tt"
      }
    },
    {
      "cell_type": "code",
      "source": [
        "def pair_query_docs(query, doc, vsm_type, type_of_docs):\n",
        "  if vsm_type == 'lsia':\n",
        "    vector_of_query = td_vector_rep(query, type_of_docs)\n",
        "    vector_of_doc = td_vector_rep(doc, type_of_docs)\n",
        "  elif vsm_type == 'fasttext':\n",
        "    vector_of_query = tc_vector_rep(' '.join(query), type_of_docs)\n",
        "    vector_of_doc = tc_vector_rep(' '.join(doc), type_of_docs)\n",
        "  q = set(query)\n",
        "  d = set(doc)\n",
        "  cosine_dist = cosine(vector_of_query, vector_of_doc)\n",
        "  jaccard_sim = len(q & d) / len(q | d)\n",
        "  return vector_of_query + vector_of_doc + [jaccard_sim] + [cosine_dist]"
      ],
      "metadata": {
        "id": "uoCDYWTWnUsS"
      },
      "execution_count": 24,
      "outputs": []
    },
    {
      "cell_type": "markdown",
      "source": [
        "## Generalize Mapping"
      ],
      "metadata": {
        "id": "CjnFJeVP2-zu"
      }
    },
    {
      "cell_type": "code",
      "source": [
        "def generalize_mapping_query_doc_qrel(vsm_type):\n",
        "  whole_set = ['train']\n",
        "  for item in whole_set:\n",
        "    X = [] # Query and Docs\n",
        "    Y = [] # Qrel\n",
        "    for query, doc, qrel in dataset[item]:\n",
        "      X.append(pair_query_docs(query, doc, vsm_type, item))\n",
        "      Y.append(qrel)\n",
        "    X = np.array(X)\n",
        "    Y = np.array(Y)\n",
        "    if vsm_type == 'lsia':\n",
        "      lsia_pair_of_X_Y[item] = (X, Y)\n",
        "    elif vsm_type == 'fasttext':\n",
        "      fasttext_pair_of_X_Y[item] = (X, Y)"
      ],
      "metadata": {
        "id": "aJa2IpNh2Lbj"
      },
      "execution_count": 123,
      "outputs": []
    },
    {
      "cell_type": "markdown",
      "source": [
        "## Mapping for LSI/LSA Model"
      ],
      "metadata": {
        "id": "4SPSeWLsrE2r"
      }
    },
    {
      "cell_type": "code",
      "source": [
        "generalize_mapping_query_doc_qrel('lsia')"
      ],
      "metadata": {
        "colab": {
          "base_uri": "https://localhost:8080/"
        },
        "id": "MJ3zTdN83bTv",
        "outputId": "83f64470-0543-4498-ea00-9e8dd7d0c612"
      },
      "execution_count": 39,
      "outputs": [
        {
          "output_type": "stream",
          "name": "stderr",
          "text": [
            "/usr/local/lib/python3.8/dist-packages/scipy/spatial/distance.py:699: RuntimeWarning: invalid value encountered in double_scalars\n",
            "  dist = 1.0 - uv / np.sqrt(uu * vv)\n"
          ]
        }
      ]
    },
    {
      "cell_type": "code",
      "source": [
        "print(lsia_pair_of_X_Y['train'][0].shape)\n",
        "print(lsia_pair_of_X_Y['train'][1].shape)\n",
        "print(lsia_pair_of_X_Y['dev'][0].shape)\n",
        "print(lsia_pair_of_X_Y['dev'][1].shape)\n",
        "print(lsia_pair_of_X_Y['test'][0].shape)\n",
        "print(lsia_pair_of_X_Y['test'][1].shape)"
      ],
      "metadata": {
        "colab": {
          "base_uri": "https://localhost:8080/"
        },
        "id": "-K0_AOJ0T7SY",
        "outputId": "0489e8dd-3201-488a-a52c-79a6d05f118d"
      },
      "execution_count": 40,
      "outputs": [
        {
          "output_type": "stream",
          "name": "stdout",
          "text": [
            "(28277, 502)\n",
            "(28277,)\n",
            "(3170, 502)\n",
            "(3170,)\n",
            "(3210, 502)\n",
            "(3210,)\n"
          ]
        }
      ]
    },
    {
      "cell_type": "markdown",
      "source": [
        "## Mapping for FastText Model"
      ],
      "metadata": {
        "id": "DgAIy5Ef3ffi"
      }
    },
    {
      "cell_type": "code",
      "source": [
        "generalize_mapping_query_doc_qrel('fasttext')"
      ],
      "metadata": {
        "id": "YKngRtSh3haK"
      },
      "execution_count": 116,
      "outputs": []
    },
    {
      "cell_type": "code",
      "source": [
        "print(fasttext_pair_of_X_Y['train'][0].shape)\n",
        "print(fasttext_pair_of_X_Y['train'][1].shape)\n",
        "print(fasttext_pair_of_X_Y['dev'][0].shape)\n",
        "print(fasttext_pair_of_X_Y['dev'][1].shape)\n",
        "print(fasttext_pair_of_X_Y['test'][0].shape)\n",
        "print(fasttext_pair_of_X_Y['test'][1].shape)"
      ],
      "metadata": {
        "colab": {
          "base_uri": "https://localhost:8080/"
        },
        "id": "lilRJ7jkT545",
        "outputId": "4a80adf1-b537-4301-98d8-26e3147d4f5a"
      },
      "execution_count": 117,
      "outputs": [
        {
          "output_type": "stream",
          "name": "stdout",
          "text": [
            "(28277, 100)\n",
            "(28277,)\n",
            "(3170, 100)\n",
            "(3170,)\n",
            "(3210, 100)\n",
            "(3210,)\n"
          ]
        }
      ]
    },
    {
      "cell_type": "markdown",
      "source": [
        "# Build the Ranker Model"
      ],
      "metadata": {
        "id": "K0FoSkeFUohT"
      }
    },
    {
      "cell_type": "code",
      "source": [
        "ranker_model = lgb.LGBMRanker(\n",
        "    learning_rate=.005115,\n",
        "    objective='lambdarank',\n",
        "    num_leaves=40,\n",
        "    importance_type='gain'\n",
        ")"
      ],
      "metadata": {
        "id": "kK95wwF2UrSS"
      },
      "execution_count": 252,
      "outputs": []
    },
    {
      "cell_type": "markdown",
      "source": [
        "## LSI/LSA"
      ],
      "metadata": {
        "id": "4kr7E55Uj14E"
      }
    },
    {
      "cell_type": "markdown",
      "source": [
        "### Train"
      ],
      "metadata": {
        "id": "9M3Ctxv4mHTC"
      }
    },
    {
      "cell_type": "code",
      "source": [
        "lsia_ranker_model = ranker_model.fit(\n",
        "    lsia_pair_of_X_Y['train'][0],\n",
        "    lsia_pair_of_X_Y['train'][1],\n",
        "    eval_metric='auc',\n",
        "    eval_set=[(lsia_pair_of_X_Y['dev'][0], lsia_pair_of_X_Y['dev'][1])],\n",
        "    eval_group=[[lsia_pair_of_X_Y['dev'][0].shape[0]]],\n",
        "    group=query_num_of_docs_each_type['train'],\n",
        "    eval_at=[5, 7, 10, 20],\n",
        "    verbose=10\n",
        ")"
      ],
      "metadata": {
        "colab": {
          "base_uri": "https://localhost:8080/"
        },
        "id": "j_S5vnlej5ZU",
        "outputId": "e8eb9616-0656-41e8-cc31-3ae05b93b38b"
      },
      "execution_count": 253,
      "outputs": [
        {
          "output_type": "stream",
          "name": "stdout",
          "text": [
            "[10]\tvalid_0's auc: 0.687572\tvalid_0's ndcg@5: 0.428571\tvalid_0's ndcg@7: 0.480929\tvalid_0's ndcg@10: 0.491239\tvalid_0's ndcg@20: 0.582961\n",
            "[20]\tvalid_0's auc: 0.683585\tvalid_0's ndcg@5: 0.587013\tvalid_0's ndcg@7: 0.556983\tvalid_0's ndcg@10: 0.607419\tvalid_0's ndcg@20: 0.637517\n",
            "[30]\tvalid_0's auc: 0.674721\tvalid_0's ndcg@5: 0.608942\tvalid_0's ndcg@7: 0.627112\tvalid_0's ndcg@10: 0.623897\tvalid_0's ndcg@20: 0.65584\n",
            "[40]\tvalid_0's auc: 0.673959\tvalid_0's ndcg@5: 0.608942\tvalid_0's ndcg@7: 0.630705\tvalid_0's ndcg@10: 0.664633\tvalid_0's ndcg@20: 0.701784\n",
            "[50]\tvalid_0's auc: 0.666135\tvalid_0's ndcg@5: 0.608942\tvalid_0's ndcg@7: 0.630705\tvalid_0's ndcg@10: 0.664633\tvalid_0's ndcg@20: 0.720564\n",
            "[60]\tvalid_0's auc: 0.663982\tvalid_0's ndcg@5: 0.697352\tvalid_0's ndcg@7: 0.702358\tvalid_0's ndcg@10: 0.684145\tvalid_0's ndcg@20: 0.754548\n",
            "[70]\tvalid_0's auc: 0.663436\tvalid_0's ndcg@5: 0.780819\tvalid_0's ndcg@7: 0.766412\tvalid_0's ndcg@10: 0.776613\tvalid_0's ndcg@20: 0.741729\n",
            "[80]\tvalid_0's auc: 0.659881\tvalid_0's ndcg@5: 0.744655\tvalid_0's ndcg@7: 0.793053\tvalid_0's ndcg@10: 0.797944\tvalid_0's ndcg@20: 0.739748\n",
            "[90]\tvalid_0's auc: 0.66238\tvalid_0's ndcg@5: 0.819629\tvalid_0's ndcg@7: 0.801459\tvalid_0's ndcg@10: 0.763495\tvalid_0's ndcg@20: 0.756327\n",
            "[100]\tvalid_0's auc: 0.665473\tvalid_0's ndcg@5: 0.841558\tvalid_0's ndcg@7: 0.819231\tvalid_0's ndcg@10: 0.781045\tvalid_0's ndcg@20: 0.788495\n"
          ]
        }
      ]
    },
    {
      "cell_type": "markdown",
      "source": [
        "### Evaluation"
      ],
      "metadata": {
        "id": "9jgiI478mInJ"
      }
    },
    {
      "cell_type": "code",
      "source": [
        "lsia_eval = lsia_ranker_model.predict(lsia_pair_of_X_Y['dev'][0])"
      ],
      "metadata": {
        "id": "clGolW6EmBY8"
      },
      "execution_count": 291,
      "outputs": []
    },
    {
      "cell_type": "code",
      "source": [
        "result_eval = pd.DataFrame(data={'predicted_ranking': tuple(lsia_eval)})\n",
        "result_eval.sort_values('predicted_ranking', ascending=False)"
      ],
      "metadata": {
        "colab": {
          "base_uri": "https://localhost:8080/",
          "height": 424
        },
        "id": "Qi44eUC5nHBu",
        "outputId": "7e55c847-1e18-40f0-9aa2-4750cee5af09"
      },
      "execution_count": 292,
      "outputs": [
        {
          "output_type": "execute_result",
          "data": {
            "text/plain": [
              "      predicted_ranking\n",
              "1543           0.167020\n",
              "2178           0.161107\n",
              "574            0.160931\n",
              "3095           0.160310\n",
              "2303           0.160248\n",
              "...                 ...\n",
              "2802          -0.162358\n",
              "922           -0.162472\n",
              "1612          -0.163288\n",
              "800           -0.163642\n",
              "728           -0.163822\n",
              "\n",
              "[3170 rows x 1 columns]"
            ],
            "text/html": [
              "\n",
              "  <div id=\"df-751046a2-23de-4bb5-a175-31b96c33fdcc\">\n",
              "    <div class=\"colab-df-container\">\n",
              "      <div>\n",
              "<style scoped>\n",
              "    .dataframe tbody tr th:only-of-type {\n",
              "        vertical-align: middle;\n",
              "    }\n",
              "\n",
              "    .dataframe tbody tr th {\n",
              "        vertical-align: top;\n",
              "    }\n",
              "\n",
              "    .dataframe thead th {\n",
              "        text-align: right;\n",
              "    }\n",
              "</style>\n",
              "<table border=\"1\" class=\"dataframe\">\n",
              "  <thead>\n",
              "    <tr style=\"text-align: right;\">\n",
              "      <th></th>\n",
              "      <th>predicted_ranking</th>\n",
              "    </tr>\n",
              "  </thead>\n",
              "  <tbody>\n",
              "    <tr>\n",
              "      <th>1543</th>\n",
              "      <td>0.167020</td>\n",
              "    </tr>\n",
              "    <tr>\n",
              "      <th>2178</th>\n",
              "      <td>0.161107</td>\n",
              "    </tr>\n",
              "    <tr>\n",
              "      <th>574</th>\n",
              "      <td>0.160931</td>\n",
              "    </tr>\n",
              "    <tr>\n",
              "      <th>3095</th>\n",
              "      <td>0.160310</td>\n",
              "    </tr>\n",
              "    <tr>\n",
              "      <th>2303</th>\n",
              "      <td>0.160248</td>\n",
              "    </tr>\n",
              "    <tr>\n",
              "      <th>...</th>\n",
              "      <td>...</td>\n",
              "    </tr>\n",
              "    <tr>\n",
              "      <th>2802</th>\n",
              "      <td>-0.162358</td>\n",
              "    </tr>\n",
              "    <tr>\n",
              "      <th>922</th>\n",
              "      <td>-0.162472</td>\n",
              "    </tr>\n",
              "    <tr>\n",
              "      <th>1612</th>\n",
              "      <td>-0.163288</td>\n",
              "    </tr>\n",
              "    <tr>\n",
              "      <th>800</th>\n",
              "      <td>-0.163642</td>\n",
              "    </tr>\n",
              "    <tr>\n",
              "      <th>728</th>\n",
              "      <td>-0.163822</td>\n",
              "    </tr>\n",
              "  </tbody>\n",
              "</table>\n",
              "<p>3170 rows × 1 columns</p>\n",
              "</div>\n",
              "      <button class=\"colab-df-convert\" onclick=\"convertToInteractive('df-751046a2-23de-4bb5-a175-31b96c33fdcc')\"\n",
              "              title=\"Convert this dataframe to an interactive table.\"\n",
              "              style=\"display:none;\">\n",
              "        \n",
              "  <svg xmlns=\"http://www.w3.org/2000/svg\" height=\"24px\"viewBox=\"0 0 24 24\"\n",
              "       width=\"24px\">\n",
              "    <path d=\"M0 0h24v24H0V0z\" fill=\"none\"/>\n",
              "    <path d=\"M18.56 5.44l.94 2.06.94-2.06 2.06-.94-2.06-.94-.94-2.06-.94 2.06-2.06.94zm-11 1L8.5 8.5l.94-2.06 2.06-.94-2.06-.94L8.5 2.5l-.94 2.06-2.06.94zm10 10l.94 2.06.94-2.06 2.06-.94-2.06-.94-.94-2.06-.94 2.06-2.06.94z\"/><path d=\"M17.41 7.96l-1.37-1.37c-.4-.4-.92-.59-1.43-.59-.52 0-1.04.2-1.43.59L10.3 9.45l-7.72 7.72c-.78.78-.78 2.05 0 2.83L4 21.41c.39.39.9.59 1.41.59.51 0 1.02-.2 1.41-.59l7.78-7.78 2.81-2.81c.8-.78.8-2.07 0-2.86zM5.41 20L4 18.59l7.72-7.72 1.47 1.35L5.41 20z\"/>\n",
              "  </svg>\n",
              "      </button>\n",
              "      \n",
              "  <style>\n",
              "    .colab-df-container {\n",
              "      display:flex;\n",
              "      flex-wrap:wrap;\n",
              "      gap: 12px;\n",
              "    }\n",
              "\n",
              "    .colab-df-convert {\n",
              "      background-color: #E8F0FE;\n",
              "      border: none;\n",
              "      border-radius: 50%;\n",
              "      cursor: pointer;\n",
              "      display: none;\n",
              "      fill: #1967D2;\n",
              "      height: 32px;\n",
              "      padding: 0 0 0 0;\n",
              "      width: 32px;\n",
              "    }\n",
              "\n",
              "    .colab-df-convert:hover {\n",
              "      background-color: #E2EBFA;\n",
              "      box-shadow: 0px 1px 2px rgba(60, 64, 67, 0.3), 0px 1px 3px 1px rgba(60, 64, 67, 0.15);\n",
              "      fill: #174EA6;\n",
              "    }\n",
              "\n",
              "    [theme=dark] .colab-df-convert {\n",
              "      background-color: #3B4455;\n",
              "      fill: #D2E3FC;\n",
              "    }\n",
              "\n",
              "    [theme=dark] .colab-df-convert:hover {\n",
              "      background-color: #434B5C;\n",
              "      box-shadow: 0px 1px 3px 1px rgba(0, 0, 0, 0.15);\n",
              "      filter: drop-shadow(0px 1px 2px rgba(0, 0, 0, 0.3));\n",
              "      fill: #FFFFFF;\n",
              "    }\n",
              "  </style>\n",
              "\n",
              "      <script>\n",
              "        const buttonEl =\n",
              "          document.querySelector('#df-751046a2-23de-4bb5-a175-31b96c33fdcc button.colab-df-convert');\n",
              "        buttonEl.style.display =\n",
              "          google.colab.kernel.accessAllowed ? 'block' : 'none';\n",
              "\n",
              "        async function convertToInteractive(key) {\n",
              "          const element = document.querySelector('#df-751046a2-23de-4bb5-a175-31b96c33fdcc');\n",
              "          const dataTable =\n",
              "            await google.colab.kernel.invokeFunction('convertToInteractive',\n",
              "                                                     [key], {});\n",
              "          if (!dataTable) return;\n",
              "\n",
              "          const docLinkHtml = 'Like what you see? Visit the ' +\n",
              "            '<a target=\"_blank\" href=https://colab.research.google.com/notebooks/data_table.ipynb>data table notebook</a>'\n",
              "            + ' to learn more about interactive tables.';\n",
              "          element.innerHTML = '';\n",
              "          dataTable['output_type'] = 'display_data';\n",
              "          await google.colab.output.renderOutput(dataTable, element);\n",
              "          const docLink = document.createElement('div');\n",
              "          docLink.innerHTML = docLinkHtml;\n",
              "          element.appendChild(docLink);\n",
              "        }\n",
              "      </script>\n",
              "    </div>\n",
              "  </div>\n",
              "  "
            ]
          },
          "metadata": {},
          "execution_count": 292
        }
      ]
    },
    {
      "cell_type": "markdown",
      "source": [
        "### Test"
      ],
      "metadata": {
        "id": "NTI8j1TPqM45"
      }
    },
    {
      "cell_type": "code",
      "source": [
        "lsia_test = lsia_ranker_model.predict(lsia_pair_of_X_Y['test'][0])"
      ],
      "metadata": {
        "id": "bNwY7hRoqN6R"
      },
      "execution_count": 288,
      "outputs": []
    },
    {
      "cell_type": "code",
      "source": [
        "result_test = pd.DataFrame(data={'predicted_ranking': tuple(lsia_test)})\n",
        "result_test.sort_values('predicted_ranking', ascending=False)"
      ],
      "metadata": {
        "colab": {
          "base_uri": "https://localhost:8080/",
          "height": 424
        },
        "id": "l7T3_sLIuixt",
        "outputId": "619530df-ccf5-4eb4-a386-9fef861901df"
      },
      "execution_count": 290,
      "outputs": [
        {
          "output_type": "execute_result",
          "data": {
            "text/plain": [
              "      predicted_ranking\n",
              "1491           0.167042\n",
              "1354           0.166680\n",
              "1957           0.162015\n",
              "2517           0.162015\n",
              "1786           0.161238\n",
              "...                 ...\n",
              "1701          -0.163548\n",
              "1702          -0.163955\n",
              "39            -0.164888\n",
              "721           -0.165067\n",
              "2434          -0.165598\n",
              "\n",
              "[3210 rows x 1 columns]"
            ],
            "text/html": [
              "\n",
              "  <div id=\"df-effe0484-8810-41d2-90b1-d7b9f519680e\">\n",
              "    <div class=\"colab-df-container\">\n",
              "      <div>\n",
              "<style scoped>\n",
              "    .dataframe tbody tr th:only-of-type {\n",
              "        vertical-align: middle;\n",
              "    }\n",
              "\n",
              "    .dataframe tbody tr th {\n",
              "        vertical-align: top;\n",
              "    }\n",
              "\n",
              "    .dataframe thead th {\n",
              "        text-align: right;\n",
              "    }\n",
              "</style>\n",
              "<table border=\"1\" class=\"dataframe\">\n",
              "  <thead>\n",
              "    <tr style=\"text-align: right;\">\n",
              "      <th></th>\n",
              "      <th>predicted_ranking</th>\n",
              "    </tr>\n",
              "  </thead>\n",
              "  <tbody>\n",
              "    <tr>\n",
              "      <th>1491</th>\n",
              "      <td>0.167042</td>\n",
              "    </tr>\n",
              "    <tr>\n",
              "      <th>1354</th>\n",
              "      <td>0.166680</td>\n",
              "    </tr>\n",
              "    <tr>\n",
              "      <th>1957</th>\n",
              "      <td>0.162015</td>\n",
              "    </tr>\n",
              "    <tr>\n",
              "      <th>2517</th>\n",
              "      <td>0.162015</td>\n",
              "    </tr>\n",
              "    <tr>\n",
              "      <th>1786</th>\n",
              "      <td>0.161238</td>\n",
              "    </tr>\n",
              "    <tr>\n",
              "      <th>...</th>\n",
              "      <td>...</td>\n",
              "    </tr>\n",
              "    <tr>\n",
              "      <th>1701</th>\n",
              "      <td>-0.163548</td>\n",
              "    </tr>\n",
              "    <tr>\n",
              "      <th>1702</th>\n",
              "      <td>-0.163955</td>\n",
              "    </tr>\n",
              "    <tr>\n",
              "      <th>39</th>\n",
              "      <td>-0.164888</td>\n",
              "    </tr>\n",
              "    <tr>\n",
              "      <th>721</th>\n",
              "      <td>-0.165067</td>\n",
              "    </tr>\n",
              "    <tr>\n",
              "      <th>2434</th>\n",
              "      <td>-0.165598</td>\n",
              "    </tr>\n",
              "  </tbody>\n",
              "</table>\n",
              "<p>3210 rows × 1 columns</p>\n",
              "</div>\n",
              "      <button class=\"colab-df-convert\" onclick=\"convertToInteractive('df-effe0484-8810-41d2-90b1-d7b9f519680e')\"\n",
              "              title=\"Convert this dataframe to an interactive table.\"\n",
              "              style=\"display:none;\">\n",
              "        \n",
              "  <svg xmlns=\"http://www.w3.org/2000/svg\" height=\"24px\"viewBox=\"0 0 24 24\"\n",
              "       width=\"24px\">\n",
              "    <path d=\"M0 0h24v24H0V0z\" fill=\"none\"/>\n",
              "    <path d=\"M18.56 5.44l.94 2.06.94-2.06 2.06-.94-2.06-.94-.94-2.06-.94 2.06-2.06.94zm-11 1L8.5 8.5l.94-2.06 2.06-.94-2.06-.94L8.5 2.5l-.94 2.06-2.06.94zm10 10l.94 2.06.94-2.06 2.06-.94-2.06-.94-.94-2.06-.94 2.06-2.06.94z\"/><path d=\"M17.41 7.96l-1.37-1.37c-.4-.4-.92-.59-1.43-.59-.52 0-1.04.2-1.43.59L10.3 9.45l-7.72 7.72c-.78.78-.78 2.05 0 2.83L4 21.41c.39.39.9.59 1.41.59.51 0 1.02-.2 1.41-.59l7.78-7.78 2.81-2.81c.8-.78.8-2.07 0-2.86zM5.41 20L4 18.59l7.72-7.72 1.47 1.35L5.41 20z\"/>\n",
              "  </svg>\n",
              "      </button>\n",
              "      \n",
              "  <style>\n",
              "    .colab-df-container {\n",
              "      display:flex;\n",
              "      flex-wrap:wrap;\n",
              "      gap: 12px;\n",
              "    }\n",
              "\n",
              "    .colab-df-convert {\n",
              "      background-color: #E8F0FE;\n",
              "      border: none;\n",
              "      border-radius: 50%;\n",
              "      cursor: pointer;\n",
              "      display: none;\n",
              "      fill: #1967D2;\n",
              "      height: 32px;\n",
              "      padding: 0 0 0 0;\n",
              "      width: 32px;\n",
              "    }\n",
              "\n",
              "    .colab-df-convert:hover {\n",
              "      background-color: #E2EBFA;\n",
              "      box-shadow: 0px 1px 2px rgba(60, 64, 67, 0.3), 0px 1px 3px 1px rgba(60, 64, 67, 0.15);\n",
              "      fill: #174EA6;\n",
              "    }\n",
              "\n",
              "    [theme=dark] .colab-df-convert {\n",
              "      background-color: #3B4455;\n",
              "      fill: #D2E3FC;\n",
              "    }\n",
              "\n",
              "    [theme=dark] .colab-df-convert:hover {\n",
              "      background-color: #434B5C;\n",
              "      box-shadow: 0px 1px 3px 1px rgba(0, 0, 0, 0.15);\n",
              "      filter: drop-shadow(0px 1px 2px rgba(0, 0, 0, 0.3));\n",
              "      fill: #FFFFFF;\n",
              "    }\n",
              "  </style>\n",
              "\n",
              "      <script>\n",
              "        const buttonEl =\n",
              "          document.querySelector('#df-effe0484-8810-41d2-90b1-d7b9f519680e button.colab-df-convert');\n",
              "        buttonEl.style.display =\n",
              "          google.colab.kernel.accessAllowed ? 'block' : 'none';\n",
              "\n",
              "        async function convertToInteractive(key) {\n",
              "          const element = document.querySelector('#df-effe0484-8810-41d2-90b1-d7b9f519680e');\n",
              "          const dataTable =\n",
              "            await google.colab.kernel.invokeFunction('convertToInteractive',\n",
              "                                                     [key], {});\n",
              "          if (!dataTable) return;\n",
              "\n",
              "          const docLinkHtml = 'Like what you see? Visit the ' +\n",
              "            '<a target=\"_blank\" href=https://colab.research.google.com/notebooks/data_table.ipynb>data table notebook</a>'\n",
              "            + ' to learn more about interactive tables.';\n",
              "          element.innerHTML = '';\n",
              "          dataTable['output_type'] = 'display_data';\n",
              "          await google.colab.output.renderOutput(dataTable, element);\n",
              "          const docLink = document.createElement('div');\n",
              "          docLink.innerHTML = docLinkHtml;\n",
              "          element.appendChild(docLink);\n",
              "        }\n",
              "      </script>\n",
              "    </div>\n",
              "  </div>\n",
              "  "
            ]
          },
          "metadata": {},
          "execution_count": 290
        }
      ]
    },
    {
      "cell_type": "markdown",
      "source": [
        "## FastText"
      ],
      "metadata": {
        "id": "zRGAi2Gxj302"
      }
    },
    {
      "cell_type": "code",
      "source": [
        "ft_ranker_model = lgb.LGBMRanker(\n",
        "    learning_rate=.00125, # learning_rate=.00115 actually do better than .00125; but prone to overfit\n",
        "    objective='lambdarank',\n",
        "    num_leaves=60,\n",
        "    importance_type='gain'\n",
        ")"
      ],
      "metadata": {
        "id": "i7FWKVKV2NjH"
      },
      "execution_count": 281,
      "outputs": []
    },
    {
      "cell_type": "markdown",
      "source": [
        "### Train"
      ],
      "metadata": {
        "id": "unykpCz21NoP"
      }
    },
    {
      "cell_type": "code",
      "source": [
        "fasttext_ranker_model = ft_ranker_model.fit(\n",
        "    fasttext_pair_of_X_Y['train'][0],\n",
        "    fasttext_pair_of_X_Y['train'][1],\n",
        "    eval_metric='auc',\n",
        "    eval_set=[(fasttext_pair_of_X_Y['dev'][0], fasttext_pair_of_X_Y['dev'][1])],\n",
        "    eval_group=[[fasttext_pair_of_X_Y['dev'][0].shape[0]]],\n",
        "    group=query_num_of_docs_each_type['train'],\n",
        "    eval_at=[5, 7, 10, 20],\n",
        "    verbose=10\n",
        ")"
      ],
      "metadata": {
        "colab": {
          "base_uri": "https://localhost:8080/"
        },
        "id": "-nrM3Av11Re_",
        "outputId": "458c6481-b713-4dd3-d33f-f7799d3fe9bd"
      },
      "execution_count": 282,
      "outputs": [
        {
          "output_type": "stream",
          "name": "stdout",
          "text": [
            "[10]\tvalid_0's auc: 0.534841\tvalid_0's ndcg@5: 0.66084\tvalid_0's ndcg@7: 0.616816\tvalid_0's ndcg@10: 0.585896\tvalid_0's ndcg@20: 0.614476\n",
            "[20]\tvalid_0's auc: 0.53243\tvalid_0's ndcg@5: 0.71928\tvalid_0's ndcg@7: 0.72013\tvalid_0's ndcg@10: 0.73805\tvalid_0's ndcg@20: 0.682675\n",
            "[30]\tvalid_0's auc: 0.549703\tvalid_0's ndcg@5: 0.819629\tvalid_0's ndcg@7: 0.797866\tvalid_0's ndcg@10: 0.798478\tvalid_0's ndcg@20: 0.717209\n",
            "[40]\tvalid_0's auc: 0.551865\tvalid_0's ndcg@5: 0.841558\tvalid_0's ndcg@7: 0.735306\tvalid_0's ndcg@10: 0.751707\tvalid_0's ndcg@20: 0.719955\n",
            "[50]\tvalid_0's auc: 0.550322\tvalid_0's ndcg@5: 0.925026\tvalid_0's ndcg@7: 0.802953\tvalid_0's ndcg@10: 0.728337\tvalid_0's ndcg@20: 0.743136\n",
            "[60]\tvalid_0's auc: 0.55223\tvalid_0's ndcg@5: 0.804071\tvalid_0's ndcg@7: 0.841207\tvalid_0's ndcg@10: 0.758966\tvalid_0's ndcg@20: 0.735302\n",
            "[70]\tvalid_0's auc: 0.554278\tvalid_0's ndcg@5: 0.887539\tvalid_0's ndcg@7: 0.800547\tvalid_0's ndcg@10: 0.762764\tvalid_0's ndcg@20: 0.788661\n",
            "[80]\tvalid_0's auc: 0.559376\tvalid_0's ndcg@5: 0.887539\tvalid_0's ndcg@7: 0.856497\tvalid_0's ndcg@10: 0.809068\tvalid_0's ndcg@20: 0.738998\n",
            "[90]\tvalid_0's auc: 0.56377\tvalid_0's ndcg@5: 1\tvalid_0's ndcg@7: 0.863717\tvalid_0's ndcg@10: 0.85302\tvalid_0's ndcg@20: 0.752991\n",
            "[100]\tvalid_0's auc: 0.566423\tvalid_0's ndcg@5: 0.887539\tvalid_0's ndcg@7: 0.856497\tvalid_0's ndcg@10: 0.885098\tvalid_0's ndcg@20: 0.773849\n"
          ]
        }
      ]
    },
    {
      "cell_type": "markdown",
      "source": [
        "### Evaluation"
      ],
      "metadata": {
        "id": "69gC0AHl1OnW"
      }
    },
    {
      "cell_type": "code",
      "source": [
        "fasttext_eval = fasttext_ranker_model.predict(fasttext_pair_of_X_Y['dev'][0])"
      ],
      "metadata": {
        "id": "7xM1d9aL1R68"
      },
      "execution_count": 293,
      "outputs": []
    },
    {
      "cell_type": "code",
      "source": [
        "result_eval = pd.DataFrame(data={'predicted_ranking': tuple(fasttext_eval)})\n",
        "result_eval.sort_values('predicted_ranking', ascending=False)"
      ],
      "metadata": {
        "colab": {
          "base_uri": "https://localhost:8080/",
          "height": 424
        },
        "id": "D8uaU6DK14VR",
        "outputId": "a748003a-8d4f-4917-e56d-415afa6d0dbb"
      },
      "execution_count": 295,
      "outputs": [
        {
          "output_type": "execute_result",
          "data": {
            "text/plain": [
              "      predicted_ranking\n",
              "1              0.037756\n",
              "2              0.037239\n",
              "2141           0.035701\n",
              "1269           0.035618\n",
              "2151           0.035115\n",
              "...                 ...\n",
              "2459          -0.032869\n",
              "2458          -0.032968\n",
              "2472          -0.033432\n",
              "2456          -0.033878\n",
              "1704          -0.036344\n",
              "\n",
              "[3170 rows x 1 columns]"
            ],
            "text/html": [
              "\n",
              "  <div id=\"df-432abda2-3d37-4298-9b91-318b03e92b89\">\n",
              "    <div class=\"colab-df-container\">\n",
              "      <div>\n",
              "<style scoped>\n",
              "    .dataframe tbody tr th:only-of-type {\n",
              "        vertical-align: middle;\n",
              "    }\n",
              "\n",
              "    .dataframe tbody tr th {\n",
              "        vertical-align: top;\n",
              "    }\n",
              "\n",
              "    .dataframe thead th {\n",
              "        text-align: right;\n",
              "    }\n",
              "</style>\n",
              "<table border=\"1\" class=\"dataframe\">\n",
              "  <thead>\n",
              "    <tr style=\"text-align: right;\">\n",
              "      <th></th>\n",
              "      <th>predicted_ranking</th>\n",
              "    </tr>\n",
              "  </thead>\n",
              "  <tbody>\n",
              "    <tr>\n",
              "      <th>1</th>\n",
              "      <td>0.037756</td>\n",
              "    </tr>\n",
              "    <tr>\n",
              "      <th>2</th>\n",
              "      <td>0.037239</td>\n",
              "    </tr>\n",
              "    <tr>\n",
              "      <th>2141</th>\n",
              "      <td>0.035701</td>\n",
              "    </tr>\n",
              "    <tr>\n",
              "      <th>1269</th>\n",
              "      <td>0.035618</td>\n",
              "    </tr>\n",
              "    <tr>\n",
              "      <th>2151</th>\n",
              "      <td>0.035115</td>\n",
              "    </tr>\n",
              "    <tr>\n",
              "      <th>...</th>\n",
              "      <td>...</td>\n",
              "    </tr>\n",
              "    <tr>\n",
              "      <th>2459</th>\n",
              "      <td>-0.032869</td>\n",
              "    </tr>\n",
              "    <tr>\n",
              "      <th>2458</th>\n",
              "      <td>-0.032968</td>\n",
              "    </tr>\n",
              "    <tr>\n",
              "      <th>2472</th>\n",
              "      <td>-0.033432</td>\n",
              "    </tr>\n",
              "    <tr>\n",
              "      <th>2456</th>\n",
              "      <td>-0.033878</td>\n",
              "    </tr>\n",
              "    <tr>\n",
              "      <th>1704</th>\n",
              "      <td>-0.036344</td>\n",
              "    </tr>\n",
              "  </tbody>\n",
              "</table>\n",
              "<p>3170 rows × 1 columns</p>\n",
              "</div>\n",
              "      <button class=\"colab-df-convert\" onclick=\"convertToInteractive('df-432abda2-3d37-4298-9b91-318b03e92b89')\"\n",
              "              title=\"Convert this dataframe to an interactive table.\"\n",
              "              style=\"display:none;\">\n",
              "        \n",
              "  <svg xmlns=\"http://www.w3.org/2000/svg\" height=\"24px\"viewBox=\"0 0 24 24\"\n",
              "       width=\"24px\">\n",
              "    <path d=\"M0 0h24v24H0V0z\" fill=\"none\"/>\n",
              "    <path d=\"M18.56 5.44l.94 2.06.94-2.06 2.06-.94-2.06-.94-.94-2.06-.94 2.06-2.06.94zm-11 1L8.5 8.5l.94-2.06 2.06-.94-2.06-.94L8.5 2.5l-.94 2.06-2.06.94zm10 10l.94 2.06.94-2.06 2.06-.94-2.06-.94-.94-2.06-.94 2.06-2.06.94z\"/><path d=\"M17.41 7.96l-1.37-1.37c-.4-.4-.92-.59-1.43-.59-.52 0-1.04.2-1.43.59L10.3 9.45l-7.72 7.72c-.78.78-.78 2.05 0 2.83L4 21.41c.39.39.9.59 1.41.59.51 0 1.02-.2 1.41-.59l7.78-7.78 2.81-2.81c.8-.78.8-2.07 0-2.86zM5.41 20L4 18.59l7.72-7.72 1.47 1.35L5.41 20z\"/>\n",
              "  </svg>\n",
              "      </button>\n",
              "      \n",
              "  <style>\n",
              "    .colab-df-container {\n",
              "      display:flex;\n",
              "      flex-wrap:wrap;\n",
              "      gap: 12px;\n",
              "    }\n",
              "\n",
              "    .colab-df-convert {\n",
              "      background-color: #E8F0FE;\n",
              "      border: none;\n",
              "      border-radius: 50%;\n",
              "      cursor: pointer;\n",
              "      display: none;\n",
              "      fill: #1967D2;\n",
              "      height: 32px;\n",
              "      padding: 0 0 0 0;\n",
              "      width: 32px;\n",
              "    }\n",
              "\n",
              "    .colab-df-convert:hover {\n",
              "      background-color: #E2EBFA;\n",
              "      box-shadow: 0px 1px 2px rgba(60, 64, 67, 0.3), 0px 1px 3px 1px rgba(60, 64, 67, 0.15);\n",
              "      fill: #174EA6;\n",
              "    }\n",
              "\n",
              "    [theme=dark] .colab-df-convert {\n",
              "      background-color: #3B4455;\n",
              "      fill: #D2E3FC;\n",
              "    }\n",
              "\n",
              "    [theme=dark] .colab-df-convert:hover {\n",
              "      background-color: #434B5C;\n",
              "      box-shadow: 0px 1px 3px 1px rgba(0, 0, 0, 0.15);\n",
              "      filter: drop-shadow(0px 1px 2px rgba(0, 0, 0, 0.3));\n",
              "      fill: #FFFFFF;\n",
              "    }\n",
              "  </style>\n",
              "\n",
              "      <script>\n",
              "        const buttonEl =\n",
              "          document.querySelector('#df-432abda2-3d37-4298-9b91-318b03e92b89 button.colab-df-convert');\n",
              "        buttonEl.style.display =\n",
              "          google.colab.kernel.accessAllowed ? 'block' : 'none';\n",
              "\n",
              "        async function convertToInteractive(key) {\n",
              "          const element = document.querySelector('#df-432abda2-3d37-4298-9b91-318b03e92b89');\n",
              "          const dataTable =\n",
              "            await google.colab.kernel.invokeFunction('convertToInteractive',\n",
              "                                                     [key], {});\n",
              "          if (!dataTable) return;\n",
              "\n",
              "          const docLinkHtml = 'Like what you see? Visit the ' +\n",
              "            '<a target=\"_blank\" href=https://colab.research.google.com/notebooks/data_table.ipynb>data table notebook</a>'\n",
              "            + ' to learn more about interactive tables.';\n",
              "          element.innerHTML = '';\n",
              "          dataTable['output_type'] = 'display_data';\n",
              "          await google.colab.output.renderOutput(dataTable, element);\n",
              "          const docLink = document.createElement('div');\n",
              "          docLink.innerHTML = docLinkHtml;\n",
              "          element.appendChild(docLink);\n",
              "        }\n",
              "      </script>\n",
              "    </div>\n",
              "  </div>\n",
              "  "
            ]
          },
          "metadata": {},
          "execution_count": 295
        }
      ]
    },
    {
      "cell_type": "markdown",
      "source": [
        "### Test"
      ],
      "metadata": {
        "id": "KbHWw8Uo1P_W"
      }
    },
    {
      "cell_type": "code",
      "source": [
        "fasttext_eval = fasttext_ranker_model.predict(fasttext_pair_of_X_Y['test'][0])"
      ],
      "metadata": {
        "id": "I1H0RDtVj5Lu"
      },
      "execution_count": 296,
      "outputs": []
    },
    {
      "cell_type": "code",
      "source": [
        "result_eval = pd.DataFrame(data={'predicted_ranking': tuple(fasttext_eval)})\n",
        "result_eval.sort_values('predicted_ranking', ascending=False)"
      ],
      "metadata": {
        "colab": {
          "base_uri": "https://localhost:8080/",
          "height": 424
        },
        "id": "uFhs9zqa1_F2",
        "outputId": "23d04e9d-e564-4823-ff59-415de116201f"
      },
      "execution_count": 298,
      "outputs": [
        {
          "output_type": "execute_result",
          "data": {
            "text/plain": [
              "      predicted_ranking\n",
              "707            0.041124\n",
              "703            0.039993\n",
              "2971           0.039729\n",
              "2609           0.039402\n",
              "1167           0.038500\n",
              "...                 ...\n",
              "1664          -0.024250\n",
              "2412          -0.024355\n",
              "1662          -0.024823\n",
              "2032          -0.025479\n",
              "2036          -0.027888\n",
              "\n",
              "[3210 rows x 1 columns]"
            ],
            "text/html": [
              "\n",
              "  <div id=\"df-54060ded-b6e8-4bb0-9055-3888668a028a\">\n",
              "    <div class=\"colab-df-container\">\n",
              "      <div>\n",
              "<style scoped>\n",
              "    .dataframe tbody tr th:only-of-type {\n",
              "        vertical-align: middle;\n",
              "    }\n",
              "\n",
              "    .dataframe tbody tr th {\n",
              "        vertical-align: top;\n",
              "    }\n",
              "\n",
              "    .dataframe thead th {\n",
              "        text-align: right;\n",
              "    }\n",
              "</style>\n",
              "<table border=\"1\" class=\"dataframe\">\n",
              "  <thead>\n",
              "    <tr style=\"text-align: right;\">\n",
              "      <th></th>\n",
              "      <th>predicted_ranking</th>\n",
              "    </tr>\n",
              "  </thead>\n",
              "  <tbody>\n",
              "    <tr>\n",
              "      <th>707</th>\n",
              "      <td>0.041124</td>\n",
              "    </tr>\n",
              "    <tr>\n",
              "      <th>703</th>\n",
              "      <td>0.039993</td>\n",
              "    </tr>\n",
              "    <tr>\n",
              "      <th>2971</th>\n",
              "      <td>0.039729</td>\n",
              "    </tr>\n",
              "    <tr>\n",
              "      <th>2609</th>\n",
              "      <td>0.039402</td>\n",
              "    </tr>\n",
              "    <tr>\n",
              "      <th>1167</th>\n",
              "      <td>0.038500</td>\n",
              "    </tr>\n",
              "    <tr>\n",
              "      <th>...</th>\n",
              "      <td>...</td>\n",
              "    </tr>\n",
              "    <tr>\n",
              "      <th>1664</th>\n",
              "      <td>-0.024250</td>\n",
              "    </tr>\n",
              "    <tr>\n",
              "      <th>2412</th>\n",
              "      <td>-0.024355</td>\n",
              "    </tr>\n",
              "    <tr>\n",
              "      <th>1662</th>\n",
              "      <td>-0.024823</td>\n",
              "    </tr>\n",
              "    <tr>\n",
              "      <th>2032</th>\n",
              "      <td>-0.025479</td>\n",
              "    </tr>\n",
              "    <tr>\n",
              "      <th>2036</th>\n",
              "      <td>-0.027888</td>\n",
              "    </tr>\n",
              "  </tbody>\n",
              "</table>\n",
              "<p>3210 rows × 1 columns</p>\n",
              "</div>\n",
              "      <button class=\"colab-df-convert\" onclick=\"convertToInteractive('df-54060ded-b6e8-4bb0-9055-3888668a028a')\"\n",
              "              title=\"Convert this dataframe to an interactive table.\"\n",
              "              style=\"display:none;\">\n",
              "        \n",
              "  <svg xmlns=\"http://www.w3.org/2000/svg\" height=\"24px\"viewBox=\"0 0 24 24\"\n",
              "       width=\"24px\">\n",
              "    <path d=\"M0 0h24v24H0V0z\" fill=\"none\"/>\n",
              "    <path d=\"M18.56 5.44l.94 2.06.94-2.06 2.06-.94-2.06-.94-.94-2.06-.94 2.06-2.06.94zm-11 1L8.5 8.5l.94-2.06 2.06-.94-2.06-.94L8.5 2.5l-.94 2.06-2.06.94zm10 10l.94 2.06.94-2.06 2.06-.94-2.06-.94-.94-2.06-.94 2.06-2.06.94z\"/><path d=\"M17.41 7.96l-1.37-1.37c-.4-.4-.92-.59-1.43-.59-.52 0-1.04.2-1.43.59L10.3 9.45l-7.72 7.72c-.78.78-.78 2.05 0 2.83L4 21.41c.39.39.9.59 1.41.59.51 0 1.02-.2 1.41-.59l7.78-7.78 2.81-2.81c.8-.78.8-2.07 0-2.86zM5.41 20L4 18.59l7.72-7.72 1.47 1.35L5.41 20z\"/>\n",
              "  </svg>\n",
              "      </button>\n",
              "      \n",
              "  <style>\n",
              "    .colab-df-container {\n",
              "      display:flex;\n",
              "      flex-wrap:wrap;\n",
              "      gap: 12px;\n",
              "    }\n",
              "\n",
              "    .colab-df-convert {\n",
              "      background-color: #E8F0FE;\n",
              "      border: none;\n",
              "      border-radius: 50%;\n",
              "      cursor: pointer;\n",
              "      display: none;\n",
              "      fill: #1967D2;\n",
              "      height: 32px;\n",
              "      padding: 0 0 0 0;\n",
              "      width: 32px;\n",
              "    }\n",
              "\n",
              "    .colab-df-convert:hover {\n",
              "      background-color: #E2EBFA;\n",
              "      box-shadow: 0px 1px 2px rgba(60, 64, 67, 0.3), 0px 1px 3px 1px rgba(60, 64, 67, 0.15);\n",
              "      fill: #174EA6;\n",
              "    }\n",
              "\n",
              "    [theme=dark] .colab-df-convert {\n",
              "      background-color: #3B4455;\n",
              "      fill: #D2E3FC;\n",
              "    }\n",
              "\n",
              "    [theme=dark] .colab-df-convert:hover {\n",
              "      background-color: #434B5C;\n",
              "      box-shadow: 0px 1px 3px 1px rgba(0, 0, 0, 0.15);\n",
              "      filter: drop-shadow(0px 1px 2px rgba(0, 0, 0, 0.3));\n",
              "      fill: #FFFFFF;\n",
              "    }\n",
              "  </style>\n",
              "\n",
              "      <script>\n",
              "        const buttonEl =\n",
              "          document.querySelector('#df-54060ded-b6e8-4bb0-9055-3888668a028a button.colab-df-convert');\n",
              "        buttonEl.style.display =\n",
              "          google.colab.kernel.accessAllowed ? 'block' : 'none';\n",
              "\n",
              "        async function convertToInteractive(key) {\n",
              "          const element = document.querySelector('#df-54060ded-b6e8-4bb0-9055-3888668a028a');\n",
              "          const dataTable =\n",
              "            await google.colab.kernel.invokeFunction('convertToInteractive',\n",
              "                                                     [key], {});\n",
              "          if (!dataTable) return;\n",
              "\n",
              "          const docLinkHtml = 'Like what you see? Visit the ' +\n",
              "            '<a target=\"_blank\" href=https://colab.research.google.com/notebooks/data_table.ipynb>data table notebook</a>'\n",
              "            + ' to learn more about interactive tables.';\n",
              "          element.innerHTML = '';\n",
              "          dataTable['output_type'] = 'display_data';\n",
              "          await google.colab.output.renderOutput(dataTable, element);\n",
              "          const docLink = document.createElement('div');\n",
              "          docLink.innerHTML = docLinkHtml;\n",
              "          element.appendChild(docLink);\n",
              "        }\n",
              "      </script>\n",
              "    </div>\n",
              "  </div>\n",
              "  "
            ]
          },
          "metadata": {},
          "execution_count": 298
        }
      ]
    }
  ]
}